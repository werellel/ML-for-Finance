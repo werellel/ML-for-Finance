{
 "cells": [
  {
   "cell_type": "markdown",
   "metadata": {},
   "source": [
    "Generative models은 새로운 데이터를 생성하는 것이다. 이전에 다루었던 모델과는 반대되는 모델이다. 이미지 분류 모델에서는 고차원의 입력을 받고, 이미지 내용과도 같은 저차원을 출력한다. \n",
    "\n",
    "2017년에 Deepfakes가 인터넷에 떠돌기 시작했다. GANs이 유명인들을 features하여 포르노 비디오를 생성하는데 사용되었다. 2016년에 연구자들은 정치인들이 연설하는 비디오를 입모양과 얼굴 표정까지 완벽하게 표현하는 비디오를 만들었다.\n",
    "\n",
    "이 기술은 부정적인 부분만 있는 것은 아니다. sparse한 데이터를 생성하는데 있어 긍정적으로 쓰일 수 있다. 이 경우에 Generative models은 다른 모델이 학습할 수 있는 리얼한 데이터를 생성할 수 있다. Generative models은 이미지를 translate할 수 있다. 위성 사진을 스트릿 사진으로 변환할 수 있다. 또 다른 예로 website screenshot에서 code를 생성할 수도 있다. Generative model은 ML 모델의 unfairness와 discrimination을 다루는데도 사용할 수 있다.\n",
    "\n",
    "금융 분야에서 data가 sparse한 경우가 있다. 데이터를 생성하여 유용한 features를 찾을 수 있다.\n",
    "\n",
    "알고리즘 트레이딩에서 시뮬레이터에 의해서 데이터가 생성된다. 만약 만든 알고리즘이 global selloff에서 어떻게 하는지 알고 싶을 수 있을 것이다. 그러나 global selloff는 많이 생기진 않는다. 그렇기 때문에 퀀트들은 보통 global selloff 시뮬레이터를 만드는데 많은 시간을 쓴다. 이 시뮬레이터는 엔지니어의 경험과 그들의 느낌적 느낌에 의해 global selloff가 편향될 수 있다. 하지만, 만약 모델이 global selloff의 펀더멘탈을 배울 수 있다면 어떨까? 그리고 무한한 global selloff를 만들 수 있다면 어떨까?\n",
    "\n",
    "이번에는 autoencoder와 GANs을 알아보겠다. autoencoder는 저차원으로 데이터를 압축하고 데이터를 충실하게 재구성한다. GANs은 discriminator가 가짜 이미지와 진짜 이미지를 구별할 수 없도록 generator를 훈련시킨다. \n",
    "\n",
    "### understanding autoencoders\n",
    "\n",
    "기술적으로 autoencoders는 새로운 종류의 데이터를 생성할 수 없기 때문에 generative models은 아니다. 그러나 autoencoder를 조금 변형하면 가능하다. \n",
    "\n",
    "금융 분야에 초점을 둔다면, autoencoders는 신용카드사기 detecting과 같은 애플리케이션을 위한 흥미로운 속성을 가지고 있다. \n",
    "\n",
    "입력 x가 주어질 때 autoencoder는 출력 x를 학습니다. autoencoder는 함수 f를 찾는데 아래의 식이 참이 되도록 하는 것을 찾는다.\n",
    "\n",
    "$$x = f(x)$$\n",
    "\n",
    "별거없어 보일지 모르지만, 여기서 트릭은 autoencoder는 bottleneck을 가지고 있다는 것이다. middle hidden layer의 사이즈는 입력 x의 사이즈보다 작다. 그렇기에 모델은 작은 vector에 x의 중요한 모든 요소를 캡처하기 위해 compressed representation을 학습해야 한다. \n",
    "\n",
    "아래의 그림이 autoencoder의 compressed representation schema(개요)를 잘 보여준다.\n",
    "![nn](https://miro.medium.com/max/528/1*Fm7RPNckepfCgLKtkKfskQ.png)\n",
    "![nn](https://miro.medium.com/max/528/1*FGbATgGye0fTU9SMaCo16A.png)\n",
    "\n",
    "이 compressed representation은 입력의 essence를 캡처하는 것이 목적이다. 예를 들어, genuine one한 것에서 부터 사기 거래를 구별하는 본질적인 것을 캡처하고 싶을 수 있다. Vanila autoencoders는 standard principal component analysis와 비슷한 느낌으로 수행한다. 데이터에서 차원을 줄이고 중요한 것에 집중한다. 그러나 PCA와는 다르게, autoencoder는 특정 type의 데이터를 더 생성하도록 확장할 수 있다. 예를 들어, autoencoder는 이미지나 비디오 데이터를 더 잘 다룰 수 있는데 convolutional layer를 사용하여 데이터의 spatiality를 이용할 수 있다. \n",
    "\n",
    "두개의 autoencoder 모델을 만들어 보겠다. 첫번째 모델은 MNIST 데이터를 사용한다. 두번째는 사기 탐지 작업을 위해 사용할 것이다. \n",
    "\n",
    "### Autoencoder for MNIST\n",
    "\n",
    "나중에 쓸 하이퍼파라미터인 인코딩 차원을 설정한다."
   ]
  },
  {
   "cell_type": "code",
   "execution_count": 1,
   "metadata": {},
   "outputs": [],
   "source": [
    "encoding_dim = 32  "
   ]
  },
  {
   "cell_type": "markdown",
   "metadata": {},
   "source": [
    "Keras의 functional API를 사용하여 autoencoder를 만든다. sequential API로도 만들 수 있지만, functional API와 친해져보자.\n",
    "\n",
    "먼저, functional API 모델을 만들 수 있는 Model 클래스를 임포트하고, Input과 Dense 레이어를 임포트하자. "
   ]
  },
  {
   "cell_type": "code",
   "execution_count": 2,
   "metadata": {},
   "outputs": [],
   "source": [
    "from keras.models import Model\n",
    "from keras.layers import Input, Dense"
   ]
  },
  {
   "cell_type": "code",
   "execution_count": 3,
   "metadata": {},
   "outputs": [],
   "source": [
    "input_img = Input(shape=(784,))\n",
    "encoded = Dense(encoding_dim, activation='relu')(input_img)\n",
    "decoded = Dense(784, activation='sigmoid')(encoded)"
   ]
  },
  {
   "cell_type": "code",
   "execution_count": 4,
   "metadata": {},
   "outputs": [],
   "source": [
    "autoencoder = Model(input_img, decoded)"
   ]
  },
  {
   "cell_type": "markdown",
   "metadata": {},
   "source": [
    "무엇이 만들었는지 보기 위해, autoencoder의 결과를 시각화할 수 있다."
   ]
  },
  {
   "cell_type": "code",
   "execution_count": 5,
   "metadata": {},
   "outputs": [
    {
     "name": "stdout",
     "output_type": "stream",
     "text": [
      "Failed to import pydot. You must install pydot and graphviz for `pydotprint` to work.\n"
     ]
    },
    {
     "data": {
      "text/plain": [
       "<Figure size 1000x1000 with 0 Axes>"
      ]
     },
     "execution_count": 5,
     "metadata": {},
     "output_type": "execute_result"
    }
   ],
   "source": [
    "import numpy as np\n",
    "import matplotlib.pyplot as plt\n",
    "\n",
    "from keras.utils import plot_model\n",
    "plot_model(autoencoder, to_file='model.png', show_shapes=True) \n",
    "plt.figure(figsize=(10, 10))"
   ]
  },
  {
   "cell_type": "code",
   "execution_count": 15,
   "metadata": {},
   "outputs": [],
   "source": [
    "encoder = Model(input_img, encoded)\n",
    "encoded_input = Input(shape=(encoding_dim,))\n",
    "\n",
    "decoder_layer = autoencoder.layers[-1]\n",
    "decoder = Model(encoded_input, decoder_layer(encoded_input))\n"
   ]
  },
  {
   "cell_type": "code",
   "execution_count": 16,
   "metadata": {},
   "outputs": [],
   "source": [
    "autoencoder.compile(optimizer='adadelta', loss='binary_crossentropy')"
   ]
  },
  {
   "cell_type": "code",
   "execution_count": 17,
   "metadata": {},
   "outputs": [],
   "source": [
    "import tensorflow as tf\n",
    "\n",
    "# data_train, data_test = tf.keras.datasets.mnist.load_data()\n",
    "# validation_size = 1000\n",
    "\n",
    "# (images_train, labels_train) = data_train\n",
    "# (images_test, labels_test) = data_test\n",
    "\n",
    "# # images\n",
    "# images_validation = images_train[-validation_size:]\n",
    "# images_train      = images_train[:validation_size]\n",
    "\n",
    "# # labels\n",
    "# labels_validation = labels_train[-validation_size:]\n",
    "# labels_train      = labels_train[:validation_size]\n",
    "\n",
    "# X_train = images_train.astype('float32') / 255.\n",
    "# X_test = images_validation.astype('float32') / 255."
   ]
  },
  {
   "cell_type": "code",
   "execution_count": 18,
   "metadata": {},
   "outputs": [],
   "source": [
    "def mnist_load_data(path='mnist.npz'):\n",
    "    with np.load(path) as f:\n",
    "        x_train, y_train = f['x_train'], f['y_train']\n",
    "        x_test, y_test = f['x_test'], f['y_test']\n",
    "    return (x_train, y_train), (x_test, y_test)\n",
    "        \n",
    "\n",
    "(X_train, y_train), (X_test, y_test) = mnist_load_data(path='../input/mnist.npz')\n",
    "X_train = X_train.astype('float32') / 255.\n",
    "X_test = X_test.astype('float32') / 255."
   ]
  },
  {
   "cell_type": "code",
   "execution_count": 19,
   "metadata": {},
   "outputs": [
    {
     "data": {
      "text/plain": [
       "<matplotlib.image.AxesImage at 0x25d8f129dd8>"
      ]
     },
     "execution_count": 19,
     "metadata": {},
     "output_type": "execute_result"
    },
    {
     "data": {
      "image/png": "[encoded data removed]",
      "text/plain": [
       "<Figure size 432x288 with 1 Axes>"
      ]
     },
     "metadata": {
      "needs_background": "light"
     },
     "output_type": "display_data"
    }
   ],
   "source": [
    "plt.imshow(X_test[0])"
   ]
  },
  {
   "cell_type": "code",
   "execution_count": 20,
   "metadata": {},
   "outputs": [
    {
     "name": "stdout",
     "output_type": "stream",
     "text": [
      "(60000, 784)\n",
      "(10000, 784)\n"
     ]
    }
   ],
   "source": [
    "X_train_flat = X_train.reshape((len(X_train), np.prod(X_train.shape[1:])))\n",
    "X_test_flat = X_test.reshape((len(X_test), np.prod(X_test.shape[1:])))\n",
    "print(X_train_flat.shape)\n",
    "print(X_test_flat.shape)\n"
   ]
  },
  {
   "cell_type": "code",
   "execution_count": 21,
   "metadata": {},
   "outputs": [
    {
     "name": "stdout",
     "output_type": "stream",
     "text": [
      "Epoch 1/50\n",
      "235/235 [==============================] - 1s 3ms/step - loss: 0.6780 - val_loss: 0.6776\n",
      "Epoch 2/50\n",
      "235/235 [==============================] - 1s 3ms/step - loss: 0.6775 - val_loss: 0.6771\n",
      "Epoch 3/50\n",
      "235/235 [==============================] - 1s 3ms/step - loss: 0.6770 - val_loss: 0.6766\n",
      "Epoch 4/50\n",
      "235/235 [==============================] - 1s 3ms/step - loss: 0.6765 - val_loss: 0.6761\n",
      "Epoch 5/50\n",
      "235/235 [==============================] - 1s 3ms/step - loss: 0.6759 - val_loss: 0.6755\n",
      "Epoch 6/50\n",
      "235/235 [==============================] - 1s 3ms/step - loss: 0.6754 - val_loss: 0.6750\n",
      "Epoch 7/50\n",
      "235/235 [==============================] - 1s 3ms/step - loss: 0.6748 - val_loss: 0.6744\n",
      "Epoch 8/50\n",
      "235/235 [==============================] - 1s 3ms/step - loss: 0.6742 - val_loss: 0.6738\n",
      "Epoch 9/50\n",
      "235/235 [==============================] - 1s 3ms/step - loss: 0.6736 - val_loss: 0.6732\n",
      "Epoch 10/50\n",
      "235/235 [==============================] - 1s 3ms/step - loss: 0.6730 - val_loss: 0.6725\n",
      "Epoch 11/50\n",
      "235/235 [==============================] - 1s 3ms/step - loss: 0.6724 - val_loss: 0.6719\n",
      "Epoch 12/50\n",
      "235/235 [==============================] - 1s 3ms/step - loss: 0.6717 - val_loss: 0.6712\n",
      "Epoch 13/50\n",
      "235/235 [==============================] - 1s 3ms/step - loss: 0.6711 - val_loss: 0.6705\n",
      "Epoch 14/50\n",
      "235/235 [==============================] - 1s 3ms/step - loss: 0.6704 - val_loss: 0.6698\n",
      "Epoch 15/50\n",
      "235/235 [==============================] - 1s 3ms/step - loss: 0.6697 - val_loss: 0.6691\n",
      "Epoch 16/50\n",
      "235/235 [==============================] - 1s 3ms/step - loss: 0.6689 - val_loss: 0.6683\n",
      "Epoch 17/50\n",
      "235/235 [==============================] - 1s 3ms/step - loss: 0.6682 - val_loss: 0.6676\n",
      "Epoch 18/50\n",
      "235/235 [==============================] - 1s 3ms/step - loss: 0.6674 - val_loss: 0.6668\n",
      "Epoch 19/50\n",
      "235/235 [==============================] - 1s 3ms/step - loss: 0.6666 - val_loss: 0.6660\n",
      "Epoch 20/50\n",
      "235/235 [==============================] - 1s 3ms/step - loss: 0.6658 - val_loss: 0.6651\n",
      "Epoch 21/50\n",
      "235/235 [==============================] - 1s 3ms/step - loss: 0.6650 - val_loss: 0.6643\n",
      "Epoch 22/50\n",
      "235/235 [==============================] - 1s 3ms/step - loss: 0.6641 - val_loss: 0.6634\n",
      "Epoch 23/50\n",
      "235/235 [==============================] - 1s 3ms/step - loss: 0.6632 - val_loss: 0.6625\n",
      "Epoch 24/50\n",
      "235/235 [==============================] - 1s 3ms/step - loss: 0.6623 - val_loss: 0.6616\n",
      "Epoch 25/50\n",
      "235/235 [==============================] - 1s 3ms/step - loss: 0.6614 - val_loss: 0.6606\n",
      "Epoch 26/50\n",
      "235/235 [==============================] - 1s 3ms/step - loss: 0.6604 - val_loss: 0.6596\n",
      "Epoch 27/50\n",
      "235/235 [==============================] - 1s 3ms/step - loss: 0.6595 - val_loss: 0.6586\n",
      "Epoch 28/50\n",
      "235/235 [==============================] - 1s 3ms/step - loss: 0.6584 - val_loss: 0.6576\n",
      "Epoch 29/50\n",
      "235/235 [==============================] - 1s 3ms/step - loss: 0.6574 - val_loss: 0.6565\n",
      "Epoch 30/50\n",
      "235/235 [==============================] - 1s 3ms/step - loss: 0.6563 - val_loss: 0.6554\n",
      "Epoch 31/50\n",
      "235/235 [==============================] - 1s 3ms/step - loss: 0.6552 - val_loss: 0.6543\n",
      "Epoch 32/50\n",
      "235/235 [==============================] - 1s 3ms/step - loss: 0.6541 - val_loss: 0.6531\n",
      "Epoch 33/50\n",
      "235/235 [==============================] - 1s 3ms/step - loss: 0.6530 - val_loss: 0.6520\n",
      "Epoch 34/50\n",
      "235/235 [==============================] - 1s 3ms/step - loss: 0.6518 - val_loss: 0.6507\n",
      "Epoch 35/50\n",
      "235/235 [==============================] - 1s 3ms/step - loss: 0.6506 - val_loss: 0.6495\n",
      "Epoch 36/50\n",
      "235/235 [==============================] - 1s 3ms/step - loss: 0.6493 - val_loss: 0.6482\n",
      "Epoch 37/50\n",
      "235/235 [==============================] - 1s 3ms/step - loss: 0.6480 - val_loss: 0.6469\n",
      "Epoch 38/50\n",
      "235/235 [==============================] - 1s 3ms/step - loss: 0.6467 - val_loss: 0.6455\n",
      "Epoch 39/50\n",
      "235/235 [==============================] - 1s 3ms/step - loss: 0.6454 - val_loss: 0.6442\n",
      "Epoch 40/50\n",
      "235/235 [==============================] - 1s 3ms/step - loss: 0.6440 - val_loss: 0.6427\n",
      "Epoch 41/50\n",
      "235/235 [==============================] - 1s 3ms/step - loss: 0.6426 - val_loss: 0.6413\n",
      "Epoch 42/50\n",
      "235/235 [==============================] - 1s 3ms/step - loss: 0.6411 - val_loss: 0.6398\n",
      "Epoch 43/50\n",
      "235/235 [==============================] - 1s 3ms/step - loss: 0.6396 - val_loss: 0.6383\n",
      "Epoch 44/50\n",
      "235/235 [==============================] - 1s 3ms/step - loss: 0.6381 - val_loss: 0.6367\n",
      "Epoch 45/50\n",
      "235/235 [==============================] - 1s 3ms/step - loss: 0.6365 - val_loss: 0.6351\n",
      "Epoch 46/50\n",
      "235/235 [==============================] - 1s 3ms/step - loss: 0.6349 - val_loss: 0.6335\n",
      "Epoch 47/50\n",
      "235/235 [==============================] - 1s 3ms/step - loss: 0.6333 - val_loss: 0.6318\n",
      "Epoch 48/50\n",
      "235/235 [==============================] - 1s 3ms/step - loss: 0.6316 - val_loss: 0.6301\n",
      "Epoch 49/50\n",
      "235/235 [==============================] - 1s 3ms/step - loss: 0.6299 - val_loss: 0.6283\n",
      "Epoch 50/50\n",
      "235/235 [==============================] - 1s 3ms/step - loss: 0.6282 - val_loss: 0.6265\n"
     ]
    },
    {
     "data": {
      "text/plain": [
       "<tensorflow.python.keras.callbacks.History at 0x25d8f023278>"
      ]
     },
     "execution_count": 21,
     "metadata": {},
     "output_type": "execute_result"
    }
   ],
   "source": [
    "autoencoder.fit(X_train_flat, X_train_flat,\n",
    "                epochs= 50,\n",
    "                batch_size= 256,\n",
    "                shuffle=True,\n",
    "                validation_data=(X_test_flat, X_test_flat))"
   ]
  },
  {
   "cell_type": "code",
   "execution_count": 24,
   "metadata": {},
   "outputs": [],
   "source": [
    "original = np.expand_dims(X_test_flat[0],0)\n",
    "one = autoencoder.predict(original)"
   ]
  },
  {
   "cell_type": "code",
   "execution_count": 25,
   "metadata": {},
   "outputs": [],
   "source": [
    "one = one.reshape(1,28,28)\n",
    "original = original.reshape(1,28,28)"
   ]
  },
  {
   "cell_type": "code",
   "execution_count": 26,
   "metadata": {},
   "outputs": [
    {
     "data": {
      "image/png": "[encoded data removed]",
      "text/plain": [
       "<Figure size 504x720 with 2 Axes>"
      ]
     },
     "metadata": {
      "needs_background": "light"
     },
     "output_type": "display_data"
    }
   ],
   "source": [
    "fig = plt.figure(figsize=(7, 10))\n",
    "a=fig.add_subplot(1,2,1)\n",
    "a.set_title('Original')\n",
    "imgplot = plt.imshow(original[0,:,:])\n",
    "\n",
    "b=fig.add_subplot(1,2,2)\n",
    "b.set_title('Autoencoder')\n",
    "imgplot = plt.imshow(one[0,:,:])"
   ]
  },
  {
   "cell_type": "code",
   "execution_count": null,
   "metadata": {},
   "outputs": [],
   "source": []
  }
 ],
 "metadata": {
  "kernelspec": {
   "display_name": "Python 3",
   "language": "python",
   "name": "python3"
  },
  "language_info": {
   "codemirror_mode": {
    "name": "ipython",
    "version": 3
   },
   "file_extension": ".py",
   "mimetype": "text/x-python",
   "name": "python",
   "nbconvert_exporter": "python",
   "pygments_lexer": "ipython3",
   "version": "3.6.9"
  }
 },
 "nbformat": 4,
 "nbformat_minor": 2
}
