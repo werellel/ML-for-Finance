{
 "cells": [
  {
   "cell_type": "markdown",
   "metadata": {},
   "source": [
    "구조화된 데이터는 스프레드 시트나 관계형 데이터베이스에 있는 필드가 있는 데이터를 말합니다. 컬럼은 값의 타입을 나타내고 로우는 새로운 entry를 말합니다. 보통 이러한 타입의 데이터는 전통적인 통계 분석에 사용됩니다.\n",
    "\n",
    "일살에서 구조화된 데이터는 비즈니스에서 자주 쓰이고 finance에서 해결해야하는 대부분의 머신 러닝 문제는 구조화된 데이터를 여러가지 방식으로 다룹니다. 주문, 거래, 옵션가, 수급 등 모든 정보들은 스프레드시트나 데이터베이스에 수집됩니다.\n",
    "\n",
    "이번 챕터에서는 구조화된 데이터를의 문제를 credit card fraud로 다룰 것입니다. "
   ]
  },
  {
   "cell_type": "markdown",
   "metadata": {},
   "source": [
    "## The data\n",
    "\n",
    "payment 시뮬레이터에 의해 생성된 인위의 거래 데이터셋을 사용합니다. fraudulent transaction을 찾기 위해 많은 finance 기관에서 사용하는 클래식한 ML 방법을 쓰겠습니다.\n",
    "\n",
    "데이터셋 링크: https://www.kaggle.com/ntnu-testimon/paysim1/data"
   ]
  },
  {
   "cell_type": "markdown",
   "metadata": {},
   "source": [
    "휴리스틱 모델은 빠르고 쉽게 만들 수 있지만 멍청하고 쉽게 사기꾼에게 접수 당합니다. 예로 200,000$에 금액에 대해 휴리스틱 모델을 설정하였다면 199,999$는 디텍션을 피할 수 있습니다. \n",
    "\n",
    "E2E 모델은 전문가의 지식없이 순수하게 수집된 데이터로 부터 학습합니다.  "
   ]
  }
 ],
 "metadata": {
  "kernelspec": {
   "display_name": "Python 3",
   "language": "python",
   "name": "python3"
  },
  "language_info": {
   "codemirror_mode": {
    "name": "ipython",
    "version": 3
   },
   "file_extension": ".py",
   "mimetype": "text/x-python",
   "name": "python",
   "nbconvert_exporter": "python",
   "pygments_lexer": "ipython3",
   "version": "3.7.5"
  }
 },
 "nbformat": 4,
 "nbformat_minor": 2
}
