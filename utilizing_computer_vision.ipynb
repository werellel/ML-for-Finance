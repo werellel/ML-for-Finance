{
 "cells": [
  {
   "cell_type": "markdown",
   "metadata": {},
   "source": [
    "보험 분야에서 컴퓨터 비전이 활용될 수 있는데 보험에 들기 전 고객이 가입한 건물에 대해 조사를 할 경우에 쓰일 수 있습니다.\n",
    "금융 분야의 또 다른 컴퓨터 비전 적용의 예로 은행의 신원 확인 절차를 자동화할 수 있습니다. 증권 쪽에선 컴퓨터 비전이 캔들스틱 차트의 새로운 패턴을 찾는 기술적 분석으로 쓰일 수 있습니다. \n",
    "\n",
    "이번 챕터에서 다루는 토픽\n",
    "1. Convolutional layers\n",
    "2. Padding\n",
    "3. Pooling\n",
    "4. Regularization to prevent overfitting\n",
    "5. Momentum-based optimization\n",
    "6. Batch normalization\n",
    "7. Advanced architectures for computer vision beyond classfication\n",
    "8. A note on libraries"
   ]
  },
  {
   "cell_type": "markdown",
   "metadata": {},
   "source": [
    "## Convolution Neural Networks\n",
    "Convolution Neural Networks 또는 ConvNets, CNN이라고 불리는데 컴퓨터 비전을 작동시키는 엔진입니다. ConvNets은 사이즈가 큰 이미지를 합리적인 신경망의 사이즈를 유지하면서 다룰 수 있게 해줍니다.\n",
    "\n",
    "Convolution Neural Networks의 이름은 수학적 동작 원리에서 왔는데 일반적인 신경망과의 차이점에서 볼 수 있습니다. Convolution은 수학적인 용어인데 행렬에서 다른 행렬을 슬라이딩하는 것을 말합니다. \n",
    "\n",
    "ConvNets을 만들어 MNIST 데이터를 분류 해보겠습니다."
   ]
  },
  {
   "cell_type": "code",
   "execution_count": 1,
   "metadata": {},
   "outputs": [],
   "source": [
    "from keras.datasets import mnist\n",
    "(x_train, y_train), (x_test, y_test) = mnist.load_data()\n",
    "# 데이터 셋은 6만여개의 28*28 픽셀의 이미지를 포함하고 있다. mnist 데이터는 black and white로 구성되어 있다."
   ]
  },
  {
   "cell_type": "code",
   "execution_count": 2,
   "metadata": {},
   "outputs": [
    {
     "data": {
      "text/plain": [
       "(60000, 28, 28)"
      ]
     },
     "execution_count": 2,
     "metadata": {},
     "output_type": "execute_result"
    }
   ],
   "source": [
    "x_train.shape"
   ]
  },
  {
   "cell_type": "code",
   "execution_count": 3,
   "metadata": {},
   "outputs": [
    {
     "data": {
      "text/plain": [
       "(60000, 28, 28, 1)"
      ]
     },
     "execution_count": 3,
     "metadata": {},
     "output_type": "execute_result"
    }
   ],
   "source": [
    "# one-color 채널을 추가\n",
    "import numpy as np\n",
    "x_train = np.expand_dims(x_train, -1)\n",
    "x_test = np.expand_dims(x_test, -1)\n",
    "x_train.shape\n"
   ]
  },
  {
   "cell_type": "code",
   "execution_count": 4,
   "metadata": {},
   "outputs": [],
   "source": [
    "from keras.layers import Conv2D\n",
    "from keras.models import Sequential"
   ]
  },
  {
   "cell_type": "code",
   "execution_count": 5,
   "metadata": {},
   "outputs": [],
   "source": [
    "model = Sequential()\n",
    "img_shape = (28, 28, 1)\n",
    "model.add(Conv2D( filters = 6,\n",
    "                  kernel_size = 3,\n",
    "                  strides = 1,\n",
    "                  padding = 'valid',\n",
    "                  input_shape = img_shape))"
   ]
  },
  {
   "cell_type": "markdown",
   "metadata": {},
   "source": [
    "### Kernel size\n",
    "filter의 사이즈를 kernel_size라고도 부릅니다. 숫자 하나만 지정할 경우 keras에서 스퀘어로 인식합니다. 위 예에서 3을 넣었는데 3*3으로 인식합니다. (3, 4)를 입력으로 주면 3*4를 커널 사이즈로 인식합니다. \n",
    "\n",
    "### Stride size\n",
    "Stride size는 컨볼루션 필터가 이미지 밖으로 얼마나 나갈지 정합니다. 커널 사이즈와 마찬가지로 값 하나만 설정할 경우 수직과 수평의 stride size를 같은 값으로 설정합니다. 그러나 (1, 2)와 같이 입력을 주어 설정할 수도 있습니다.\n",
    "\n",
    "### Padding \n",
    "padding은 zero를 이미지 주변에 감싸는 것입니다.\n",
    "\n",
    "### ReLU activation\n",
    "합성곱 신경망은 선형 스텝만 수행합니다. 필터와 이미지를 곱하는 것은 선형 작업입니다. \n",
    "complex function을 approximate하기 위해선 비선형 활성화 함수가 필요합니다. 컴퓨터 비전에서 가장 가주사용하는 활성화 함수로 Rectified Linear Units, ReLU가 있습니다.\n",
    "\n",
    "$ReLU(x) = max(x, 0)$\n",
    "\n",
    "렐루 함수는 음수의 모든 값을 0으로 바꾸기 때문에 계산량이 다른 활성화 함수보다 적습니다. gradient 즉 기울기가 매우 크고 음의 방향으로 가중치가 곱해질 때 ReLU의 미분은 항상 0입니다. 그래서 가중치가 절대 업데이트되지 않습니다. 이것은 뉴런이 활성화되지 않을 수 있다는 것을 의미하는데 learning rate를 작게함으로써 완화시킬 수 있습니다.\n",
    "\n",
    "렐루 함수는 빠르고 계산량이 저렴하기 때문에 많은 실무자들의 디폴트 활성화 함수입니다. \n",
    "\n",
    "케라스에서 렐루 함수를 쓰는 방법입니다."
   ]
  },
  {
   "cell_type": "code",
   "execution_count": 6,
   "metadata": {},
   "outputs": [],
   "source": [
    "from keras.layers import Activation\n",
    "model.add(Activation('relu'))"
   ]
  },
  {
   "cell_type": "markdown",
   "metadata": {},
   "source": [
    "### MaxPooling2D\n",
    "convolutional layer 다음에 pooling layer를 두는 것은 흔한 관행입니다. Pooling은 feature map의 spatial size를 감소시키는데, 파라미터의 개수를 감소시키는 것으로 볼 수 있고 오버피팅을 방지합니다. \n",
    "\n",
    "맥스 풀링은 플에서 가장 큰 값을 반환합니다. AveragePooling2D는 풀의 평균값을 반환합니다. 맥스풀링은 평균풀링보다 우수한 성능을 종종 주기 때문에 표준으로 쓰입니다. "
   ]
  },
  {
   "cell_type": "code",
   "execution_count": 7,
   "metadata": {},
   "outputs": [],
   "source": [
    "from keras.layers import MaxPool2D\n",
    "model.add(MaxPool2D(pool_size = 2, strides = None , padding='valid'))"
   ]
  },
  {
   "cell_type": "markdown",
   "metadata": {},
   "source": [
    "### Flatten\n",
    "우리의 feature map은 3차원이지만 10개의 클래스에 대한 확률을 가진 1차원의 벡터를 원합니다. 어떻게 3D를 1D로 바꿀까요? Flatten이 바꿉니다.\n",
    "넘파이의 Flatten과 비슷하게 작동합니다. (batch_size, height, width, channels)를 취하고 (batch_size, height * width * channels)를 반환합니다. \n",
    "\n",
    "계산없이 행렬을 reshape할 뿐입니다. 그래서 하이퍼파라미터가 없습니다. "
   ]
  },
  {
   "cell_type": "code",
   "execution_count": 8,
   "metadata": {},
   "outputs": [],
   "source": [
    "from keras.layers import Flatten\n",
    "model.add(Flatten())"
   ]
  },
  {
   "cell_type": "markdown",
   "metadata": {},
   "source": [
    "### Dense\n",
    "\n",
    "ConvNet은 보통 feature extraction part, convolutional layers, classification part로 구성되어 있습니다. plain layer와 모든 다른 타입의 layer를 구별하기 위해 우리는 Dense 레이어라고 그들을 부릅니다. 덴스 레이러는 각 입력 뉴런은 출력 뉴런과 연결되어 있습니다. 우리는 10개의 숫자로 아웃풋을 특정화해야 합니다.\n",
    "\n",
    "아래의 코드로 합니다."
   ]
  },
  {
   "cell_type": "code",
   "execution_count": 9,
   "metadata": {},
   "outputs": [],
   "source": [
    "from keras.layers import Dense\n",
    "model.add(Dense(10))"
   ]
  },
  {
   "cell_type": "markdown",
   "metadata": {},
   "source": [
    "덴스 레이어 후에 멀티 클래스 회귀를 위해 softmax 활성화 함수를 추가합니다."
   ]
  },
  {
   "cell_type": "code",
   "execution_count": 10,
   "metadata": {},
   "outputs": [],
   "source": [
    "model.add(Activation('softmax'))"
   ]
  },
  {
   "cell_type": "code",
   "execution_count": 11,
   "metadata": {},
   "outputs": [
    {
     "name": "stdout",
     "output_type": "stream",
     "text": [
      "Model: \"sequential\"\n",
      "_________________________________________________________________\n",
      "Layer (type)                 Output Shape              Param #   \n",
      "=================================================================\n",
      "conv2d (Conv2D)              (None, 26, 26, 6)         60        \n",
      "_________________________________________________________________\n",
      "activation (Activation)      (None, 26, 26, 6)         0         \n",
      "_________________________________________________________________\n",
      "max_pooling2d (MaxPooling2D) (None, 13, 13, 6)         0         \n",
      "_________________________________________________________________\n",
      "flatten (Flatten)            (None, 1014)              0         \n",
      "_________________________________________________________________\n",
      "dense (Dense)                (None, 10)                10150     \n",
      "_________________________________________________________________\n",
      "activation_1 (Activation)    (None, 10)                0         \n",
      "=================================================================\n",
      "Total params: 10,210\n",
      "Trainable params: 10,210\n",
      "Non-trainable params: 0\n",
      "_________________________________________________________________\n"
     ]
    }
   ],
   "source": [
    "model.summary()"
   ]
  },
  {
   "cell_type": "code",
   "execution_count": 12,
   "metadata": {},
   "outputs": [
    {
     "data": {
      "text/plain": [
       "(60000, 28, 28, 1)"
      ]
     },
     "execution_count": 12,
     "metadata": {},
     "output_type": "execute_result"
    }
   ],
   "source": [
    "x_train.shape"
   ]
  },
  {
   "cell_type": "code",
   "execution_count": 13,
   "metadata": {},
   "outputs": [
    {
     "data": {
      "text/plain": [
       "(60000,)"
      ]
     },
     "execution_count": 13,
     "metadata": {},
     "output_type": "execute_result"
    }
   ],
   "source": [
    "y_train.shape"
   ]
  },
  {
   "cell_type": "markdown",
   "metadata": {},
   "source": [
    "타켓을 원 핫 인코딩 형식으로 변형 시켜 손실 함수를 계산하기 위해 sparse_categorical_crossentropy 손실 함수를 제공합니다. \n",
    "크로스 엔트로피 손실 함수와 같은데 sparse에 쓰인다는 점이 다릅니다. "
   ]
  },
  {
   "cell_type": "code",
   "execution_count": 14,
   "metadata": {},
   "outputs": [],
   "source": [
    "model.compile(loss='sparse_categorical_crossentropy', optimizer = 'adam', metrics=['acc'])"
   ]
  },
  {
   "cell_type": "code",
   "execution_count": 15,
   "metadata": {},
   "outputs": [
    {
     "name": "stdout",
     "output_type": "stream",
     "text": [
      "Epoch 1/10\n",
      "1875/1875 [==============================] - 3s 2ms/step - loss: 1.7565 - acc: 0.8977 - val_loss: 0.2495 - val_acc: 0.9527\n",
      "Epoch 2/10\n",
      "1875/1875 [==============================] - 3s 2ms/step - loss: 0.1706 - acc: 0.9586 - val_loss: 0.1286 - val_acc: 0.9633\n",
      "Epoch 3/10\n",
      "1875/1875 [==============================] - 3s 2ms/step - loss: 0.1058 - acc: 0.9689 - val_loss: 0.1133 - val_acc: 0.9690\n",
      "Epoch 4/10\n",
      "1875/1875 [==============================] - 3s 2ms/step - loss: 0.0903 - acc: 0.9717 - val_loss: 0.1094 - val_acc: 0.9675\n",
      "Epoch 5/10\n",
      "1875/1875 [==============================] - 3s 2ms/step - loss: 0.0794 - acc: 0.9751 - val_loss: 0.1017 - val_acc: 0.9708\n",
      "Epoch 6/10\n",
      "1875/1875 [==============================] - 3s 2ms/step - loss: 0.0731 - acc: 0.9769 - val_loss: 0.1024 - val_acc: 0.9713\n",
      "Epoch 7/10\n",
      "1875/1875 [==============================] - 3s 2ms/step - loss: 0.0669 - acc: 0.9794 - val_loss: 0.1053 - val_acc: 0.9719\n",
      "Epoch 8/10\n",
      "1875/1875 [==============================] - 3s 2ms/step - loss: 0.0618 - acc: 0.9800 - val_loss: 0.0971 - val_acc: 0.9740\n",
      "Epoch 9/10\n",
      "1875/1875 [==============================] - 3s 2ms/step - loss: 0.0592 - acc: 0.9804 - val_loss: 0.1154 - val_acc: 0.9709\n",
      "Epoch 10/10\n",
      "1875/1875 [==============================] - 3s 2ms/step - loss: 0.0571 - acc: 0.9826 - val_loss: 0.1115 - val_acc: 0.9735\n"
     ]
    }
   ],
   "source": [
    "history = model.fit(x_train,\n",
    "                    y_train,\n",
    "                    batch_size=32,\n",
    "                    epochs=10,\n",
    "                    validation_data=(x_test,y_test))"
   ]
  },
  {
   "cell_type": "code",
   "execution_count": 17,
   "metadata": {},
   "outputs": [
    {
     "data": {
      "image/png": "[encoded data removed]",
      "text/plain": [
       "<Figure size 720x432 with 1 Axes>"
      ]
     },
     "metadata": {
      "needs_background": "light"
     },
     "output_type": "display_data"
    }
   ],
   "source": [
    "import matplotlib.pyplot as plt\n",
    "\n",
    "fig, ax = plt.subplots(figsize=(10,6))\n",
    "gen = ax.plot(history.history['val_acc'], label='Validation Accuracy')\n",
    "fr = ax.plot(history.history['acc'],dashes=[5, 2], label='Training Accuracy')\n",
    "\n",
    "legend = ax.legend(loc='lower center', shadow=True)\n",
    "\n",
    "plt.show()"
   ]
  },
  {
   "cell_type": "code",
   "execution_count": 18,
   "metadata": {},
   "outputs": [
    {
     "data": {
      "text/plain": [
       "{'loss': [1.7564914226531982,\n",
       "  0.17063270509243011,\n",
       "  0.10579264163970947,\n",
       "  0.0903123989701271,\n",
       "  0.07935269922018051,\n",
       "  0.07313300669193268,\n",
       "  0.06687050312757492,\n",
       "  0.061809785664081573,\n",
       "  0.05921204015612602,\n",
       "  0.057056695222854614],\n",
       " 'acc': [0.8977000117301941,\n",
       "  0.9585999846458435,\n",
       "  0.9689333438873291,\n",
       "  0.9716833233833313,\n",
       "  0.9750999808311462,\n",
       "  0.9768666625022888,\n",
       "  0.979366660118103,\n",
       "  0.9800333380699158,\n",
       "  0.980400025844574,\n",
       "  0.982616662979126],\n",
       " 'val_loss': [0.24953195452690125,\n",
       "  0.1285695731639862,\n",
       "  0.11332876235246658,\n",
       "  0.10941430926322937,\n",
       "  0.10165753215551376,\n",
       "  0.10240443050861359,\n",
       "  0.10530485957860947,\n",
       "  0.09713193029165268,\n",
       "  0.11537721008062363,\n",
       "  0.11145763844251633],\n",
       " 'val_acc': [0.9527000188827515,\n",
       "  0.9632999897003174,\n",
       "  0.968999981880188,\n",
       "  0.9674999713897705,\n",
       "  0.97079998254776,\n",
       "  0.9713000059127808,\n",
       "  0.9718999862670898,\n",
       "  0.9739999771118164,\n",
       "  0.9708999991416931,\n",
       "  0.9735000133514404]}"
      ]
     },
     "execution_count": 18,
     "metadata": {},
     "output_type": "execute_result"
    }
   ],
   "source": [
    "history.history"
   ]
  }
 ],
 "metadata": {
  "kernelspec": {
   "display_name": "Python 3",
   "language": "python",
   "name": "python3"
  },
  "language_info": {
   "codemirror_mode": {
    "name": "ipython",
    "version": 3
   },
   "file_extension": ".py",
   "mimetype": "text/x-python",
   "name": "python",
   "nbconvert_exporter": "python",
   "pygments_lexer": "ipython3",
   "version": "3.6.9"
  }
 },
 "nbformat": 4,
 "nbformat_minor": 2
}
