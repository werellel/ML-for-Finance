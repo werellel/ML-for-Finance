{
 "cells": [
  {
   "cell_type": "markdown",
   "metadata": {},
   "source": [
    "보험 분야에서 컴퓨터 비전이 활용될 수 있는데 보험에 들기 전 고객이 가입한 건물에 대해 조사를 할 경우에 쓰일 수 있습니다.\n",
    "금융 분야의 또 다른 컴퓨터 비전 적용의 예로 은행의 신원 확인 절차를 자동화할 수 있습니다. 증권 쪽에선 컴퓨터 비전이 캔들스틱 차트의 새로운 패턴을 찾는 기술적 분석으로 쓰일 수 있습니다. \n",
    "\n",
    "이번 챕터에서 다루는 토픽\n",
    "1. Convolutional layers\n",
    "2. Padding\n",
    "3. Pooling\n",
    "4. Regularization to prevent overfitting\n",
    "5. Momentum-based optimization\n",
    "6. Batch normalization\n",
    "7. Advanced architectures for computer vision beyond classfication\n",
    "8. A note on libraries"
   ]
  },
  {
   "cell_type": "markdown",
   "metadata": {},
   "source": [
    "## Convolution Neural Networks\n",
    "Convolution Neural Networks 또는 ConvNets, CNN이라고 불리는데 컴퓨터 비전을 작동시키는 엔진입니다. ConvNets은 사이즈가 큰 이미지를 합리적인 신경망의 사이즈를 유지하면서 다룰 수 있게 해줍니다.\n",
    "\n",
    "Convolution Neural Networks의 이름은 수학적 동작 원리에서 왔는데 일반적인 신경망과의 차이점에서 볼 수 있습니다. Convolution은 수학적인 용어인데 행렬에서 다른 행렬을 슬라이딩하는 것을 말합니다. \n",
    "\n",
    "ConvNets을 만들어 MNIST 데이터를 분류 해보겠습니다."
   ]
  },
  {
   "cell_type": "code",
   "execution_count": 1,
   "metadata": {},
   "outputs": [],
   "source": [
    "from keras.datasets import mnist\n",
    "(x_train, y_train), (x_test, y_test) = mnist.load_data()\n",
    "# 데이터 셋은 6만여개의 28*28 픽셀의 이미지를 포함하고 있다. mnist 데이터는 black and white로 구성되어 있다."
   ]
  },
  {
   "cell_type": "code",
   "execution_count": 2,
   "metadata": {},
   "outputs": [
    {
     "data": {
      "text/plain": [
       "(60000, 28, 28)"
      ]
     },
     "execution_count": 2,
     "metadata": {},
     "output_type": "execute_result"
    }
   ],
   "source": [
    "x_train.shape"
   ]
  },
  {
   "cell_type": "code",
   "execution_count": 3,
   "metadata": {},
   "outputs": [
    {
     "data": {
      "text/plain": [
       "(60000, 28, 28, 1)"
      ]
     },
     "execution_count": 3,
     "metadata": {},
     "output_type": "execute_result"
    }
   ],
   "source": [
    "# one-color 채널을 추가\n",
    "import numpy as np\n",
    "x_train = np.expand_dims(x_train, -1)\n",
    "x_test = np.expand_dims(x_test, -1)\n",
    "x_train.shape\n"
   ]
  },
  {
   "cell_type": "code",
   "execution_count": 4,
   "metadata": {},
   "outputs": [],
   "source": [
    "from keras.layers import Conv2D\n",
    "from keras.models import Sequential"
   ]
  },
  {
   "cell_type": "code",
   "execution_count": 5,
   "metadata": {},
   "outputs": [],
   "source": [
    "model = Sequential()\n",
    "img_shape = (28, 28, 1)\n",
    "model.add(Conv2D( filters = 6,\n",
    "                  kernel_size = 3,\n",
    "                  strides = 1,\n",
    "                  padding = 'valid',\n",
    "                  input_shape = img_shape))"
   ]
  },
  {
   "cell_type": "markdown",
   "metadata": {},
   "source": [
    "### Kernel size\n",
    "filter의 사이즈를 kernel_size라고도 부릅니다. 숫자 하나만 지정할 경우 keras에서 스퀘어로 인식합니다. 위 예에서 3을 넣었는데 3*3으로 인식합니다. (3, 4)를 입력으로 주면 3*4를 커널 사이즈로 인식합니다. \n",
    "\n",
    "### Stride size\n",
    "Stride size는 컨볼루션 필터가 이미지 밖으로 얼마나 나갈지 정합니다. 커널 사이즈와 마찬가지로 값 하나만 설정할 경우 수직과 수평의 stride size를 같은 값으로 설정합니다. 그러나 (1, 2)와 같이 입력을 주어 설정할 수도 있습니다.\n",
    "\n",
    "### Padding \n",
    "padding은 zero를 이미지 주변에 감싸는 것입니다.\n",
    "\n",
    "### ReLU activation\n",
    "합성곱 신경망은 선형 스텝만 수행합니다. 필터와 이미지를 곱하는 것은 선형 작업입니다. \n",
    "complex function을 approximate하기 위해선 비선형 활성화 함수가 필요합니다. 컴퓨터 비전에서 가장 가주사용하는 활성화 함수로 Rectified Linear Units, ReLU가 있습니다.\n",
    "\n",
    "$ReLU(x) = max(x, 0)$\n",
    "\n",
    "렐루 함수는 음수의 모든 값을 0으로 바꾸기 때문에 계산량이 다른 활성화 함수보다 적습니다. gradient 즉 기울기가 매우 크고 음의 방향으로 가중치가 곱해질 때 ReLU의 미분은 항상 0입니다. 그래서 가중치가 절대 업데이트되지 않습니다. 이것은 뉴런이 활성화되지 않을 수 있다는 것을 의미하는데 learning rate를 작게함으로써 완화시킬 수 있습니다.\n",
    "\n",
    "렐루 함수는 빠르고 계산량이 저렴하기 때문에 많은 실무자들의 디폴트 활성화 함수입니다. \n",
    "\n",
    "케라스에서 렐루 함수를 쓰는 방법입니다."
   ]
  },
  {
   "cell_type": "code",
   "execution_count": 6,
   "metadata": {},
   "outputs": [],
   "source": [
    "from keras.layers import Activation\n",
    "model.add(Activation('relu'))"
   ]
  },
  {
   "cell_type": "markdown",
   "metadata": {},
   "source": [
    "### MaxPooling2D\n",
    "convolutional layer 다음에 pooling layer를 두는 것은 흔한 관행입니다. Pooling은 feature map의 spatial size를 감소시키는데, 파라미터의 개수를 감소시키는 것으로 볼 수 있고 오버피팅을 방지합니다. \n",
    "\n",
    "맥스 풀링은 플에서 가장 큰 값을 반환합니다. AveragePooling2D는 풀의 평균값을 반환합니다. 맥스풀링은 평균풀링보다 우수한 성능을 종종 주기 때문에 표준으로 쓰입니다. "
   ]
  },
  {
   "cell_type": "code",
   "execution_count": 7,
   "metadata": {},
   "outputs": [],
   "source": [
    "from keras.layers import MaxPool2D\n",
    "model.add(MaxPool2D(pool_size = 2, strides = None , padding='valid'))"
   ]
  },
  {
   "cell_type": "markdown",
   "metadata": {},
   "source": [
    "### Flatten\n",
    "우리의 feature map은 3차원이지만 10개의 클래스에 대한 확률을 가진 1차원의 벡터를 원합니다. 어떻게 3D를 1D로 바꿀까요? Flatten이 바꿉니다.\n",
    "넘파이의 Flatten과 비슷하게 작동합니다. (batch_size, height, width, channels)를 취하고 (batch_size, height * width * channels)를 반환합니다. \n",
    "\n",
    "계산없이 행렬을 reshape할 뿐입니다. 그래서 하이퍼파라미터가 없습니다. "
   ]
  },
  {
   "cell_type": "code",
   "execution_count": 8,
   "metadata": {},
   "outputs": [],
   "source": [
    "from keras.layers import Flatten\n",
    "model.add(Flatten())"
   ]
  },
  {
   "cell_type": "markdown",
   "metadata": {},
   "source": [
    "### Dense\n",
    "\n",
    "ConvNet은 보통 feature extraction part, convolutional layers, classification part로 구성되어 있습니다. plain layer와 모든 다른 타입의 layer를 구별하기 위해 우리는 Dense 레이어라고 그들을 부릅니다. 덴스 레이러는 각 입력 뉴런은 출력 뉴런과 연결되어 있습니다. 우리는 10개의 숫자로 아웃풋을 특정화해야 합니다.\n",
    "\n",
    "아래의 코드로 합니다."
   ]
  },
  {
   "cell_type": "code",
   "execution_count": 9,
   "metadata": {},
   "outputs": [],
   "source": [
    "from keras.layers import Dense\n",
    "model.add(Dense(10))"
   ]
  },
  {
   "cell_type": "markdown",
   "metadata": {},
   "source": [
    "덴스 레이어 후에 멀티 클래스 회귀를 위해 softmax 활성화 함수를 추가합니다."
   ]
  },
  {
   "cell_type": "code",
   "execution_count": 10,
   "metadata": {},
   "outputs": [],
   "source": [
    "model.add(Activation('softmax'))"
   ]
  },
  {
   "cell_type": "code",
   "execution_count": 11,
   "metadata": {},
   "outputs": [
    {
     "name": "stdout",
     "output_type": "stream",
     "text": [
      "Model: \"sequential\"\n",
      "_________________________________________________________________\n",
      "Layer (type)                 Output Shape              Param #   \n",
      "=================================================================\n",
      "conv2d (Conv2D)              (None, 26, 26, 6)         60        \n",
      "_________________________________________________________________\n",
      "activation (Activation)      (None, 26, 26, 6)         0         \n",
      "_________________________________________________________________\n",
      "max_pooling2d (MaxPooling2D) (None, 13, 13, 6)         0         \n",
      "_________________________________________________________________\n",
      "flatten (Flatten)            (None, 1014)              0         \n",
      "_________________________________________________________________\n",
      "dense (Dense)                (None, 10)                10150     \n",
      "_________________________________________________________________\n",
      "activation_1 (Activation)    (None, 10)                0         \n",
      "=================================================================\n",
      "Total params: 10,210\n",
      "Trainable params: 10,210\n",
      "Non-trainable params: 0\n",
      "_________________________________________________________________\n"
     ]
    }
   ],
   "source": [
    "model.summary()"
   ]
  },
  {
   "cell_type": "code",
   "execution_count": 12,
   "metadata": {},
   "outputs": [
    {
     "data": {
      "text/plain": [
       "(60000, 28, 28, 1)"
      ]
     },
     "execution_count": 12,
     "metadata": {},
     "output_type": "execute_result"
    }
   ],
   "source": [
    "x_train.shape"
   ]
  },
  {
   "cell_type": "code",
   "execution_count": 13,
   "metadata": {},
   "outputs": [
    {
     "data": {
      "text/plain": [
       "(60000,)"
      ]
     },
     "execution_count": 13,
     "metadata": {},
     "output_type": "execute_result"
    }
   ],
   "source": [
    "y_train.shape"
   ]
  },
  {
   "cell_type": "markdown",
   "metadata": {},
   "source": [
    "타켓을 원 핫 인코딩 형식으로 변형 시켜 손실 함수를 계산하기 위해 sparse_categorical_crossentropy 손실 함수를 제공합니다. \n",
    "크로스 엔트로피 손실 함수와 같은데 sparse에 쓰인다는 점이 다릅니다. "
   ]
  },
  {
   "cell_type": "code",
   "execution_count": 14,
   "metadata": {},
   "outputs": [],
   "source": [
    "model.compile(loss='sparse_categorical_crossentropy', optimizer = 'adam', metrics=['acc'])"
   ]
  },
  {
   "cell_type": "code",
   "execution_count": 15,
   "metadata": {},
   "outputs": [
    {
     "name": "stdout",
     "output_type": "stream",
     "text": [
      "Epoch 1/10\n",
      "1875/1875 [==============================] - 3s 2ms/step - loss: 1.8673 - acc: 0.8959 - val_loss: 0.3461 - val_acc: 0.9466\n",
      "Epoch 2/10\n",
      "1875/1875 [==============================] - 3s 2ms/step - loss: 0.2225 - acc: 0.9535 - val_loss: 0.1718 - val_acc: 0.9561\n",
      "Epoch 3/10\n",
      "1875/1875 [==============================] - 3s 2ms/step - loss: 0.1231 - acc: 0.9658 - val_loss: 0.1298 - val_acc: 0.9608\n",
      "Epoch 4/10\n",
      "1875/1875 [==============================] - 3s 2ms/step - loss: 0.1004 - acc: 0.9706 - val_loss: 0.1239 - val_acc: 0.9641\n",
      "Epoch 5/10\n",
      "1875/1875 [==============================] - 3s 2ms/step - loss: 0.0920 - acc: 0.9720 - val_loss: 0.1078 - val_acc: 0.9676\n",
      "Epoch 6/10\n",
      "1875/1875 [==============================] - 3s 2ms/step - loss: 0.0814 - acc: 0.9748 - val_loss: 0.1097 - val_acc: 0.9662\n",
      "Epoch 7/10\n",
      "1875/1875 [==============================] - 3s 2ms/step - loss: 0.0783 - acc: 0.9761 - val_loss: 0.1166 - val_acc: 0.9683\n",
      "Epoch 8/10\n",
      "1875/1875 [==============================] - 3s 2ms/step - loss: 0.0692 - acc: 0.9786 - val_loss: 0.1213 - val_acc: 0.9694\n",
      "Epoch 9/10\n",
      "1875/1875 [==============================] - 3s 2ms/step - loss: 0.0656 - acc: 0.9799 - val_loss: 0.1185 - val_acc: 0.9692\n",
      "Epoch 10/10\n",
      "1875/1875 [==============================] - 3s 2ms/step - loss: 0.0615 - acc: 0.9808 - val_loss: 0.1141 - val_acc: 0.9715\n"
     ]
    }
   ],
   "source": [
    "history = model.fit(x_train,\n",
    "                    y_train,\n",
    "                    batch_size=32,\n",
    "                    epochs=10,\n",
    "                    validation_data=(x_test,y_test))"
   ]
  },
  {
   "cell_type": "code",
   "execution_count": 17,
   "metadata": {},
   "outputs": [
    {
     "data": {
      "image/png": "[encoded data removed]",
      "text/plain": [
       "<Figure size 720x432 with 1 Axes>"
      ]
     },
     "metadata": {
      "needs_background": "light"
     },
     "output_type": "display_data"
    }
   ],
   "source": [
    "import matplotlib.pyplot as plt\n",
    "\n",
    "fig, ax = plt.subplots(figsize=(10,6))\n",
    "gen = ax.plot(history.history['val_acc'], label='Validation Accuracy')\n",
    "fr = ax.plot(history.history['acc'],dashes=[5, 2], label='Training Accuracy')\n",
    "\n",
    "legend = ax.legend(loc='lower center', shadow=True)\n",
    "\n",
    "plt.show()"
   ]
  },
  {
   "cell_type": "code",
   "execution_count": 18,
   "metadata": {},
   "outputs": [
    {
     "data": {
      "text/plain": [
       "{'loss': [1.8673193454742432,\n",
       "  0.2225496470928192,\n",
       "  0.1231493353843689,\n",
       "  0.10039357095956802,\n",
       "  0.09203344583511353,\n",
       "  0.08135443180799484,\n",
       "  0.0783209502696991,\n",
       "  0.0691954642534256,\n",
       "  0.06558876484632492,\n",
       "  0.06149695813655853],\n",
       " 'acc': [0.8958500027656555,\n",
       "  0.953499972820282,\n",
       "  0.9658499956130981,\n",
       "  0.9706000089645386,\n",
       "  0.9720333218574524,\n",
       "  0.9748166799545288,\n",
       "  0.9760500192642212,\n",
       "  0.9786166548728943,\n",
       "  0.9799166917800903,\n",
       "  0.980816662311554],\n",
       " 'val_loss': [0.3461293578147888,\n",
       "  0.171758234500885,\n",
       "  0.12976320087909698,\n",
       "  0.12389368563890457,\n",
       "  0.1078491359949112,\n",
       "  0.10967761278152466,\n",
       "  0.11664450913667679,\n",
       "  0.12127645313739777,\n",
       "  0.11845466494560242,\n",
       "  0.11407841742038727],\n",
       " 'val_acc': [0.9466000199317932,\n",
       "  0.9560999870300293,\n",
       "  0.9607999920845032,\n",
       "  0.9641000032424927,\n",
       "  0.9675999879837036,\n",
       "  0.9661999940872192,\n",
       "  0.9682999849319458,\n",
       "  0.9693999886512756,\n",
       "  0.9692000150680542,\n",
       "  0.9714999794960022]}"
      ]
     },
     "execution_count": 18,
     "metadata": {},
     "output_type": "execute_result"
    }
   ],
   "source": [
    "history.history"
   ]
  },
  {
   "cell_type": "markdown",
   "metadata": {},
   "source": [
    "### Momentum\n",
    "\n",
    "모델 파라미터를 곧바로 업데이트 시키기 보다는 이동 평균의 가중치를 이용해서 업데이트 하는 것 이상치로 보이는 gradient에 대해서 moving average를 취하면 이상치를 부드럽게 만들고 경사의 general한 방향을 capture할 수 있다. \n",
    "\n",
    "$V_t = \\beta * V_{t-1} + (1-\\beta) * \\theta_t$\n",
    "\n",
    "$\\theta_t$는 새로운 값을 의미하고 베타는 이전의 이동 평균에서 얼마를 가져올지를 의미한다.\n",
    "\n",
    "모멘텀을 사용하면 robust하게 학습할 수 있다. 아래의 코드로 모멘텀을 설정할 수 있다."
   ]
  },
  {
   "cell_type": "code",
   "execution_count": 19,
   "metadata": {},
   "outputs": [],
   "source": [
    "from keras.optimizers import SGD\n",
    "momentum_optimizer = SGD(lr= 0.01, momentum=0.9)"
   ]
  },
  {
   "cell_type": "code",
   "execution_count": 20,
   "metadata": {},
   "outputs": [],
   "source": [
    "model.compile(optimizer = momentum_optimizer, loss = 'sparse_categorical_crossentropy', metrics=['acc'])"
   ]
  },
  {
   "cell_type": "markdown",
   "metadata": {},
   "source": [
    "### The Adam optimizer\n",
    "\n",
    "Adaptive Momentum Estimation는 경사 하강 잡을 효율적으로 할 수 있도록 도와준다. adam 옵티마이저는 모멘텀 옵티마이저가 했던 것 처럼 gradient의 지수가중이동평균을 계산한다. 아래의 formula로 계산한다.\n",
    "\n",
    "$V_{dW} = \\beta_1 * V_{dW} + (1 - \\beta_1) * dW$\n",
    "\n",
    "그리고 squared gradient의 지수가중이동평균을 계산한다. \n",
    "\n",
    "$S_{dW} = \\beta_2 * S_{dW} + (1 - \\beta_2) * dW^2$\n",
    "\n",
    "그리고 아래와 같이 모델 파라미터를 업데이트 한다.\n",
    "\n",
    "$W = W - \\alpha * {V_{dW} \\over \\sqrt{S_{dW}} + \\epsilon} $\n",
    "\n",
    "여기서 epsilons는 division by zero를 피하기 위한 아주 작은 숫자이다.\n",
    "\n",
    "경사(기울기)가 매우 클 때 업데이트 속도를 줄여주고 outlier에 대한 학습을 안정화 시킨다. \n",
    "\n",
    "아담에서는 모멘텀 팩터 베타 하나만 가진 것에 반해 베타1과 베타2라는 하이퍼파라미터를 가진다. 각각 0.9와 0.999를 추천한다.\n",
    "\n",
    "케라스에선 아래와 같이 사용한다."
   ]
  },
  {
   "cell_type": "code",
   "execution_count": 21,
   "metadata": {},
   "outputs": [],
   "source": [
    "from keras.optimizers import Adam\n",
    "adam_optimizer = Adam(lr = 0.1, beta_1 = 0.9, beta_2 = 0.999, epsilon=1e-08)"
   ]
  },
  {
   "cell_type": "code",
   "execution_count": 22,
   "metadata": {},
   "outputs": [],
   "source": [
    "model.compile(optimizer = adam_optimizer, loss = 'sparse_categorical_crossentropy', metrics=['acc'])"
   ]
  },
  {
   "cell_type": "markdown",
   "metadata": {},
   "source": [
    "### Regularization\n",
    "\n",
    "Regularization은 오버피팅을 피하기 위한 기술이다. 오버피팅은 훈련 데이터에 너무 잘 맞는 것을 말한다. 상용이나 테스트 데이터에선 잘 맞지 않는다. 오버피팅은 high variance라고 언급되며 언더피팅은 high bias라고 언급된다. \n",
    "\n",
    "클래식한 통계 학습에선 bias-variance 트레이트 오프에 집중을 많이한다. 신경망에서 Regularization은 고전적인 통계 학습에서 많이 차용한다. 그러나 현대 기계 학습 연구는 다른 하이퍼 파라미터가 bias과 variance에 영향을 미친다는 개념인 \"직교성(orthogonality)\"의 개념을 수용하기 시작하고 있다.\n",
    "\n",
    "이 hyperparameter를 분리함으로써 bias-variance 트레이드 오프를 깨부실 수 있으며 generalize well 하고 정확한 예측을 하는 모델을 찾을 수 있다. 그러나 이러한 편향과 분산이 작은 모델을 만들기 위한 방법은 많은 양의 훈련 데이터가 필요하기 때문에 쉽지 않다."
   ]
  },
  {
   "cell_type": "markdown",
   "metadata": {},
   "source": [
    "### L2 regularization\n",
    "\n",
    "overfitting에 대응하기 위한 인기있는 기술은 L2 regularization이다. L2 regularization은 loss function에 제곱 가중치 합을 추가한다. 아래의 formula에서 예를 확인할 수 있다. \n",
    "\n",
    "$L_regularized(W) = L(W) + {\\lambda \\over 2N}\\sum {W^2} $\n",
    "\n",
    "N은 테레이닝 example의 수이고 lambda는 regularization hyperparameter인데, 얼마나 regularization할지 정하는 것을 의미한다. 보통 0.01로 설정한다. L2 regularization을 loss function에 추가하면 높은 가중치는 loss를 증가시키고 알고리즘이 가중치를 줄인다. 가중치가 0정도로 작으면 덜 의존한다는 것을 의미한다.\n",
    "\n",
    "regularization 알고리즘은 단일 feature와 모든 single node activation에 덜 의존하며 전체적인 관점에서 feature와 activation을 고려한다. 오버피팅을 막는 알고리즘이다.\n",
    "\n",
    "### L1 regularization\n",
    "\n",
    "L2 regularization과 굉장이 유사하다. sum of square를 추가하는 대신 sum of 절대값을 추가한다. \n",
    "\n",
    "$L_regularized(W) = L(W) + {\\lambda \\over 2N}\\sum {||W||} $\n"
   ]
  },
  {
   "cell_type": "markdown",
   "metadata": {},
   "source": [
    "### Regularization in Keras \n",
    "\n",
    "Keras에서 가중치에 적용되는 regularizer를 kernel_regularizer라고 부른다. bias에 적용하는 것은 bias_regularizer라고 부른다. 그리고 Regularization을 노드들의 활성화에 적용할 수 있는데(활성화가 강하게 되는 것을 막기 위해) activity_regularizer라고 한다. \n",
    "\n",
    "L2 Regularization을 신경망에 적용해보자. "
   ]
  },
  {
   "cell_type": "code",
   "execution_count": 25,
   "metadata": {},
   "outputs": [],
   "source": [
    "from keras.regularizers import l2\n",
    "\n",
    "model = Sequential()\n",
    "\n",
    "model.add(Conv2D(6,3,input_shape=img_shape, kernel_regularizer=l2(0.01)))\n",
    "model.add(Activation('relu'))\n",
    "\n",
    "model.add(MaxPool2D(2))\n",
    "\n",
    "model.add(Conv2D(12,3,activity_regularizer=l2(0.01)))\n",
    "\n",
    "model.add(Activation('relu'))\n",
    "\n",
    "model.add(MaxPool2D(2))\n",
    "\n",
    "model.add(Flatten())\n",
    "\n",
    "model.add(Dense(10,bias_regularizer=l2(0.01)))\n",
    "\n",
    "model.add(Activation('softmax'))"
   ]
  },
  {
   "cell_type": "code",
   "execution_count": 26,
   "metadata": {},
   "outputs": [],
   "source": [
    "model.compile(loss='sparse_categorical_crossentropy', optimizer = 'adam', metrics=['acc'])"
   ]
  },
  {
   "cell_type": "code",
   "execution_count": 27,
   "metadata": {},
   "outputs": [
    {
     "name": "stdout",
     "output_type": "stream",
     "text": [
      "Epoch 1/10\n",
      "1875/1875 [==============================] - 4s 2ms/step - loss: 376.2075 - acc: 0.6754 - val_loss: 2.8582 - val_acc: 0.7999\n",
      "Epoch 2/10\n",
      "1875/1875 [==============================] - 4s 2ms/step - loss: 1.6952 - acc: 0.8383 - val_loss: 1.1901 - val_acc: 0.8792\n",
      "Epoch 3/10\n",
      "1875/1875 [==============================] - 4s 2ms/step - loss: 0.9839 - acc: 0.8891 - val_loss: 0.8012 - val_acc: 0.9174\n",
      "Epoch 4/10\n",
      "1875/1875 [==============================] - 4s 2ms/step - loss: 0.7146 - acc: 0.9104 - val_loss: 0.5980 - val_acc: 0.9287\n",
      "Epoch 5/10\n",
      "1875/1875 [==============================] - 4s 2ms/step - loss: 0.5882 - acc: 0.9203 - val_loss: 0.5506 - val_acc: 0.9219\n",
      "Epoch 6/10\n",
      "1875/1875 [==============================] - 4s 2ms/step - loss: 0.5122 - acc: 0.9259 - val_loss: 0.4795 - val_acc: 0.9333\n",
      "Epoch 7/10\n",
      "1875/1875 [==============================] - 4s 2ms/step - loss: 0.4639 - acc: 0.9276 - val_loss: 0.4392 - val_acc: 0.9330\n",
      "Epoch 8/10\n",
      "1875/1875 [==============================] - 4s 2ms/step - loss: 0.4240 - acc: 0.9297 - val_loss: 0.3778 - val_acc: 0.9341\n",
      "Epoch 9/10\n",
      "1875/1875 [==============================] - 4s 2ms/step - loss: 0.3763 - acc: 0.9367 - val_loss: 0.3778 - val_acc: 0.9382\n",
      "Epoch 10/10\n",
      "1875/1875 [==============================] - 4s 2ms/step - loss: 0.3391 - acc: 0.9403 - val_loss: 0.3184 - val_acc: 0.9459\n"
     ]
    }
   ],
   "source": [
    "history = model.fit(x_train,\n",
    "                    y_train,\n",
    "                    batch_size=32,\n",
    "                    epochs=10,\n",
    "                    validation_data=(x_test,y_test))"
   ]
  },
  {
   "cell_type": "code",
   "execution_count": 28,
   "metadata": {},
   "outputs": [
    {
     "data": {
      "image/png": "[encoded data removed]",
      "text/plain": [
       "<Figure size 720x432 with 1 Axes>"
      ]
     },
     "metadata": {
      "needs_background": "light"
     },
     "output_type": "display_data"
    }
   ],
   "source": [
    "import matplotlib.pyplot as plt\n",
    "\n",
    "fig, ax = plt.subplots(figsize=(10,6))\n",
    "gen = ax.plot(history.history['val_acc'], label='Validation Accuracy')\n",
    "fr = ax.plot(history.history['acc'],dashes=[5, 2], label='Training Accuracy')\n",
    "\n",
    "legend = ax.legend(loc='lower center', shadow=True)\n",
    "\n",
    "plt.show()"
   ]
  },
  {
   "cell_type": "markdown",
   "metadata": {},
   "source": [
    "### Dropout\n",
    "\n",
    "overfitting을 막는 간단한 방법인데 랜덤하게 신경망에서 노드를 제거함으로써 오버피팅을 막는다. dropout으로 각각의 노드들은 activation을 0으로 설정할 수 있는 작은 가능성을 가지고 있다. 이것은 L2, L1 정규화 처럼 학습할 때 하나의 노드에 강하게 의존할 수 없다. \n",
    "\n",
    "케라스에서 dropout은 새로운 타입의 레이어이다. dropout을 원하는 activation뒤에 놓으면 된다.  "
   ]
  },
  {
   "cell_type": "code",
   "execution_count": 33,
   "metadata": {},
   "outputs": [],
   "source": [
    "from keras.layers import Dropout\n",
    "\n",
    "\n",
    "model = Sequential()\n",
    "\n",
    "\n",
    "model.add(Conv2D(6,3,input_shape=img_shape))\n",
    "model.add(Activation('relu'))\n",
    "model.add(MaxPool2D(2))\n",
    "\n",
    "model.add(Dropout(0.2))\n",
    "\n",
    "model.add(Conv2D(12,3))\n",
    "model.add(Activation('relu'))\n",
    "model.add(MaxPool2D(2))\n",
    "\n",
    "model.add(Dropout(0.2))\n",
    "\n",
    "model.add(Flatten())\n",
    "\n",
    "model.add(Dense(10,bias_regularizer=l2(0.01)))\n",
    "\n",
    "model.add(Activation('softmax'))"
   ]
  },
  {
   "cell_type": "code",
   "execution_count": 34,
   "metadata": {},
   "outputs": [],
   "source": [
    "model.compile(loss='sparse_categorical_crossentropy', optimizer = 'adam', metrics=['acc'])"
   ]
  },
  {
   "cell_type": "code",
   "execution_count": 35,
   "metadata": {},
   "outputs": [
    {
     "name": "stdout",
     "output_type": "stream",
     "text": [
      "Epoch 1/10\n",
      "1875/1875 [==============================] - 4s 2ms/step - loss: 3.8200 - acc: 0.6732 - val_loss: 0.3023 - val_acc: 0.9126\n",
      "Epoch 2/10\n",
      "1875/1875 [==============================] - 4s 2ms/step - loss: 0.3901 - acc: 0.8782 - val_loss: 0.1754 - val_acc: 0.9478\n",
      "Epoch 3/10\n",
      "1875/1875 [==============================] - 4s 2ms/step - loss: 0.2678 - acc: 0.9158 - val_loss: 0.1318 - val_acc: 0.9611\n",
      "Epoch 4/10\n",
      "1875/1875 [==============================] - 4s 2ms/step - loss: 0.2051 - acc: 0.9358 - val_loss: 0.0969 - val_acc: 0.9703\n",
      "Epoch 5/10\n",
      "1875/1875 [==============================] - 4s 2ms/step - loss: 0.1709 - acc: 0.9470 - val_loss: 0.0860 - val_acc: 0.9717\n",
      "Epoch 6/10\n",
      "1875/1875 [==============================] - 4s 2ms/step - loss: 0.1558 - acc: 0.9513 - val_loss: 0.0723 - val_acc: 0.9779\n",
      "Epoch 7/10\n",
      "1875/1875 [==============================] - 4s 2ms/step - loss: 0.1451 - acc: 0.9541 - val_loss: 0.0710 - val_acc: 0.9771\n",
      "Epoch 8/10\n",
      "1875/1875 [==============================] - 4s 2ms/step - loss: 0.1392 - acc: 0.9567 - val_loss: 0.0688 - val_acc: 0.9788\n",
      "Epoch 9/10\n",
      "1875/1875 [==============================] - 4s 2ms/step - loss: 0.1286 - acc: 0.9595 - val_loss: 0.0682 - val_acc: 0.9781\n",
      "Epoch 10/10\n",
      "1875/1875 [==============================] - 4s 2ms/step - loss: 0.1211 - acc: 0.9620 - val_loss: 0.0573 - val_acc: 0.9820\n"
     ]
    }
   ],
   "source": [
    "history = model.fit(x_train,\n",
    "                    y_train,\n",
    "                    batch_size=32,\n",
    "                    epochs=10,\n",
    "                    validation_data=(x_test,y_test))"
   ]
  },
  {
   "cell_type": "markdown",
   "metadata": {},
   "source": [
    "### Batchnorm\n",
    "Batch Normalization의 약자인 Batchnorm은 입력 데이터를 배치 방식으로 \"정규화\"하는 기술이다. 각 batchnorm은 데이터의 평균 및 표준 편차를 계산하고 평균이 0이고 표준 편차가 1 인 변환을 적용한다.\n",
    "\n",
    "이것은 loss surface이 'round'해서 훈련이 더 쉬워진다. 다른 인풋 차수에 따른 다른 평균과 표준편차는 신경망 학습시 더 복잡한 것을 배워야 한다는 것을 의미한다. "
   ]
  },
  {
   "cell_type": "code",
   "execution_count": 38,
   "metadata": {},
   "outputs": [],
   "source": [
    "from keras.layers import BatchNormalization\n",
    "\n",
    "\n",
    "model = Sequential()\n",
    "\n",
    "\n",
    "model.add(Conv2D(6,3,input_shape=img_shape))\n",
    "model.add(Activation('relu'))\n",
    "model.add(MaxPool2D(2))\n",
    "\n",
    "model.add(BatchNormalization())\n",
    "\n",
    "model.add(Conv2D(12,3))\n",
    "model.add(Activation('relu'))\n",
    "model.add(MaxPool2D(2))\n",
    "\n",
    "model.add(BatchNormalization())\n",
    "\n",
    "model.add(Flatten())\n",
    "\n",
    "model.add(Dense(10,bias_regularizer=l2(0.01)))\n",
    "\n",
    "model.add(Activation('softmax'))"
   ]
  },
  {
   "cell_type": "code",
   "execution_count": 39,
   "metadata": {},
   "outputs": [],
   "source": [
    "model.compile(loss='sparse_categorical_crossentropy', optimizer = 'adam', metrics=['acc'])"
   ]
  },
  {
   "cell_type": "code",
   "execution_count": 40,
   "metadata": {},
   "outputs": [
    {
     "name": "stdout",
     "output_type": "stream",
     "text": [
      "Epoch 1/10\n",
      "1875/1875 [==============================] - 4s 2ms/step - loss: 0.2074 - acc: 0.9380 - val_loss: 0.0780 - val_acc: 0.9747\n",
      "Epoch 2/10\n",
      "1875/1875 [==============================] - 4s 2ms/step - loss: 0.0711 - acc: 0.9780 - val_loss: 0.0698 - val_acc: 0.9765\n",
      "Epoch 3/10\n",
      "1875/1875 [==============================] - 4s 2ms/step - loss: 0.0560 - acc: 0.9823 - val_loss: 0.0690 - val_acc: 0.9780\n",
      "Epoch 4/10\n",
      "1875/1875 [==============================] - 4s 2ms/step - loss: 0.0475 - acc: 0.9854 - val_loss: 0.0514 - val_acc: 0.9840\n",
      "Epoch 5/10\n",
      "1875/1875 [==============================] - 4s 2ms/step - loss: 0.0424 - acc: 0.9864 - val_loss: 0.0509 - val_acc: 0.9841\n",
      "Epoch 6/10\n",
      "1875/1875 [==============================] - 4s 2ms/step - loss: 0.0388 - acc: 0.9878 - val_loss: 0.0494 - val_acc: 0.9842\n",
      "Epoch 7/10\n",
      "1875/1875 [==============================] - 4s 2ms/step - loss: 0.0359 - acc: 0.9885 - val_loss: 0.0530 - val_acc: 0.9834\n",
      "Epoch 8/10\n",
      "1875/1875 [==============================] - 4s 2ms/step - loss: 0.0340 - acc: 0.9892 - val_loss: 0.0452 - val_acc: 0.9856\n",
      "Epoch 9/10\n",
      "1875/1875 [==============================] - 4s 2ms/step - loss: 0.0317 - acc: 0.9897 - val_loss: 0.0509 - val_acc: 0.9838\n",
      "Epoch 10/10\n",
      "1875/1875 [==============================] - 4s 2ms/step - loss: 0.0300 - acc: 0.9908 - val_loss: 0.0481 - val_acc: 0.9862\n"
     ]
    }
   ],
   "source": [
    "history = model.fit(x_train,\n",
    "                    y_train,\n",
    "                    batch_size=32,\n",
    "                    epochs=10,\n",
    "                    validation_data=(x_test,y_test))"
   ]
  },
  {
   "cell_type": "markdown",
   "metadata": {},
   "source": [
    "Batchnorm은 약간 regularizing 효과도 가지고 있다. *(extreme values)극단값은 종종 오버피팅 되는데 Batchnorm이 극단값을 줄여준다."
   ]
  },
  {
   "cell_type": "markdown",
   "metadata": {},
   "source": [
    "### Working with big image datasets\n",
    "\n"
   ]
  }
 ],
 "metadata": {
  "kernelspec": {
   "display_name": "Python 3",
   "language": "python",
   "name": "python3"
  },
  "language_info": {
   "codemirror_mode": {
    "name": "ipython",
    "version": 3
   },
   "file_extension": ".py",
   "mimetype": "text/x-python",
   "name": "python",
   "nbconvert_exporter": "python",
   "pygments_lexer": "ipython3",
   "version": "3.6.9"
  }
 },
 "nbformat": 4,
 "nbformat_minor": 2
}
