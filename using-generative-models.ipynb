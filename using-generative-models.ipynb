{
 "cells": [
  {
   "cell_type": "markdown",
   "metadata": {},
   "source": [
    "Generative models은 새로운 데이터를 생성하는 것이다. 이전에 다루었던 모델과는 반대되는 모델이다. 이미지 분류 모델에서는 고차원의 입력을 받고, 이미지 내용과도 같은 저차원을 출력한다. \n",
    "\n",
    "2017년에 Deepfakes가 인터넷에 떠돌기 시작했다. GANs이 유명인들을 features하여 포르노 비디오를 생성하는데 사용되었다. 2016년에 연구자들은 정치인들이 연설하는 비디오를 입모양과 얼굴 표정까지 완벽하게 표현하는 비디오를 만들었다.\n",
    "\n",
    "이 기술은 부정적인 부분만 있는 것은 아니다. sparse한 데이터를 생성하는데 있어 긍정적으로 쓰일 수 있다. 이 경우에 Generative models은 다른 모델이 학습할 수 있는 리얼한 데이터를 생성할 수 있다. Generative models은 이미지를 translate할 수 있다. 위성 사진을 스트릿 사진으로 변환할 수 있다. 또 다른 예로 website screenshot에서 code를 생성할 수도 있다. Generative model은 ML 모델의 unfairness와 discrimination을 다루는데도 사용할 수 있다.\n",
    "\n",
    "금융 분야에서 data가 sparse한 경우가 있다. 데이터를 생성하여 유용한 features를 찾을 수 있다.\n",
    "\n",
    "알고리즘 트레이딩에서 시뮬레이터에 의해서 데이터가 생성된다. 만약 만든 알고리즘이 global selloff에서 어떻게 하는지 알고 싶을 수 있을 것이다. 그러나 global selloff는 많이 생기진 않는다. 그렇기 때문에 퀀트들은 보통 global selloff 시뮬레이터를 만드는데 많은 시간을 쓴다. 이 시뮬레이터는 엔지니어의 경험과 그들의 느낌적 느낌에 의해 global selloff가 편향될 수 있다. 하지만, 만약 모델이 global selloff의 펀더멘탈을 배울 수 있다면 어떨까? 그리고 무한한 global selloff를 만들 수 있다면 어떨까?\n",
    "\n",
    "이번에는 autoencoder와 GANs을 알아보겠다. autoencoder는 저차원으로 데이터를 압축하고 데이터를 충실하게 재구성한다. GANs은 discriminator가 가짜 이미지와 진짜 이미지를 구별할 수 없도록 generator를 훈련시킨다. \n",
    "\n",
    "### understanding autoencoders\n",
    "\n",
    "기술적으로 autoencoders는 새로운 종류의 데이터를 생성할 수 없기 때문에 generative models은 아니다. 그러나 autoencoder를 조금 변형하면 가능하다. \n",
    "\n",
    "금융 분야에 초점을 둔다면, autoencoders는 신용카드사기 detecting과 같은 애플리케이션을 위한 흥미로운 속성을 가지고 있다. \n",
    "\n",
    "입력 x가 주어질 때 autoencoder는 출력 x를 학습니다. autoencoder는 함수 f를 찾는데 아래의 식이 참이 되도록 하는 것을 찾는다.\n",
    "\n",
    "$$x = f(x)$$\n",
    "\n",
    "별거없어 보일지 모르지만, 여기서 트릭은 autoencoder는 bottleneck을 가지고 있다는 것이다. middle hidden layer의 사이즈는 입력 x의 사이즈보다 작다. 그렇기에 모델은 작은 vector에 x의 중요한 모든 요소를 캡처하기 위해 compressed representation을 학습해야 한다. \n",
    "\n",
    "아래의 그림이 autoencoder의 compressed representation schema(개요)를 잘 보여준다.\n",
    "![nn](https://miro.medium.com/max/528/1*Fm7RPNckepfCgLKtkKfskQ.png)\n",
    "![nn](https://miro.medium.com/max/528/1*FGbATgGye0fTU9SMaCo16A.png)\n",
    "\n",
    "이 compressed representation은 입력의 essence를 캡처하는 것이 목적이다. 예를 들어, genuine one한 것에서 부터 사기 거래를 구별하는 본질적인 것을 캡처하고 싶을 수 있다. Vanila autoencoders는 standard principal component analysis와 비슷한 느낌으로 수행한다. 데이터에서 차원을 줄이고 중요한 것에 집중한다. 그러나 PCA와는 다르게, autoencoder는 특정 type의 데이터를 더 생성하도록 확장할 수 있다. 예를 들어, autoencoder는 이미지나 비디오 데이터를 더 잘 다룰 수 있는데 convolutional layer를 사용하여 데이터의 spatiality를 이용할 수 있다. \n",
    "\n",
    "두개의 autoencoder 모델을 만들어 보겠다. 첫번째 모델은 MNIST 데이터를 사용한다. 두번째는 사기 탐지 작업을 위해 사용할 것이다. \n",
    "\n",
    "### Autoencoder for MNIST\n",
    "\n",
    "나중에 쓸 하이퍼파라미터인 인코딩 차원을 설정한다."
   ]
  },
  {
   "cell_type": "code",
   "execution_count": 16,
   "metadata": {},
   "outputs": [],
   "source": [
    "encoding_dim = 32  "
   ]
  },
  {
   "cell_type": "markdown",
   "metadata": {},
   "source": [
    "Keras의 functional API를 사용하여 autoencoder를 만든다. sequential API로도 만들 수 있지만, functional API와 친해져보자.\n",
    "\n",
    "먼저, functional API 모델을 만들 수 있는 Model 클래스를 임포트하고, Input과 Dense 레이어를 임포트하자. "
   ]
  },
  {
   "cell_type": "code",
   "execution_count": 17,
   "metadata": {},
   "outputs": [],
   "source": [
    "from keras.models import Model\n",
    "from keras.layers import Input, Dense"
   ]
  },
  {
   "cell_type": "code",
   "execution_count": 18,
   "metadata": {},
   "outputs": [],
   "source": [
    "input_img = Input(shape=(784,))\n",
    "encoded = Dense(encoding_dim, activation='relu')(input_img)\n",
    "decoded = Dense(784, activation='sigmoid')(encoded)"
   ]
  },
  {
   "cell_type": "code",
   "execution_count": 19,
   "metadata": {},
   "outputs": [],
   "source": [
    "autoencoder = Model(input_img, decoded)"
   ]
  },
  {
   "cell_type": "markdown",
   "metadata": {},
   "source": [
    "무엇이 만들었는지 보기 위해, autoencoder의 결과를 시각화할 수 있다."
   ]
  },
  {
   "cell_type": "code",
   "execution_count": 20,
   "metadata": {},
   "outputs": [
    {
     "name": "stdout",
     "output_type": "stream",
     "text": [
      "Failed to import pydot. You must install pydot and graphviz for `pydotprint` to work.\n"
     ]
    },
    {
     "data": {
      "text/plain": [
       "<Figure size 1000x1000 with 0 Axes>"
      ]
     },
     "execution_count": 20,
     "metadata": {},
     "output_type": "execute_result"
    }
   ],
   "source": [
    "import numpy as np\n",
    "import matplotlib.pyplot as plt\n",
    "\n",
    "from keras.utils import plot_model\n",
    "plot_model(autoencoder, to_file='model.png', show_shapes=True) \n",
    "plt.figure(figsize=(10, 10))"
   ]
  },
  {
   "cell_type": "code",
   "execution_count": 21,
   "metadata": {},
   "outputs": [],
   "source": [
    "encoder = Model(input_img, encoded)\n",
    "encoded_input = Input(shape=(encoding_dim,))\n",
    "\n",
    "decoder_layer = autoencoder.layers[-1]\n",
    "decoder = Model(encoded_input, decoder_layer(encoded_input))"
   ]
  },
  {
   "cell_type": "code",
   "execution_count": 22,
   "metadata": {},
   "outputs": [],
   "source": [
    "autoencoder.compile(optimizer='adadelta', loss='binary_crossentropy')"
   ]
  },
  {
   "cell_type": "code",
   "execution_count": 23,
   "metadata": {},
   "outputs": [],
   "source": [
    "import tensorflow as tf\n",
    "\n",
    "# data_train, data_test = tf.keras.datasets.mnist.load_data()\n",
    "# validation_size = 1000\n",
    "\n",
    "# (images_train, labels_train) = data_train\n",
    "# (images_test, labels_test) = data_test\n",
    "\n",
    "# # images\n",
    "# images_validation = images_train[-validation_size:]\n",
    "# images_train      = images_train[:validation_size]\n",
    "\n",
    "# # labels\n",
    "# labels_validation = labels_train[-validation_size:]\n",
    "# labels_train      = labels_train[:validation_size]\n",
    "\n",
    "# X_train = images_train.astype('float32') / 255.\n",
    "# X_test = images_validation.astype('float32') / 255."
   ]
  },
  {
   "cell_type": "code",
   "execution_count": 24,
   "metadata": {},
   "outputs": [],
   "source": [
    "import numpy as np\n",
    "import matplotlib.pyplot as plt\n",
    "\n",
    "from numpy.random import seed\n",
    "seed(1)\n",
    "tf.random.set_seed(2)\n",
    "\n",
    "\n",
    "def mnist_load_data(path='mnist.npz'):\n",
    "    with np.load(path) as f:\n",
    "        x_train, y_train = f['x_train'], f['y_train']\n",
    "        x_test, y_test = f['x_test'], f['y_test']\n",
    "    return (x_train, y_train), (x_test, y_test)\n",
    "        \n",
    "\n",
    "(X_train, y_train), (X_test, y_test) = mnist_load_data(path='../input/mnist.npz')"
   ]
  },
  {
   "cell_type": "code",
   "execution_count": 25,
   "metadata": {},
   "outputs": [],
   "source": [
    "X_train = X_train.astype('float32') / 255.\n",
    "X_test = X_test.astype('float32') / 255."
   ]
  },
  {
   "cell_type": "code",
   "execution_count": 26,
   "metadata": {},
   "outputs": [
    {
     "data": {
      "text/plain": [
       "<matplotlib.image.AxesImage at 0x1f8005d5be0>"
      ]
     },
     "execution_count": 26,
     "metadata": {},
     "output_type": "execute_result"
    },
    {
     "data": {
      "image/png": "[encoded data removed]",
      "text/plain": [
       "<Figure size 432x288 with 1 Axes>"
      ]
     },
     "metadata": {
      "needs_background": "light"
     },
     "output_type": "display_data"
    }
   ],
   "source": [
    "plt.imshow(X_test[0])"
   ]
  },
  {
   "cell_type": "code",
   "execution_count": 27,
   "metadata": {},
   "outputs": [
    {
     "name": "stdout",
     "output_type": "stream",
     "text": [
      "(60000, 784)\n",
      "(10000, 784)\n"
     ]
    }
   ],
   "source": [
    "X_train_flat = X_train.reshape((len(X_train), np.prod(X_train.shape[1:])))\n",
    "X_test_flat = X_test.reshape((len(X_test), np.prod(X_test.shape[1:])))\n",
    "print(X_train_flat.shape)\n",
    "print(X_test_flat.shape)\n",
    "X_train = X_train.astype('float32') / 255.\n",
    "X_test = X_test.astype('float32') / 255."
   ]
  },
  {
   "cell_type": "code",
   "execution_count": 14,
   "metadata": {},
   "outputs": [],
   "source": [
    "from keras.layers import Input, Dense\n",
    "from keras.models import Model\n",
    "\n",
    "# this is the size of our encoded representations\n",
    "encoding_dim = 32  # 32 floats -> compression of factor 24.5, assuming the input is 784 floats\n",
    "\n",
    "# this is our input placeholder\n",
    "input_img = Input(shape=(784,))\n",
    "# \"encoded\" is the encoded representation of the input\n",
    "encoded = Dense(encoding_dim, activation='relu')(input_img)\n",
    "# \"decoded\" is the lossy reconstruction of the input\n",
    "decoded = Dense(784, activation='sigmoid')(encoded)\n",
    "\n",
    "# this model maps an input to its reconstruction\n",
    "autoencoder = Model(input_img, decoded)"
   ]
  },
  {
   "cell_type": "code",
   "execution_count": 15,
   "metadata": {},
   "outputs": [
    {
     "ename": "NameError",
     "evalue": "name 'X_train' is not defined",
     "output_type": "error",
     "traceback": [
      "\u001b[1;31m---------------------------------------------------------------------------\u001b[0m",
      "\u001b[1;31mNameError\u001b[0m                                 Traceback (most recent call last)",
      "\u001b[1;32m<ipython-input-15-218c2eff4160>\u001b[0m in \u001b[0;36m<module>\u001b[1;34m\u001b[0m\n\u001b[0;32m      6\u001b[0m \u001b[1;31m# create the decoder model\u001b[0m\u001b[1;33m\u001b[0m\u001b[1;33m\u001b[0m\u001b[1;33m\u001b[0m\u001b[0m\n\u001b[0;32m      7\u001b[0m \u001b[0mdecoder\u001b[0m \u001b[1;33m=\u001b[0m \u001b[0mModel\u001b[0m\u001b[1;33m(\u001b[0m\u001b[0mencoded_input\u001b[0m\u001b[1;33m,\u001b[0m \u001b[0mdecoder_layer\u001b[0m\u001b[1;33m(\u001b[0m\u001b[0mencoded_input\u001b[0m\u001b[1;33m)\u001b[0m\u001b[1;33m)\u001b[0m\u001b[1;33m\u001b[0m\u001b[1;33m\u001b[0m\u001b[0m\n\u001b[1;32m----> 8\u001b[1;33m \u001b[0mX_train_flat\u001b[0m \u001b[1;33m=\u001b[0m \u001b[0mX_train\u001b[0m\u001b[1;33m.\u001b[0m\u001b[0mreshape\u001b[0m\u001b[1;33m(\u001b[0m\u001b[1;33m(\u001b[0m\u001b[0mlen\u001b[0m\u001b[1;33m(\u001b[0m\u001b[0mX_train\u001b[0m\u001b[1;33m)\u001b[0m\u001b[1;33m,\u001b[0m \u001b[0mnp\u001b[0m\u001b[1;33m.\u001b[0m\u001b[0mprod\u001b[0m\u001b[1;33m(\u001b[0m\u001b[0mX_train\u001b[0m\u001b[1;33m.\u001b[0m\u001b[0mshape\u001b[0m\u001b[1;33m[\u001b[0m\u001b[1;36m1\u001b[0m\u001b[1;33m:\u001b[0m\u001b[1;33m]\u001b[0m\u001b[1;33m)\u001b[0m\u001b[1;33m)\u001b[0m\u001b[1;33m)\u001b[0m\u001b[1;33m\u001b[0m\u001b[1;33m\u001b[0m\u001b[0m\n\u001b[0m\u001b[0;32m      9\u001b[0m \u001b[0mX_test_flat\u001b[0m \u001b[1;33m=\u001b[0m \u001b[0mX_test\u001b[0m\u001b[1;33m.\u001b[0m\u001b[0mreshape\u001b[0m\u001b[1;33m(\u001b[0m\u001b[1;33m(\u001b[0m\u001b[0mlen\u001b[0m\u001b[1;33m(\u001b[0m\u001b[0mX_test\u001b[0m\u001b[1;33m)\u001b[0m\u001b[1;33m,\u001b[0m \u001b[0mnp\u001b[0m\u001b[1;33m.\u001b[0m\u001b[0mprod\u001b[0m\u001b[1;33m(\u001b[0m\u001b[0mX_test\u001b[0m\u001b[1;33m.\u001b[0m\u001b[0mshape\u001b[0m\u001b[1;33m[\u001b[0m\u001b[1;36m1\u001b[0m\u001b[1;33m:\u001b[0m\u001b[1;33m]\u001b[0m\u001b[1;33m)\u001b[0m\u001b[1;33m)\u001b[0m\u001b[1;33m)\u001b[0m\u001b[1;33m\u001b[0m\u001b[1;33m\u001b[0m\u001b[0m\n\u001b[0;32m     10\u001b[0m \u001b[0mprint\u001b[0m\u001b[1;33m(\u001b[0m\u001b[0mX_train_flat\u001b[0m\u001b[1;33m.\u001b[0m\u001b[0mshape\u001b[0m\u001b[1;33m)\u001b[0m\u001b[1;33m\u001b[0m\u001b[1;33m\u001b[0m\u001b[0m\n",
      "\u001b[1;31mNameError\u001b[0m: name 'X_train' is not defined"
     ]
    }
   ],
   "source": [
    "encoder = Model(input_img, encoded)\n",
    "# create a placeholder for an encoded (32-dimensional) input\n",
    "encoded_input = Input(shape=(encoding_dim,))\n",
    "# retrieve the last layer of the autoencoder model\n",
    "decoder_layer = autoencoder.layers[-1]\n",
    "# create the decoder model\n",
    "decoder = Model(encoded_input, decoder_layer(encoded_input))\n",
    "X_train_flat = X_train.reshape((len(X_train), np.prod(X_train.shape[1:])))\n",
    "X_test_flat = X_test.reshape((len(X_test), np.prod(X_test.shape[1:])))\n",
    "print(X_train_flat.shape)\n",
    "print(X_test_flat.shape)\n",
    "autoencoder.compile(optimizer='adadelta', loss='binary_crossentropy')\n",
    "autoencoder.fit(X_train_flat, X_train_flat,\n",
    "                epochs=50,\n",
    "                batch_size=256,\n",
    "                shuffle=True,\n",
    "                validation_data=(X_test_flat, X_test_flat))"
   ]
  },
  {
   "cell_type": "code",
   "execution_count": 38,
   "metadata": {},
   "outputs": [],
   "source": [
    "original = np.expand_dims(X_test_flat[0],0)\n",
    "one = autoencoder.predict(original)"
   ]
  },
  {
   "cell_type": "code",
   "execution_count": 39,
   "metadata": {},
   "outputs": [],
   "source": [
    "one = one.reshape(1,28,28)\n",
    "original = original.reshape(1,28,28)"
   ]
  },
  {
   "cell_type": "code",
   "execution_count": 40,
   "metadata": {},
   "outputs": [
    {
     "data": {
      "image/png": "[encoded data removed]",
      "text/plain": [
       "<Figure size 504x720 with 2 Axes>"
      ]
     },
     "metadata": {
      "needs_background": "light"
     },
     "output_type": "display_data"
    }
   ],
   "source": [
    "fig = plt.figure(figsize=(7, 10))\n",
    "a=fig.add_subplot(1,2,1)\n",
    "a.set_title('Original')\n",
    "imgplot = plt.imshow(original[0,:,:])\n",
    "\n",
    "b=fig.add_subplot(1,2,2)\n",
    "b.set_title('Autoencoder')\n",
    "imgplot = plt.imshow(one[0,:,:])"
   ]
  },
  {
   "cell_type": "code",
   "execution_count": 41,
   "metadata": {},
   "outputs": [],
   "source": [
    "import numpy as np\n",
    "import matplotlib.pyplot as plt\n",
    "#from scipy.stats import norm\n",
    "\n",
    "from keras.layers import Input, Dense, Lambda\n",
    "from keras.models import Model\n",
    "from keras import backend as K\n",
    "from keras import metrics\n"
   ]
  },
  {
   "cell_type": "code",
   "execution_count": 42,
   "metadata": {},
   "outputs": [],
   "source": [
    "batch_size = 100\n",
    "original_dim = 784\n",
    "latent_dim = 32\n",
    "intermediate_dim = 256\n",
    "epochs = 50\n",
    "epsilon_std = 1.0\n"
   ]
  },
  {
   "cell_type": "code",
   "execution_count": 43,
   "metadata": {},
   "outputs": [],
   "source": [
    "x = Input(shape=(original_dim,))\n",
    "h = Dense(intermediate_dim, activation='relu')(x)\n",
    "z_mean = Dense(latent_dim)(h)\n",
    "z_log_var = Dense(latent_dim)(h)\n"
   ]
  },
  {
   "cell_type": "code",
   "execution_count": 44,
   "metadata": {},
   "outputs": [],
   "source": [
    "def sampling(args):\n",
    "    z_mean, z_log_var = args\n",
    "    epsilon = K.random_normal(shape=(K.shape(z_mean)[0], latent_dim), mean=0.,\n",
    "                              stddev=epsilon_std)\n",
    "    return z_mean + K.exp(z_log_var / 2) * epsilon\n"
   ]
  },
  {
   "cell_type": "code",
   "execution_count": 45,
   "metadata": {},
   "outputs": [],
   "source": [
    "z = Lambda(sampling)([z_mean, z_log_var])\n"
   ]
  },
  {
   "cell_type": "code",
   "execution_count": 46,
   "metadata": {},
   "outputs": [],
   "source": [
    "h_decoded = Dense(intermediate_dim, activation='relu')(z)\n",
    "\n",
    "x_decoded = Dense(original_dim, activation='sigmoid')(h_decoded)\n"
   ]
  },
  {
   "cell_type": "code",
   "execution_count": 47,
   "metadata": {},
   "outputs": [],
   "source": [
    "vae = Model(x, x_decoded)\n"
   ]
  },
  {
   "cell_type": "code",
   "execution_count": 48,
   "metadata": {},
   "outputs": [],
   "source": [
    "reconstruction_loss = original_dim * metrics.binary_crossentropy(x, x_decoded)\n",
    "kl_loss = - 0.5 * K.sum(1 + z_log_var - K.square(z_mean) - K.exp(z_log_var), axis=-1)\n",
    "vae_loss = K.mean(reconstruction_loss + kl_loss)\n"
   ]
  },
  {
   "cell_type": "code",
   "execution_count": 49,
   "metadata": {},
   "outputs": [
    {
     "name": "stdout",
     "output_type": "stream",
     "text": [
      "Model: \"model_7\"\n",
      "__________________________________________________________________________________________________\n",
      "Layer (type)                    Output Shape         Param #     Connected to                     \n",
      "==================================================================================================\n",
      "input_7 (InputLayer)            [(None, 784)]        0                                            \n",
      "__________________________________________________________________________________________________\n",
      "dense_11 (Dense)                (None, 256)          200960      input_7[0][0]                    \n",
      "__________________________________________________________________________________________________\n",
      "dense_12 (Dense)                (None, 32)           8224        dense_11[0][0]                   \n",
      "__________________________________________________________________________________________________\n",
      "dense_13 (Dense)                (None, 32)           8224        dense_11[0][0]                   \n",
      "__________________________________________________________________________________________________\n",
      "lambda_1 (Lambda)               (None, 32)           0           dense_12[0][0]                   \n",
      "                                                                 dense_13[0][0]                   \n",
      "__________________________________________________________________________________________________\n",
      "dense_14 (Dense)                (None, 256)          8448        lambda_1[0][0]                   \n",
      "__________________________________________________________________________________________________\n",
      "dense_15 (Dense)                (None, 784)          201488      dense_14[0][0]                   \n",
      "__________________________________________________________________________________________________\n",
      "tf_op_layer_dense_15/MatMul (Te [(None, 784)]        0           dense_14[0][0]                   \n",
      "__________________________________________________________________________________________________\n",
      "tf_op_layer_dense_15/BiasAdd (T [(None, 784)]        0           tf_op_layer_dense_15/MatMul[0][0]\n",
      "__________________________________________________________________________________________________\n",
      "tf_op_layer_ZerosLike_1 (Tensor [(None, 784)]        0           tf_op_layer_dense_15/BiasAdd[0][0\n",
      "__________________________________________________________________________________________________\n",
      "tf_op_layer_GreaterEqual_1 (Ten [(None, 784)]        0           tf_op_layer_dense_15/BiasAdd[0][0\n",
      "                                                                 tf_op_layer_ZerosLike_1[0][0]    \n",
      "__________________________________________________________________________________________________\n",
      "tf_op_layer_Neg_1 (TensorFlowOp [(None, 784)]        0           tf_op_layer_dense_15/BiasAdd[0][0\n",
      "__________________________________________________________________________________________________\n",
      "tf_op_layer_Select_3 (TensorFlo [(None, 784)]        0           tf_op_layer_GreaterEqual_1[0][0] \n",
      "                                                                 tf_op_layer_Neg_1[0][0]          \n",
      "                                                                 tf_op_layer_dense_15/BiasAdd[0][0\n",
      "__________________________________________________________________________________________________\n",
      "tf_op_layer_Select_2 (TensorFlo [(None, 784)]        0           tf_op_layer_GreaterEqual_1[0][0] \n",
      "                                                                 tf_op_layer_dense_15/BiasAdd[0][0\n",
      "                                                                 tf_op_layer_ZerosLike_1[0][0]    \n",
      "__________________________________________________________________________________________________\n",
      "tf_op_layer_Mul_3 (TensorFlowOp [(None, 784)]        0           tf_op_layer_dense_15/BiasAdd[0][0\n",
      "                                                                 input_7[0][0]                    \n",
      "__________________________________________________________________________________________________\n",
      "tf_op_layer_Exp_2 (TensorFlowOp [(None, 784)]        0           tf_op_layer_Select_3[0][0]       \n",
      "__________________________________________________________________________________________________\n",
      "tf_op_layer_AddV2_2 (TensorFlow [(None, 32)]         0           dense_13[0][0]                   \n",
      "__________________________________________________________________________________________________\n",
      "tf_op_layer_Square_1 (TensorFlo [(None, 32)]         0           dense_12[0][0]                   \n",
      "__________________________________________________________________________________________________\n",
      "tf_op_layer_Sub_3 (TensorFlowOp [(None, 784)]        0           tf_op_layer_Select_2[0][0]       \n",
      "                                                                 tf_op_layer_Mul_3[0][0]          \n",
      "__________________________________________________________________________________________________\n",
      "tf_op_layer_Log1p_1 (TensorFlow [(None, 784)]        0           tf_op_layer_Exp_2[0][0]          \n",
      "__________________________________________________________________________________________________\n",
      "tf_op_layer_Sub_4 (TensorFlowOp [(None, 32)]         0           tf_op_layer_AddV2_2[0][0]        \n",
      "                                                                 tf_op_layer_Square_1[0][0]       \n",
      "__________________________________________________________________________________________________\n",
      "tf_op_layer_Exp_3 (TensorFlowOp [(None, 32)]         0           dense_13[0][0]                   \n",
      "__________________________________________________________________________________________________\n",
      "tf_op_layer_Add_1 (TensorFlowOp [(None, 784)]        0           tf_op_layer_Sub_3[0][0]          \n",
      "                                                                 tf_op_layer_Log1p_1[0][0]        \n",
      "__________________________________________________________________________________________________\n",
      "tf_op_layer_Sub_5 (TensorFlowOp [(None, 32)]         0           tf_op_layer_Sub_4[0][0]          \n",
      "                                                                 tf_op_layer_Exp_3[0][0]          \n",
      "__________________________________________________________________________________________________\n",
      "tf_op_layer_Mean_2 (TensorFlowO [(None,)]            0           tf_op_layer_Add_1[0][0]          \n",
      "__________________________________________________________________________________________________\n",
      "tf_op_layer_Sum_1 (TensorFlowOp [(None,)]            0           tf_op_layer_Sub_5[0][0]          \n",
      "__________________________________________________________________________________________________\n",
      "tf_op_layer_Mul_4 (TensorFlowOp [(None,)]            0           tf_op_layer_Mean_2[0][0]         \n",
      "__________________________________________________________________________________________________\n",
      "tf_op_layer_Mul_5 (TensorFlowOp [(None,)]            0           tf_op_layer_Sum_1[0][0]          \n",
      "__________________________________________________________________________________________________\n",
      "tf_op_layer_AddV2_3 (TensorFlow [(None,)]            0           tf_op_layer_Mul_4[0][0]          \n",
      "                                                                 tf_op_layer_Mul_5[0][0]          \n",
      "__________________________________________________________________________________________________\n",
      "tf_op_layer_Mean_3 (TensorFlowO [()]                 0           tf_op_layer_AddV2_3[0][0]        \n",
      "__________________________________________________________________________________________________\n",
      "add_loss_1 (AddLoss)            ()                   0           tf_op_layer_Mean_3[0][0]         \n",
      "==================================================================================================\n",
      "Total params: 427,344\n",
      "Trainable params: 427,344\n",
      "Non-trainable params: 0\n",
      "__________________________________________________________________________________________________\n"
     ]
    }
   ],
   "source": [
    "vae.add_loss(vae_loss)\n",
    "vae.compile(optimizer='rmsprop')\n",
    "vae.summary()\n"
   ]
  },
  {
   "cell_type": "code",
   "execution_count": 50,
   "metadata": {},
   "outputs": [
    {
     "name": "stdout",
     "output_type": "stream",
     "text": [
      "Epoch 1/50\n",
      "WARNING:tensorflow:Gradients do not exist for variables ['dense_15/kernel:0', 'dense_15/bias:0'] when minimizing the loss.\n",
      "WARNING:tensorflow:Gradients do not exist for variables ['dense_15/kernel:0', 'dense_15/bias:0'] when minimizing the loss.\n",
      "WARNING:tensorflow:Gradients do not exist for variables ['dense_15/kernel:0', 'dense_15/bias:0'] when minimizing the loss.\n",
      "WARNING:tensorflow:Gradients do not exist for variables ['dense_15/kernel:0', 'dense_15/bias:0'] when minimizing the loss.\n",
      "600/600 [==============================] - 1s 2ms/step - loss: 479.3681 - val_loss: 470.8866\n",
      "Epoch 2/50\n",
      "600/600 [==============================] - 1s 2ms/step - loss: 469.6577 - val_loss: 468.6115\n",
      "Epoch 3/50\n",
      "600/600 [==============================] - 1s 2ms/step - loss: 467.4948 - val_loss: 466.5313\n",
      "Epoch 4/50\n",
      "600/600 [==============================] - 1s 2ms/step - loss: 465.9691 - val_loss: 465.5833\n",
      "Epoch 5/50\n",
      "600/600 [==============================] - 1s 2ms/step - loss: 465.3232 - val_loss: 465.1158\n",
      "Epoch 6/50\n",
      "600/600 [==============================] - 1s 2ms/step - loss: 464.9030 - val_loss: 464.6936\n",
      "Epoch 7/50\n",
      "600/600 [==============================] - 1s 2ms/step - loss: 464.4435 - val_loss: 464.2078\n",
      "Epoch 8/50\n",
      "600/600 [==============================] - 1s 2ms/step - loss: 464.0010 - val_loss: 463.8128\n",
      "Epoch 9/50\n",
      "600/600 [==============================] - 1s 2ms/step - loss: 463.6402 - val_loss: 463.4716\n",
      "Epoch 10/50\n",
      "600/600 [==============================] - 1s 2ms/step - loss: 463.2716 - val_loss: 463.0882\n",
      "Epoch 11/50\n",
      "600/600 [==============================] - 1s 2ms/step - loss: 462.9408 - val_loss: 462.8257\n",
      "Epoch 12/50\n",
      "600/600 [==============================] - 1s 2ms/step - loss: 462.7429 - val_loss: 462.6835\n",
      "Epoch 13/50\n",
      "600/600 [==============================] - 1s 2ms/step - loss: 462.6624 - val_loss: 462.6584\n",
      "Epoch 14/50\n",
      "600/600 [==============================] - 1s 2ms/step - loss: 462.6562 - val_loss: 462.6585\n",
      "Epoch 15/50\n",
      "600/600 [==============================] - 1s 2ms/step - loss: 462.6565 - val_loss: 462.6584\n",
      "Epoch 16/50\n",
      "600/600 [==============================] - 1s 2ms/step - loss: 462.6563 - val_loss: 462.6584\n",
      "Epoch 17/50\n",
      "600/600 [==============================] - 1s 2ms/step - loss: 462.6564 - val_loss: 462.6586\n",
      "Epoch 18/50\n",
      "600/600 [==============================] - 1s 2ms/step - loss: 462.6562 - val_loss: 462.6585\n",
      "Epoch 19/50\n",
      "600/600 [==============================] - 1s 2ms/step - loss: 462.6564 - val_loss: 462.6586\n",
      "Epoch 20/50\n",
      "600/600 [==============================] - 1s 2ms/step - loss: 462.6562 - val_loss: 462.6586\n",
      "Epoch 21/50\n",
      "600/600 [==============================] - 2s 3ms/step - loss: 462.6561 - val_loss: 462.6584\n",
      "Epoch 22/50\n",
      "600/600 [==============================] - 2s 3ms/step - loss: 462.6561 - val_loss: 462.6584\n",
      "Epoch 23/50\n",
      "600/600 [==============================] - 1s 2ms/step - loss: 462.6562 - val_loss: 462.6584\n",
      "Epoch 24/50\n",
      "600/600 [==============================] - 1s 2ms/step - loss: 462.6563 - val_loss: 462.6583\n",
      "Epoch 25/50\n",
      "600/600 [==============================] - 1s 2ms/step - loss: 462.6559 - val_loss: 462.6584\n",
      "Epoch 26/50\n",
      "600/600 [==============================] - 1s 2ms/step - loss: 462.6562 - val_loss: 462.6584\n",
      "Epoch 27/50\n",
      "600/600 [==============================] - 1s 2ms/step - loss: 462.6564 - val_loss: 462.6585\n",
      "Epoch 28/50\n",
      "600/600 [==============================] - 1s 2ms/step - loss: 462.6563 - val_loss: 462.6581\n",
      "Epoch 29/50\n",
      "600/600 [==============================] - 1s 2ms/step - loss: 462.6561 - val_loss: 462.6578\n",
      "Epoch 30/50\n",
      "600/600 [==============================] - 1s 2ms/step - loss: 462.6557 - val_loss: 462.6579\n",
      "Epoch 31/50\n",
      "600/600 [==============================] - 1s 2ms/step - loss: 462.6559 - val_loss: 462.6580\n",
      "Epoch 32/50\n",
      "600/600 [==============================] - 1s 2ms/step - loss: 462.6560 - val_loss: 462.6580\n",
      "Epoch 33/50\n",
      "600/600 [==============================] - 1s 2ms/step - loss: 462.6559 - val_loss: 462.6580\n",
      "Epoch 34/50\n",
      "600/600 [==============================] - 1s 2ms/step - loss: 462.6561 - val_loss: 462.6580\n",
      "Epoch 35/50\n",
      "600/600 [==============================] - 1s 2ms/step - loss: 462.6556 - val_loss: 462.6580\n",
      "Epoch 36/50\n",
      "600/600 [==============================] - 1s 2ms/step - loss: 462.6560 - val_loss: 462.6581\n",
      "Epoch 37/50\n",
      "600/600 [==============================] - 1s 2ms/step - loss: 462.6561 - val_loss: 462.6580\n",
      "Epoch 38/50\n",
      "600/600 [==============================] - 1s 2ms/step - loss: 462.6555 - val_loss: 462.6578\n",
      "Epoch 39/50\n",
      "600/600 [==============================] - 1s 2ms/step - loss: 462.6559 - val_loss: 462.6581\n",
      "Epoch 40/50\n",
      "600/600 [==============================] - 1s 2ms/step - loss: 462.6557 - val_loss: 462.6580\n",
      "Epoch 41/50\n",
      "600/600 [==============================] - 1s 2ms/step - loss: 462.6555 - val_loss: 462.6580\n",
      "Epoch 42/50\n",
      "600/600 [==============================] - 1s 2ms/step - loss: 462.6559 - val_loss: 462.6581\n",
      "Epoch 43/50\n",
      "600/600 [==============================] - 1s 2ms/step - loss: 462.6560 - val_loss: 462.6579\n",
      "Epoch 44/50\n",
      "600/600 [==============================] - 1s 2ms/step - loss: 462.6562 - val_loss: 462.6581\n",
      "Epoch 45/50\n",
      "600/600 [==============================] - 1s 2ms/step - loss: 462.6558 - val_loss: 462.6581\n",
      "Epoch 46/50\n",
      "600/600 [==============================] - 1s 2ms/step - loss: 462.6560 - val_loss: 462.6579\n",
      "Epoch 47/50\n",
      "600/600 [==============================] - 1s 2ms/step - loss: 462.6562 - val_loss: 462.6580\n",
      "Epoch 48/50\n",
      "600/600 [==============================] - 1s 2ms/step - loss: 462.6559 - val_loss: 462.6580\n",
      "Epoch 49/50\n",
      "600/600 [==============================] - 1s 2ms/step - loss: 462.6560 - val_loss: 462.6580\n",
      "Epoch 50/50\n",
      "600/600 [==============================] - 1s 2ms/step - loss: 462.6559 - val_loss: 462.6581\n"
     ]
    },
    {
     "data": {
      "text/plain": [
       "<tensorflow.python.keras.callbacks.History at 0x2370e791518>"
      ]
     },
     "execution_count": 50,
     "metadata": {},
     "output_type": "execute_result"
    }
   ],
   "source": [
    "vae.fit(X_train_flat,\n",
    "        shuffle=True,\n",
    "        epochs=epochs,\n",
    "        batch_size=batch_size,\n",
    "        validation_data=(X_test_flat, None))\n"
   ]
  },
  {
   "cell_type": "code",
   "execution_count": 51,
   "metadata": {},
   "outputs": [],
   "source": [
    "one_seven = X_test_flat[0]\n"
   ]
  },
  {
   "cell_type": "code",
   "execution_count": 52,
   "metadata": {},
   "outputs": [],
   "source": [
    "one_seven = np.expand_dims(one_seven,0)\n"
   ]
  },
  {
   "cell_type": "code",
   "execution_count": 53,
   "metadata": {},
   "outputs": [
    {
     "data": {
      "text/plain": [
       "(1, 784)"
      ]
     },
     "execution_count": 53,
     "metadata": {},
     "output_type": "execute_result"
    }
   ],
   "source": [
    "one_seven.shape\n"
   ]
  },
  {
   "cell_type": "code",
   "execution_count": 54,
   "metadata": {},
   "outputs": [],
   "source": [
    "one_seven = one_seven.repeat(4,axis=0)\n"
   ]
  },
  {
   "cell_type": "code",
   "execution_count": 55,
   "metadata": {},
   "outputs": [],
   "source": [
    "s = vae.predict(one_seven)\n"
   ]
  },
  {
   "cell_type": "code",
   "execution_count": 56,
   "metadata": {},
   "outputs": [
    {
     "data": {
      "text/plain": [
       "(4, 784)"
      ]
     },
     "execution_count": 56,
     "metadata": {},
     "output_type": "execute_result"
    }
   ],
   "source": [
    "s.shape\n"
   ]
  },
  {
   "cell_type": "code",
   "execution_count": 57,
   "metadata": {},
   "outputs": [],
   "source": [
    "s= s.reshape(4,28,28)\n"
   ]
  },
  {
   "cell_type": "code",
   "execution_count": 58,
   "metadata": {},
   "outputs": [
    {
     "data": {
      "image/png": "[encoded data removed]",
      "text/plain": [
       "<Figure size 576x576 with 4 Axes>"
      ]
     },
     "metadata": {
      "needs_background": "light"
     },
     "output_type": "display_data"
    }
   ],
   "source": [
    "fig=plt.figure(figsize=(8, 8))\n",
    "columns = 2\n",
    "rows = 2\n",
    "for i in range(1, columns*rows +1):\n",
    "    img = s[i-1]\n",
    "    fig.add_subplot(rows, columns, i)\n",
    "    plt.imshow(img)\n",
    "plt.show()\n"
   ]
  },
  {
   "cell_type": "code",
   "execution_count": 59,
   "metadata": {},
   "outputs": [],
   "source": [
    "encoder = Model(x, z_mean)\n"
   ]
  },
  {
   "cell_type": "code",
   "execution_count": 60,
   "metadata": {},
   "outputs": [
    {
     "data": {
      "image/png": "[encoded data removed]",
      "text/plain": [
       "<Figure size 432x432 with 2 Axes>"
      ]
     },
     "metadata": {
      "needs_background": "light"
     },
     "output_type": "display_data"
    }
   ],
   "source": [
    "x_test_encoded = encoder.predict(X_test_flat, batch_size=batch_size)\n",
    "plt.figure(figsize=(6, 6))\n",
    "plt.scatter(x_test_encoded[:, 0], x_test_encoded[:, 1], c=y_test)\n",
    "plt.colorbar()\n",
    "plt.show()\n"
   ]
  },
  {
   "cell_type": "markdown",
   "metadata": {},
   "source": [
    "### Autoencoder for credit cards\n",
    "\n",
    "이번 섹션을 통해서 신용카드 사기 문제를 한 번 더 다뤄보자. 다루를 데이터셋에서 익명화된 신용카드 거래 기록이 있는데, feature engineering을 하기엔 적합하지 않아 end-to-end learning method로 fraud detoection을 해보자."
   ]
  },
  {
   "cell_type": "code",
   "execution_count": 61,
   "metadata": {},
   "outputs": [],
   "source": [
    "import numpy as np\n",
    "import pandas as pd\n",
    "\n",
    "df = pd.read_csv('../input/creditcard.csv')"
   ]
  },
  {
   "cell_type": "code",
   "execution_count": 62,
   "metadata": {},
   "outputs": [
    {
     "data": {
      "text/html": [
       "<div>\n",
       "<style scoped>\n",
       "    .dataframe tbody tr th:only-of-type {\n",
       "        vertical-align: middle;\n",
       "    }\n",
       "\n",
       "    .dataframe tbody tr th {\n",
       "        vertical-align: top;\n",
       "    }\n",
       "\n",
       "    .dataframe thead th {\n",
       "        text-align: right;\n",
       "    }\n",
       "</style>\n",
       "<table border=\"1\" class=\"dataframe\">\n",
       "  <thead>\n",
       "    <tr style=\"text-align: right;\">\n",
       "      <th></th>\n",
       "      <th>Time</th>\n",
       "      <th>V1</th>\n",
       "      <th>V2</th>\n",
       "      <th>V3</th>\n",
       "      <th>V4</th>\n",
       "      <th>V5</th>\n",
       "      <th>V6</th>\n",
       "      <th>V7</th>\n",
       "      <th>V8</th>\n",
       "      <th>V9</th>\n",
       "      <th>...</th>\n",
       "      <th>V21</th>\n",
       "      <th>V22</th>\n",
       "      <th>V23</th>\n",
       "      <th>V24</th>\n",
       "      <th>V25</th>\n",
       "      <th>V26</th>\n",
       "      <th>V27</th>\n",
       "      <th>V28</th>\n",
       "      <th>Amount</th>\n",
       "      <th>Class</th>\n",
       "    </tr>\n",
       "  </thead>\n",
       "  <tbody>\n",
       "    <tr>\n",
       "      <th>0</th>\n",
       "      <td>0.0</td>\n",
       "      <td>-1.359807</td>\n",
       "      <td>-0.072781</td>\n",
       "      <td>2.536347</td>\n",
       "      <td>1.378155</td>\n",
       "      <td>-0.338321</td>\n",
       "      <td>0.462388</td>\n",
       "      <td>0.239599</td>\n",
       "      <td>0.098698</td>\n",
       "      <td>0.363787</td>\n",
       "      <td>...</td>\n",
       "      <td>-0.018307</td>\n",
       "      <td>0.277838</td>\n",
       "      <td>-0.110474</td>\n",
       "      <td>0.066928</td>\n",
       "      <td>0.128539</td>\n",
       "      <td>-0.189115</td>\n",
       "      <td>0.133558</td>\n",
       "      <td>-0.021053</td>\n",
       "      <td>149.62</td>\n",
       "      <td>0</td>\n",
       "    </tr>\n",
       "    <tr>\n",
       "      <th>1</th>\n",
       "      <td>0.0</td>\n",
       "      <td>1.191857</td>\n",
       "      <td>0.266151</td>\n",
       "      <td>0.166480</td>\n",
       "      <td>0.448154</td>\n",
       "      <td>0.060018</td>\n",
       "      <td>-0.082361</td>\n",
       "      <td>-0.078803</td>\n",
       "      <td>0.085102</td>\n",
       "      <td>-0.255425</td>\n",
       "      <td>...</td>\n",
       "      <td>-0.225775</td>\n",
       "      <td>-0.638672</td>\n",
       "      <td>0.101288</td>\n",
       "      <td>-0.339846</td>\n",
       "      <td>0.167170</td>\n",
       "      <td>0.125895</td>\n",
       "      <td>-0.008983</td>\n",
       "      <td>0.014724</td>\n",
       "      <td>2.69</td>\n",
       "      <td>0</td>\n",
       "    </tr>\n",
       "    <tr>\n",
       "      <th>2</th>\n",
       "      <td>1.0</td>\n",
       "      <td>-1.358354</td>\n",
       "      <td>-1.340163</td>\n",
       "      <td>1.773209</td>\n",
       "      <td>0.379780</td>\n",
       "      <td>-0.503198</td>\n",
       "      <td>1.800499</td>\n",
       "      <td>0.791461</td>\n",
       "      <td>0.247676</td>\n",
       "      <td>-1.514654</td>\n",
       "      <td>...</td>\n",
       "      <td>0.247998</td>\n",
       "      <td>0.771679</td>\n",
       "      <td>0.909412</td>\n",
       "      <td>-0.689281</td>\n",
       "      <td>-0.327642</td>\n",
       "      <td>-0.139097</td>\n",
       "      <td>-0.055353</td>\n",
       "      <td>-0.059752</td>\n",
       "      <td>378.66</td>\n",
       "      <td>0</td>\n",
       "    </tr>\n",
       "    <tr>\n",
       "      <th>3</th>\n",
       "      <td>1.0</td>\n",
       "      <td>-0.966272</td>\n",
       "      <td>-0.185226</td>\n",
       "      <td>1.792993</td>\n",
       "      <td>-0.863291</td>\n",
       "      <td>-0.010309</td>\n",
       "      <td>1.247203</td>\n",
       "      <td>0.237609</td>\n",
       "      <td>0.377436</td>\n",
       "      <td>-1.387024</td>\n",
       "      <td>...</td>\n",
       "      <td>-0.108300</td>\n",
       "      <td>0.005274</td>\n",
       "      <td>-0.190321</td>\n",
       "      <td>-1.175575</td>\n",
       "      <td>0.647376</td>\n",
       "      <td>-0.221929</td>\n",
       "      <td>0.062723</td>\n",
       "      <td>0.061458</td>\n",
       "      <td>123.50</td>\n",
       "      <td>0</td>\n",
       "    </tr>\n",
       "    <tr>\n",
       "      <th>4</th>\n",
       "      <td>2.0</td>\n",
       "      <td>-1.158233</td>\n",
       "      <td>0.877737</td>\n",
       "      <td>1.548718</td>\n",
       "      <td>0.403034</td>\n",
       "      <td>-0.407193</td>\n",
       "      <td>0.095921</td>\n",
       "      <td>0.592941</td>\n",
       "      <td>-0.270533</td>\n",
       "      <td>0.817739</td>\n",
       "      <td>...</td>\n",
       "      <td>-0.009431</td>\n",
       "      <td>0.798278</td>\n",
       "      <td>-0.137458</td>\n",
       "      <td>0.141267</td>\n",
       "      <td>-0.206010</td>\n",
       "      <td>0.502292</td>\n",
       "      <td>0.219422</td>\n",
       "      <td>0.215153</td>\n",
       "      <td>69.99</td>\n",
       "      <td>0</td>\n",
       "    </tr>\n",
       "  </tbody>\n",
       "</table>\n",
       "<p>5 rows × 31 columns</p>\n",
       "</div>"
      ],
      "text/plain": [
       "   Time        V1        V2        V3        V4        V5        V6        V7  \\\n",
       "0   0.0 -1.359807 -0.072781  2.536347  1.378155 -0.338321  0.462388  0.239599   \n",
       "1   0.0  1.191857  0.266151  0.166480  0.448154  0.060018 -0.082361 -0.078803   \n",
       "2   1.0 -1.358354 -1.340163  1.773209  0.379780 -0.503198  1.800499  0.791461   \n",
       "3   1.0 -0.966272 -0.185226  1.792993 -0.863291 -0.010309  1.247203  0.237609   \n",
       "4   2.0 -1.158233  0.877737  1.548718  0.403034 -0.407193  0.095921  0.592941   \n",
       "\n",
       "         V8        V9  ...       V21       V22       V23       V24       V25  \\\n",
       "0  0.098698  0.363787  ... -0.018307  0.277838 -0.110474  0.066928  0.128539   \n",
       "1  0.085102 -0.255425  ... -0.225775 -0.638672  0.101288 -0.339846  0.167170   \n",
       "2  0.247676 -1.514654  ...  0.247998  0.771679  0.909412 -0.689281 -0.327642   \n",
       "3  0.377436 -1.387024  ... -0.108300  0.005274 -0.190321 -1.175575  0.647376   \n",
       "4 -0.270533  0.817739  ... -0.009431  0.798278 -0.137458  0.141267 -0.206010   \n",
       "\n",
       "        V26       V27       V28  Amount  Class  \n",
       "0 -0.189115  0.133558 -0.021053  149.62      0  \n",
       "1  0.125895 -0.008983  0.014724    2.69      0  \n",
       "2 -0.139097 -0.055353 -0.059752  378.66      0  \n",
       "3 -0.221929  0.062723  0.061458  123.50      0  \n",
       "4  0.502292  0.219422  0.215153   69.99      0  \n",
       "\n",
       "[5 rows x 31 columns]"
      ]
     },
     "execution_count": 62,
     "metadata": {},
     "output_type": "execute_result"
    }
   ],
   "source": [
    "df.head()"
   ]
  },
  {
   "cell_type": "code",
   "execution_count": 63,
   "metadata": {},
   "outputs": [
    {
     "data": {
      "text/html": [
       "<div>\n",
       "<style scoped>\n",
       "    .dataframe tbody tr th:only-of-type {\n",
       "        vertical-align: middle;\n",
       "    }\n",
       "\n",
       "    .dataframe tbody tr th {\n",
       "        vertical-align: top;\n",
       "    }\n",
       "\n",
       "    .dataframe thead th {\n",
       "        text-align: right;\n",
       "    }\n",
       "</style>\n",
       "<table border=\"1\" class=\"dataframe\">\n",
       "  <thead>\n",
       "    <tr style=\"text-align: right;\">\n",
       "      <th></th>\n",
       "      <th>Time</th>\n",
       "      <th>V1</th>\n",
       "      <th>V2</th>\n",
       "      <th>V3</th>\n",
       "      <th>V4</th>\n",
       "      <th>V5</th>\n",
       "      <th>V6</th>\n",
       "      <th>V7</th>\n",
       "      <th>V8</th>\n",
       "      <th>V9</th>\n",
       "      <th>...</th>\n",
       "      <th>V21</th>\n",
       "      <th>V22</th>\n",
       "      <th>V23</th>\n",
       "      <th>V24</th>\n",
       "      <th>V25</th>\n",
       "      <th>V26</th>\n",
       "      <th>V27</th>\n",
       "      <th>V28</th>\n",
       "      <th>Amount</th>\n",
       "      <th>Class</th>\n",
       "    </tr>\n",
       "  </thead>\n",
       "  <tbody>\n",
       "    <tr>\n",
       "      <th>count</th>\n",
       "      <td>284807.000000</td>\n",
       "      <td>2.848070e+05</td>\n",
       "      <td>2.848070e+05</td>\n",
       "      <td>2.848070e+05</td>\n",
       "      <td>2.848070e+05</td>\n",
       "      <td>2.848070e+05</td>\n",
       "      <td>2.848070e+05</td>\n",
       "      <td>2.848070e+05</td>\n",
       "      <td>2.848070e+05</td>\n",
       "      <td>2.848070e+05</td>\n",
       "      <td>...</td>\n",
       "      <td>2.848070e+05</td>\n",
       "      <td>2.848070e+05</td>\n",
       "      <td>2.848070e+05</td>\n",
       "      <td>2.848070e+05</td>\n",
       "      <td>2.848070e+05</td>\n",
       "      <td>2.848070e+05</td>\n",
       "      <td>2.848070e+05</td>\n",
       "      <td>2.848070e+05</td>\n",
       "      <td>284807.000000</td>\n",
       "      <td>284807.000000</td>\n",
       "    </tr>\n",
       "    <tr>\n",
       "      <th>mean</th>\n",
       "      <td>94813.859575</td>\n",
       "      <td>1.165980e-15</td>\n",
       "      <td>3.416908e-16</td>\n",
       "      <td>-1.373150e-15</td>\n",
       "      <td>2.086869e-15</td>\n",
       "      <td>9.604066e-16</td>\n",
       "      <td>1.490107e-15</td>\n",
       "      <td>-5.556467e-16</td>\n",
       "      <td>1.177556e-16</td>\n",
       "      <td>-2.406455e-15</td>\n",
       "      <td>...</td>\n",
       "      <td>1.656562e-16</td>\n",
       "      <td>-3.444850e-16</td>\n",
       "      <td>2.578648e-16</td>\n",
       "      <td>4.471968e-15</td>\n",
       "      <td>5.340915e-16</td>\n",
       "      <td>1.687098e-15</td>\n",
       "      <td>-3.666453e-16</td>\n",
       "      <td>-1.220404e-16</td>\n",
       "      <td>88.349619</td>\n",
       "      <td>0.001727</td>\n",
       "    </tr>\n",
       "    <tr>\n",
       "      <th>std</th>\n",
       "      <td>47488.145955</td>\n",
       "      <td>1.958696e+00</td>\n",
       "      <td>1.651309e+00</td>\n",
       "      <td>1.516255e+00</td>\n",
       "      <td>1.415869e+00</td>\n",
       "      <td>1.380247e+00</td>\n",
       "      <td>1.332271e+00</td>\n",
       "      <td>1.237094e+00</td>\n",
       "      <td>1.194353e+00</td>\n",
       "      <td>1.098632e+00</td>\n",
       "      <td>...</td>\n",
       "      <td>7.345240e-01</td>\n",
       "      <td>7.257016e-01</td>\n",
       "      <td>6.244603e-01</td>\n",
       "      <td>6.056471e-01</td>\n",
       "      <td>5.212781e-01</td>\n",
       "      <td>4.822270e-01</td>\n",
       "      <td>4.036325e-01</td>\n",
       "      <td>3.300833e-01</td>\n",
       "      <td>250.120109</td>\n",
       "      <td>0.041527</td>\n",
       "    </tr>\n",
       "    <tr>\n",
       "      <th>min</th>\n",
       "      <td>0.000000</td>\n",
       "      <td>-5.640751e+01</td>\n",
       "      <td>-7.271573e+01</td>\n",
       "      <td>-4.832559e+01</td>\n",
       "      <td>-5.683171e+00</td>\n",
       "      <td>-1.137433e+02</td>\n",
       "      <td>-2.616051e+01</td>\n",
       "      <td>-4.355724e+01</td>\n",
       "      <td>-7.321672e+01</td>\n",
       "      <td>-1.343407e+01</td>\n",
       "      <td>...</td>\n",
       "      <td>-3.483038e+01</td>\n",
       "      <td>-1.093314e+01</td>\n",
       "      <td>-4.480774e+01</td>\n",
       "      <td>-2.836627e+00</td>\n",
       "      <td>-1.029540e+01</td>\n",
       "      <td>-2.604551e+00</td>\n",
       "      <td>-2.256568e+01</td>\n",
       "      <td>-1.543008e+01</td>\n",
       "      <td>0.000000</td>\n",
       "      <td>0.000000</td>\n",
       "    </tr>\n",
       "    <tr>\n",
       "      <th>25%</th>\n",
       "      <td>54201.500000</td>\n",
       "      <td>-9.203734e-01</td>\n",
       "      <td>-5.985499e-01</td>\n",
       "      <td>-8.903648e-01</td>\n",
       "      <td>-8.486401e-01</td>\n",
       "      <td>-6.915971e-01</td>\n",
       "      <td>-7.682956e-01</td>\n",
       "      <td>-5.540759e-01</td>\n",
       "      <td>-2.086297e-01</td>\n",
       "      <td>-6.430976e-01</td>\n",
       "      <td>...</td>\n",
       "      <td>-2.283949e-01</td>\n",
       "      <td>-5.423504e-01</td>\n",
       "      <td>-1.618463e-01</td>\n",
       "      <td>-3.545861e-01</td>\n",
       "      <td>-3.171451e-01</td>\n",
       "      <td>-3.269839e-01</td>\n",
       "      <td>-7.083953e-02</td>\n",
       "      <td>-5.295979e-02</td>\n",
       "      <td>5.600000</td>\n",
       "      <td>0.000000</td>\n",
       "    </tr>\n",
       "    <tr>\n",
       "      <th>50%</th>\n",
       "      <td>84692.000000</td>\n",
       "      <td>1.810880e-02</td>\n",
       "      <td>6.548556e-02</td>\n",
       "      <td>1.798463e-01</td>\n",
       "      <td>-1.984653e-02</td>\n",
       "      <td>-5.433583e-02</td>\n",
       "      <td>-2.741871e-01</td>\n",
       "      <td>4.010308e-02</td>\n",
       "      <td>2.235804e-02</td>\n",
       "      <td>-5.142873e-02</td>\n",
       "      <td>...</td>\n",
       "      <td>-2.945017e-02</td>\n",
       "      <td>6.781943e-03</td>\n",
       "      <td>-1.119293e-02</td>\n",
       "      <td>4.097606e-02</td>\n",
       "      <td>1.659350e-02</td>\n",
       "      <td>-5.213911e-02</td>\n",
       "      <td>1.342146e-03</td>\n",
       "      <td>1.124383e-02</td>\n",
       "      <td>22.000000</td>\n",
       "      <td>0.000000</td>\n",
       "    </tr>\n",
       "    <tr>\n",
       "      <th>75%</th>\n",
       "      <td>139320.500000</td>\n",
       "      <td>1.315642e+00</td>\n",
       "      <td>8.037239e-01</td>\n",
       "      <td>1.027196e+00</td>\n",
       "      <td>7.433413e-01</td>\n",
       "      <td>6.119264e-01</td>\n",
       "      <td>3.985649e-01</td>\n",
       "      <td>5.704361e-01</td>\n",
       "      <td>3.273459e-01</td>\n",
       "      <td>5.971390e-01</td>\n",
       "      <td>...</td>\n",
       "      <td>1.863772e-01</td>\n",
       "      <td>5.285536e-01</td>\n",
       "      <td>1.476421e-01</td>\n",
       "      <td>4.395266e-01</td>\n",
       "      <td>3.507156e-01</td>\n",
       "      <td>2.409522e-01</td>\n",
       "      <td>9.104512e-02</td>\n",
       "      <td>7.827995e-02</td>\n",
       "      <td>77.165000</td>\n",
       "      <td>0.000000</td>\n",
       "    </tr>\n",
       "    <tr>\n",
       "      <th>max</th>\n",
       "      <td>172792.000000</td>\n",
       "      <td>2.454930e+00</td>\n",
       "      <td>2.205773e+01</td>\n",
       "      <td>9.382558e+00</td>\n",
       "      <td>1.687534e+01</td>\n",
       "      <td>3.480167e+01</td>\n",
       "      <td>7.330163e+01</td>\n",
       "      <td>1.205895e+02</td>\n",
       "      <td>2.000721e+01</td>\n",
       "      <td>1.559499e+01</td>\n",
       "      <td>...</td>\n",
       "      <td>2.720284e+01</td>\n",
       "      <td>1.050309e+01</td>\n",
       "      <td>2.252841e+01</td>\n",
       "      <td>4.584549e+00</td>\n",
       "      <td>7.519589e+00</td>\n",
       "      <td>3.517346e+00</td>\n",
       "      <td>3.161220e+01</td>\n",
       "      <td>3.384781e+01</td>\n",
       "      <td>25691.160000</td>\n",
       "      <td>1.000000</td>\n",
       "    </tr>\n",
       "  </tbody>\n",
       "</table>\n",
       "<p>8 rows × 31 columns</p>\n",
       "</div>"
      ],
      "text/plain": [
       "                Time            V1            V2            V3            V4  \\\n",
       "count  284807.000000  2.848070e+05  2.848070e+05  2.848070e+05  2.848070e+05   \n",
       "mean    94813.859575  1.165980e-15  3.416908e-16 -1.373150e-15  2.086869e-15   \n",
       "std     47488.145955  1.958696e+00  1.651309e+00  1.516255e+00  1.415869e+00   \n",
       "min         0.000000 -5.640751e+01 -7.271573e+01 -4.832559e+01 -5.683171e+00   \n",
       "25%     54201.500000 -9.203734e-01 -5.985499e-01 -8.903648e-01 -8.486401e-01   \n",
       "50%     84692.000000  1.810880e-02  6.548556e-02  1.798463e-01 -1.984653e-02   \n",
       "75%    139320.500000  1.315642e+00  8.037239e-01  1.027196e+00  7.433413e-01   \n",
       "max    172792.000000  2.454930e+00  2.205773e+01  9.382558e+00  1.687534e+01   \n",
       "\n",
       "                 V5            V6            V7            V8            V9  \\\n",
       "count  2.848070e+05  2.848070e+05  2.848070e+05  2.848070e+05  2.848070e+05   \n",
       "mean   9.604066e-16  1.490107e-15 -5.556467e-16  1.177556e-16 -2.406455e-15   \n",
       "std    1.380247e+00  1.332271e+00  1.237094e+00  1.194353e+00  1.098632e+00   \n",
       "min   -1.137433e+02 -2.616051e+01 -4.355724e+01 -7.321672e+01 -1.343407e+01   \n",
       "25%   -6.915971e-01 -7.682956e-01 -5.540759e-01 -2.086297e-01 -6.430976e-01   \n",
       "50%   -5.433583e-02 -2.741871e-01  4.010308e-02  2.235804e-02 -5.142873e-02   \n",
       "75%    6.119264e-01  3.985649e-01  5.704361e-01  3.273459e-01  5.971390e-01   \n",
       "max    3.480167e+01  7.330163e+01  1.205895e+02  2.000721e+01  1.559499e+01   \n",
       "\n",
       "       ...           V21           V22           V23           V24  \\\n",
       "count  ...  2.848070e+05  2.848070e+05  2.848070e+05  2.848070e+05   \n",
       "mean   ...  1.656562e-16 -3.444850e-16  2.578648e-16  4.471968e-15   \n",
       "std    ...  7.345240e-01  7.257016e-01  6.244603e-01  6.056471e-01   \n",
       "min    ... -3.483038e+01 -1.093314e+01 -4.480774e+01 -2.836627e+00   \n",
       "25%    ... -2.283949e-01 -5.423504e-01 -1.618463e-01 -3.545861e-01   \n",
       "50%    ... -2.945017e-02  6.781943e-03 -1.119293e-02  4.097606e-02   \n",
       "75%    ...  1.863772e-01  5.285536e-01  1.476421e-01  4.395266e-01   \n",
       "max    ...  2.720284e+01  1.050309e+01  2.252841e+01  4.584549e+00   \n",
       "\n",
       "                V25           V26           V27           V28         Amount  \\\n",
       "count  2.848070e+05  2.848070e+05  2.848070e+05  2.848070e+05  284807.000000   \n",
       "mean   5.340915e-16  1.687098e-15 -3.666453e-16 -1.220404e-16      88.349619   \n",
       "std    5.212781e-01  4.822270e-01  4.036325e-01  3.300833e-01     250.120109   \n",
       "min   -1.029540e+01 -2.604551e+00 -2.256568e+01 -1.543008e+01       0.000000   \n",
       "25%   -3.171451e-01 -3.269839e-01 -7.083953e-02 -5.295979e-02       5.600000   \n",
       "50%    1.659350e-02 -5.213911e-02  1.342146e-03  1.124383e-02      22.000000   \n",
       "75%    3.507156e-01  2.409522e-01  9.104512e-02  7.827995e-02      77.165000   \n",
       "max    7.519589e+00  3.517346e+00  3.161220e+01  3.384781e+01   25691.160000   \n",
       "\n",
       "               Class  \n",
       "count  284807.000000  \n",
       "mean        0.001727  \n",
       "std         0.041527  \n",
       "min         0.000000  \n",
       "25%         0.000000  \n",
       "50%         0.000000  \n",
       "75%         0.000000  \n",
       "max         1.000000  \n",
       "\n",
       "[8 rows x 31 columns]"
      ]
     },
     "execution_count": 63,
     "metadata": {},
     "output_type": "execute_result"
    }
   ],
   "source": [
    "df.describe()"
   ]
  },
  {
   "cell_type": "markdown",
   "metadata": {},
   "source": [
    "Time 컬럼은 transaction에 대한 절대 시간인데, 여기서는 데이터를 다루기 힘들게 한다. 그래서 그냥 이 컬럼을 없앤다."
   ]
  },
  {
   "cell_type": "code",
   "execution_count": 64,
   "metadata": {},
   "outputs": [
    {
     "data": {
      "text/plain": [
       "Time      0\n",
       "V1        0\n",
       "V2        0\n",
       "V3        0\n",
       "V4        0\n",
       "V5        0\n",
       "V6        0\n",
       "V7        0\n",
       "V8        0\n",
       "V9        0\n",
       "V10       0\n",
       "V11       0\n",
       "V12       0\n",
       "V13       0\n",
       "V14       0\n",
       "V15       0\n",
       "V16       0\n",
       "V17       0\n",
       "V18       0\n",
       "V19       0\n",
       "V20       0\n",
       "V21       0\n",
       "V22       0\n",
       "V23       0\n",
       "V24       0\n",
       "V25       0\n",
       "V26       0\n",
       "V27       0\n",
       "V28       0\n",
       "Amount    0\n",
       "Class     0\n",
       "dtype: int64"
      ]
     },
     "execution_count": 64,
     "metadata": {},
     "output_type": "execute_result"
    }
   ],
   "source": [
    "df.isnull().sum()"
   ]
  },
  {
   "cell_type": "code",
   "execution_count": 65,
   "metadata": {},
   "outputs": [],
   "source": [
    "df = df.drop('Time',axis=1)"
   ]
  },
  {
   "cell_type": "markdown",
   "metadata": {},
   "source": [
    "Class 컬럼을 제외하고 데이터의 값을 X에 넣고, Y에는 Class 컬럼에 해당하는 값을 넣는다."
   ]
  },
  {
   "cell_type": "code",
   "execution_count": 66,
   "metadata": {},
   "outputs": [
    {
     "name": "stdout",
     "output_type": "stream",
     "text": [
      "(284807, 29)\n"
     ]
    }
   ],
   "source": [
    "X = df.drop('Class',axis=1).values \n",
    "y = df['Class'].values\n",
    "print(X.shape)"
   ]
  },
  {
   "cell_type": "code",
   "execution_count": 67,
   "metadata": {},
   "outputs": [
    {
     "data": {
      "text/plain": [
       "array([-1.35980713e+00, -7.27811733e-02,  2.53634674e+00,  1.37815522e+00,\n",
       "       -3.38320770e-01,  4.62387778e-01,  2.39598554e-01,  9.86979013e-02,\n",
       "        3.63786970e-01,  9.07941720e-02, -5.51599533e-01, -6.17800856e-01,\n",
       "       -9.91389847e-01, -3.11169354e-01,  1.46817697e+00, -4.70400525e-01,\n",
       "        2.07971242e-01,  2.57905802e-02,  4.03992960e-01,  2.51412098e-01,\n",
       "       -1.83067779e-02,  2.77837576e-01, -1.10473910e-01,  6.69280749e-02,\n",
       "        1.28539358e-01, -1.89114844e-01,  1.33558377e-01, -2.10530535e-02,\n",
       "        1.49620000e+02])"
      ]
     },
     "execution_count": 67,
     "metadata": {},
     "output_type": "execute_result"
    }
   ],
   "source": [
    "X[0]"
   ]
  },
  {
   "cell_type": "markdown",
   "metadata": {},
   "source": [
    "이제 feature scale이 필요로 한다. 피처 스케일링은 모델이 좋은 데이터의 표현을 쉽게 학습할 수 있다. feature의 스케일을 0에서 1사이로 맞추겠다. 그러나 이 방법은 이상치에 민감하다는 것을 알아야 한다. 각 컬럼에 대해 최소값을 빼서 최소값이 0이 되도록 한다. 그 다음 최댓값으로 나눈다. 최댓값이 1이 되로록 최댓값으로 나눈다. "
   ]
  },
  {
   "cell_type": "code",
   "execution_count": 68,
   "metadata": {},
   "outputs": [],
   "source": [
    "X -= X.min(axis = 0)\n",
    "X /= X.max(axis = 0)"
   ]
  },
  {
   "cell_type": "code",
   "execution_count": 69,
   "metadata": {},
   "outputs": [
    {
     "data": {
      "text/plain": [
       "0.5213456986251124"
      ]
     },
     "execution_count": 69,
     "metadata": {},
     "output_type": "execute_result"
    }
   ],
   "source": [
    "X.mean()"
   ]
  },
  {
   "cell_type": "markdown",
   "metadata": {},
   "source": [
    "그런 다음 데이터를 나누자."
   ]
  },
  {
   "cell_type": "code",
   "execution_count": 70,
   "metadata": {},
   "outputs": [],
   "source": [
    "from sklearn.model_selection import train_test_split\n",
    "X_train, X_test, y_train, y_test = train_test_split(X, y, test_size=0.1)"
   ]
  },
  {
   "cell_type": "markdown",
   "metadata": {},
   "source": [
    "이전에 만들었던 autoencoder와 같은 걸 만드는데 차원을 다르게 해보겠다. 입력은 29차원이고 12차원으로 압축하고 다시 29차원으로 복구한다. 여기서 12차원은 임의로 정한 것이다. "
   ]
  },
  {
   "cell_type": "code",
   "execution_count": 71,
   "metadata": {},
   "outputs": [],
   "source": [
    "from keras.models import Model\n",
    "from keras.layers import Input, Dense"
   ]
  },
  {
   "cell_type": "markdown",
   "metadata": {},
   "source": [
    "디코드 데이터를 위해 활성화 함수로 시그모이드 함수를 사용하겠다. 데이터의 스케일을 0과 1사이로 만들어야 하기 때문에 시그모이드만 가능하다. tanh 함수를 인코딩 레이어에 사용한다. 인코딩된 값이 -1과 1사이에 있어야 하고 실험적으로 잘 작동해서 쓴다. 개인의 필요에 따라 다른 활성화 함수를 사용할 수 있다.\n",
    "\n",
    "만약 이미지 또는 깊은 신경망으로 작업한다면 ReLU activation이 좋은 선택이다. 그러나 shallower network를 지금과 같은 작업에 사용한다면 tanh는 잘 작동한다."
   ]
  },
  {
   "cell_type": "code",
   "execution_count": 72,
   "metadata": {},
   "outputs": [],
   "source": [
    "data_in = Input(shape=(29,))\n",
    "encoded = Dense(12,activation='tanh')(data_in)\n",
    "decoded = Dense(29,activation='sigmoid')(encoded)\n",
    "autoencoder = Model(data_in,decoded)"
   ]
  },
  {
   "cell_type": "markdown",
   "metadata": {},
   "source": [
    "이 예제에서 우리는 mean squared error loss를 사용한다. 시그모이드 활성화 함수를 MSE와 같이 사용하는게 일반적이지 않아서 이상하게 보일 수 있다. 보통 시그모이드 함수는 cross-entropy loss와 같이 사용한다. 그러나  크로스 엔트로피는 0 또는 1 과 같은 값에 쓰이는데 분류 문제에 적합하다.\n",
    "\n",
    "우리의 credit card 예제에서, 대부분의 값은 0.5이다. MSE는 타겟이 binary가 아니라 범위의 값을 잘 다룬다. "
   ]
  },
  {
   "cell_type": "code",
   "execution_count": 73,
   "metadata": {},
   "outputs": [],
   "source": [
    "autoencoder.compile(optimizer='adam', loss='mean_squared_error')"
   ]
  },
  {
   "cell_type": "code",
   "execution_count": 74,
   "metadata": {},
   "outputs": [
    {
     "data": {
      "text/plain": [
       "(256326, 29)"
      ]
     },
     "execution_count": 74,
     "metadata": {},
     "output_type": "execute_result"
    }
   ],
   "source": [
    "X_train.shape"
   ]
  },
  {
   "cell_type": "code",
   "execution_count": 75,
   "metadata": {},
   "outputs": [
    {
     "name": "stdout",
     "output_type": "stream",
     "text": [
      "Epoch 1/20\n",
      "2003/2003 [==============================] - 3s 2ms/step - loss: 0.0033 - val_loss: 0.0015\n",
      "Epoch 2/20\n",
      "2003/2003 [==============================] - 3s 2ms/step - loss: 0.0011 - val_loss: 8.9021e-04\n",
      "Epoch 3/20\n",
      "2003/2003 [==============================] - 3s 2ms/step - loss: 7.4000e-04 - val_loss: 5.8809e-04\n",
      "Epoch 4/20\n",
      "2003/2003 [==============================] - 3s 2ms/step - loss: 4.9608e-04 - val_loss: 4.3634e-04\n",
      "Epoch 5/20\n",
      "2003/2003 [==============================] - 3s 2ms/step - loss: 3.6702e-04 - val_loss: 3.1912e-04\n",
      "Epoch 6/20\n",
      "2003/2003 [==============================] - 3s 2ms/step - loss: 2.9590e-04 - val_loss: 2.8235e-04\n",
      "Epoch 7/20\n",
      "2003/2003 [==============================] - 3s 2ms/step - loss: 2.7278e-04 - val_loss: 2.6590e-04\n",
      "Epoch 8/20\n",
      "2003/2003 [==============================] - 3s 2ms/step - loss: 2.5951e-04 - val_loss: 2.5330e-04\n",
      "Epoch 9/20\n",
      "2003/2003 [==============================] - 3s 2ms/step - loss: 2.4674e-04 - val_loss: 2.4177e-04\n",
      "Epoch 10/20\n",
      "2003/2003 [==============================] - 3s 2ms/step - loss: 2.3649e-04 - val_loss: 2.3224e-04\n",
      "Epoch 11/20\n",
      "2003/2003 [==============================] - 3s 2ms/step - loss: 2.2760e-04 - val_loss: 2.2400e-04\n",
      "Epoch 12/20\n",
      "2003/2003 [==============================] - 3s 2ms/step - loss: 2.1992e-04 - val_loss: 2.1705e-04\n",
      "Epoch 13/20\n",
      "2003/2003 [==============================] - 3s 2ms/step - loss: 2.1453e-04 - val_loss: 2.1269e-04\n",
      "Epoch 14/20\n",
      "2003/2003 [==============================] - 3s 2ms/step - loss: 2.1122e-04 - val_loss: 2.0975e-04\n",
      "Epoch 15/20\n",
      "2003/2003 [==============================] - 3s 2ms/step - loss: 2.0906e-04 - val_loss: 2.0795e-04\n",
      "Epoch 16/20\n",
      "2003/2003 [==============================] - 3s 2ms/step - loss: 2.0749e-04 - val_loss: 2.0665e-04\n",
      "Epoch 17/20\n",
      "2003/2003 [==============================] - 3s 2ms/step - loss: 2.0643e-04 - val_loss: 2.0531e-04\n",
      "Epoch 18/20\n",
      "2003/2003 [==============================] - 3s 2ms/step - loss: 2.0558e-04 - val_loss: 2.0479e-04\n",
      "Epoch 19/20\n",
      "2003/2003 [==============================] - 3s 2ms/step - loss: 2.0493e-04 - val_loss: 2.0408e-04\n",
      "Epoch 20/20\n",
      "2003/2003 [==============================] - 3s 2ms/step - loss: 2.0434e-04 - val_loss: 2.0328e-04\n"
     ]
    },
    {
     "data": {
      "text/plain": [
       "<tensorflow.python.keras.callbacks.History at 0x237189ab6d8>"
      ]
     },
     "execution_count": 75,
     "metadata": {},
     "output_type": "execute_result"
    }
   ],
   "source": [
    "autoencoder.fit(X_train,\n",
    "                X_train,\n",
    "                epochs = 20, \n",
    "                batch_size=128, \n",
    "                validation_data=(X_test,X_test))"
   ]
  },
  {
   "cell_type": "code",
   "execution_count": 76,
   "metadata": {},
   "outputs": [
    {
     "data": {
      "text/plain": [
       "0.521391150408518"
      ]
     },
     "execution_count": 76,
     "metadata": {},
     "output_type": "execute_result"
    }
   ],
   "source": [
    "X_test.mean()"
   ]
  },
  {
   "cell_type": "markdown",
   "metadata": {},
   "source": [
    "loss 값이 작은데, autoencoder가 잘 작동했는지 어떻게 알 수 있을까? 육안으로 조사하면 될 것이다. 사람은 시각저인 것을 잘 판단하지만 추상적인 숫자를 잘 판단하진 않는다. \n",
    "\n",
    "육안으로 알기 위해, 테스트 데이터의 서브셋을 autoencoder를 통해 실행하여 예측을 해보자."
   ]
  },
  {
   "cell_type": "code",
   "execution_count": 77,
   "metadata": {},
   "outputs": [],
   "source": [
    "pred = autoencoder.predict(X_test[0:10])"
   ]
  },
  {
   "cell_type": "code",
   "execution_count": 78,
   "metadata": {},
   "outputs": [
    {
     "data": {
      "image/png": "[encoded data removed]",
      "text/plain": [
       "<Figure size 720x504 with 1 Axes>"
      ]
     },
     "metadata": {
      "needs_background": "light"
     },
     "output_type": "display_data"
    }
   ],
   "source": [
    "import matplotlib.pyplot as plt\n",
    "import numpy as np\n",
    "\n",
    "width = 0.8\n",
    "\n",
    "prediction = pred[9]\n",
    "true_value = X_test[9]\n",
    "\n",
    "indices = np.arange(len(prediction))\n",
    "\n",
    "fig = plt.figure(figsize=(10,7))\n",
    "\n",
    "plt.bar(indices, prediction, width=width, \n",
    "        color='b', label='Predicted Value')\n",
    "\n",
    "plt.bar([i+0.25*width for i in indices], true_value, \n",
    "        width=0.5*width, color='r', alpha=0.5, label='True Value')\n",
    "\n",
    "plt.xticks(indices+width/2., \n",
    "           ['V{}'.format(i) for i in range(len(prediction))] )\n",
    "\n",
    "plt.legend()\n",
    "\n",
    "plt.show()"
   ]
  },
  {
   "cell_type": "markdown",
   "metadata": {},
   "source": [
    "위에서 보듯이 오리지널 값을 잘 만들어냈다. "
   ]
  },
  {
   "cell_type": "markdown",
   "metadata": {},
   "source": [
    "### Visualizing latent spaces with t_SNE\n",
    "\n",
    "autoencoder의 주요한 이점은 transaction을 저차원으로 표현하여 transaction의 주요한 요소를 캡처할 수 있다는 것이다."
   ]
  },
  {
   "cell_type": "code",
   "execution_count": 79,
   "metadata": {},
   "outputs": [],
   "source": [
    "encoder = Model(data_in, encoded)"
   ]
  },
  {
   "cell_type": "code",
   "execution_count": 80,
   "metadata": {},
   "outputs": [],
   "source": [
    "enc = encoder.predict(X_test)"
   ]
  },
  {
   "cell_type": "markdown",
   "metadata": {},
   "source": [
    "그러나 이 인코딩이 어떻게 fraud에 대한 의미있는 정보를 포함하고 있는지 알 수 있을까? 시각적으로 표현하는 것이 중요한데 인코딩 차원이 인풋 데이터보다 적긴 하지만 그래도 12차원이고 12차원 공간을 사람이 이해하기란 어렵다. 그래서 저차원으로 인코딩 모델의 특징을 보존하면서 표현할 필요가 있다.\n",
    "\n",
    "이 경우 주요하게 생각해봐야 하는 개념은 proximity(이웃, 근접)이다. 12차원의 이웃을 2차원으로 표현해야 하는데 이웃을 잘 다뤄야 한다. 고차원에서의 이웃이 저차원에서도 이웃이 되어야 한다는 말이다.\n",
    "\n",
    "이웃을 보존하는 것은 fraud의 군집을 찾기를 원하기 때문에 중요하다. 고차원을 저차원으로 바꿀때 이웃을 보존하면서 바꾸는 방법으로 t-distributed stochastic neighbor embedding(t-SNE)가 있다.\n",
    "\n",
    "t-SNE는 무작위 표본의 모든 점에서 두 점이 이웃일 확률을 나타낸다. 고차원 데이터와 동일한 가까운 이웃일 확률을 갖는 데이터의 저차원을 찾는다."
   ]
  },
  {
   "cell_type": "code",
   "execution_count": 81,
   "metadata": {},
   "outputs": [
    {
     "name": "stdout",
     "output_type": "stream",
     "text": [
      "[t-SNE] Computing 91 nearest neighbors...\n",
      "[t-SNE] Indexed 28481 samples in 0.079s...\n",
      "[t-SNE] Computed neighbors for 28481 samples in 10.566s...\n",
      "[t-SNE] Computed conditional probabilities for sample 1000 / 28481\n",
      "[t-SNE] Computed conditional probabilities for sample 2000 / 28481\n",
      "[t-SNE] Computed conditional probabilities for sample 3000 / 28481\n",
      "[t-SNE] Computed conditional probabilities for sample 4000 / 28481\n",
      "[t-SNE] Computed conditional probabilities for sample 5000 / 28481\n",
      "[t-SNE] Computed conditional probabilities for sample 6000 / 28481\n",
      "[t-SNE] Computed conditional probabilities for sample 7000 / 28481\n",
      "[t-SNE] Computed conditional probabilities for sample 8000 / 28481\n",
      "[t-SNE] Computed conditional probabilities for sample 9000 / 28481\n",
      "[t-SNE] Computed conditional probabilities for sample 10000 / 28481\n",
      "[t-SNE] Computed conditional probabilities for sample 11000 / 28481\n",
      "[t-SNE] Computed conditional probabilities for sample 12000 / 28481\n",
      "[t-SNE] Computed conditional probabilities for sample 13000 / 28481\n",
      "[t-SNE] Computed conditional probabilities for sample 14000 / 28481\n",
      "[t-SNE] Computed conditional probabilities for sample 15000 / 28481\n",
      "[t-SNE] Computed conditional probabilities for sample 16000 / 28481\n",
      "[t-SNE] Computed conditional probabilities for sample 17000 / 28481\n",
      "[t-SNE] Computed conditional probabilities for sample 18000 / 28481\n",
      "[t-SNE] Computed conditional probabilities for sample 19000 / 28481\n",
      "[t-SNE] Computed conditional probabilities for sample 20000 / 28481\n",
      "[t-SNE] Computed conditional probabilities for sample 21000 / 28481\n",
      "[t-SNE] Computed conditional probabilities for sample 22000 / 28481\n",
      "[t-SNE] Computed conditional probabilities for sample 23000 / 28481\n",
      "[t-SNE] Computed conditional probabilities for sample 24000 / 28481\n",
      "[t-SNE] Computed conditional probabilities for sample 25000 / 28481\n",
      "[t-SNE] Computed conditional probabilities for sample 26000 / 28481\n",
      "[t-SNE] Computed conditional probabilities for sample 27000 / 28481\n",
      "[t-SNE] Computed conditional probabilities for sample 28000 / 28481\n",
      "[t-SNE] Computed conditional probabilities for sample 28481 / 28481\n",
      "[t-SNE] Mean sigma: 0.079260\n",
      "[t-SNE] KL divergence after 250 iterations with early exaggeration: 93.775948\n",
      "[t-SNE] KL divergence after 5000 iterations: 1.585507\n"
     ]
    }
   ],
   "source": [
    "from sklearn.manifold import TSNE\n",
    "tsne = TSNE(verbose=1, n_iter=5000)\n",
    "res = tsne.fit_transform(enc)"
   ]
  },
  {
   "cell_type": "code",
   "execution_count": 82,
   "metadata": {},
   "outputs": [
    {
     "data": {
      "image/png": "[encoded data removed]",
      "text/plain": [
       "<Figure size 720x504 with 1 Axes>"
      ]
     },
     "metadata": {
      "needs_background": "light"
     },
     "output_type": "display_data"
    }
   ],
   "source": [
    "fig = plt.figure(figsize=(10,7))\n",
    "scatter = plt.scatter(res[:,0], res[:,1], c=y_test, cmap='coolwarm', s=0.6)\n",
    "scatter.axes.get_xaxis().set_visible(False)\n",
    "scatter.axes.get_yaxis().set_visible(False)"
   ]
  },
  {
   "cell_type": "markdown",
   "metadata": {},
   "source": [
    "### Variational autoencoders(VAE)\n",
    "\n",
    "오토인코터는 PCA와 기본적으로 비슷하다. 그러나 generative 모델로 확장할 수 있다는 특징이 있다. fraud case에서 인코더는 transaction의 가장 중요한 특징을 나타낼 수 있는 가능한 인코딩을 만들어 낼 수 있고 디코더는 모든 인코딩을 오리지널 transaction으로 바꿀 수 있다.\n",
    "\n",
    "transaction에 대한 데이터를 생성할 수 있도록 해주기 때문에 유용하다. fraud detection의 문제는 fraudulent transaction이 많지 않다는 것이다. VAE를 사용하면 트랜잭션 인코딩을 마음 껏 샘플링할 수 있고 더 많은 사기 거래 데이터를 학습 시킬 수 있다. \n",
    "\n",
    "그래서 VAE는 어떻게 작동할까? 하나의 compressed representation vector를 갖는 대신, 두 개를 갖는다. $u$는 mean encoding을 위한 것이고 하나는 이 인코딩의 standard deviation을 위한 $\\sigma$이다. \n",
    "\n",
    "![VAE](https://datascienceschool.net/upfiles/f38b90fa89cb46eba22178edbae07a26.png)"
   ]
  },
  {
   "cell_type": "markdown",
   "metadata": {},
   "source": [
    "mean과 standard deviation은 벡터이다. actual encoding vector를 만들기 위해서, standard deviation에 random noise를 더한다. \n",
    "\n",
    "valuesd의 broad distribution을 얻기 위해, network를 학습할 때 두개의 loss를 조합한다. reconstruction loss는 vanila autoencoder에서 봤던 것이고, KL divergence loss는 encoding distribution과 standard deviation이 1인 standard Gaussian distribution 사이입니다."
   ]
  },
  {
   "cell_type": "markdown",
   "metadata": {},
   "source": [
    "### MNIST example\n",
    "\n",
    "MNIST dataset을 가지고 VAE에 대해서 알아볼텐데 VAE가 어떻게 작동하는지 도움을 줄 것이다. 그리고 다음에 VAE를 credit card 사기 탐지를 위해 적용하고자 한다.\n",
    "\n",
    "우선, 필요한 몇가지 요소들을 임포트하자."
   ]
  },
  {
   "cell_type": "code",
   "execution_count": 1,
   "metadata": {},
   "outputs": [],
   "source": [
    "from keras.models import Model\n",
    "from keras.layers import Input, Dense, Lambda\n",
    "from keras import backend as K\n",
    "from keras import metrics"
   ]
  },
  {
   "cell_type": "markdown",
   "metadata": {},
   "source": [
    "lambda layer와 metrics 라는 새로운 모듈을 임포트 했다. metrics 모듈은 cross-entropy loss와 같은 것을 제공하는데, custom loss function을 만드는데 사용한다. 반면에 lambda layer는 Python function을 layer로 사용할 수 있도록 해주는데, encoding distribution에서 sample을 뽑는데 쓸 것이다. 좀 있다 lambda layer가 어떻게 작동하는지 알아 볼 것이다. 그러나 우선, neural network의 나머지 부분을 설정해야 한다.\n",
    "\n",
    "우선 hyperparameter를 정의해야 한다. 오리지널 데이터의 차원은 784이고 이것은 32 dimension으로 압축할 것이다. network는 input과 latent vector 사이에 intermediate layer를 가지고 있는데 256차원이다. 50 epochs 만큼 학습할 것이고 배치 사이즈는 100이다."
   ]
  },
  {
   "cell_type": "code",
   "execution_count": 2,
   "metadata": {},
   "outputs": [],
   "source": [
    "batch_size = 100\n",
    "original_dim = 784\n",
    "latent_dim = 32\n",
    "intermediate_dim = 256\n",
    "epochs = 50\n",
    "epsilon_std = 1.0"
   ]
  },
  {
   "cell_type": "markdown",
   "metadata": {},
   "source": [
    "Computational reason 때문에, standard deviation보다 standard deviation의 로그값을 학습하는 것이 더 쉽다. 이를 위해 input x가 intermediate layer h에 매핑되는 network를 앞단에 만든다. 이 layer에서 $u$를 말하는 z_mean과 log $\\sigma$를 나타내는 z_log_var로 나뉜다."
   ]
  },
  {
   "cell_type": "code",
   "execution_count": 3,
   "metadata": {},
   "outputs": [],
   "source": [
    "x = Input(shape=(original_dim,))\n",
    "h = Dense(intermediate_dim, activation='relu')(x)\n",
    "z_mean = Dense(latent_dim)(h)\n",
    "z_log_var = Dense(latent_dim)(h)"
   ]
  },
  {
   "cell_type": "markdown",
   "metadata": {},
   "source": [
    "### Using the Lambda layer\n",
    "\n",
    "Lambda layer는 arbitrary expression을 감싼다. 그 말은 Python function을 Keras layer로 여긴다는 것이다. 작동하게 만드려면 필요한 요구사항이 몇개 있다. backpropagation이 작동하기 위해서, function은 미분가능(differentiable)해야 한다. 결국 network weight를 gradient loss로 업데이트해야 하기 때문이다. 운이 좋게도 Keras backend 모듈에는 전부 미분가능한 몇가지 function을 가지고 있다. \n",
    "\n",
    "추가적으로 Lamdba function은 오직 하나의 인자를 가진다. 우리가 만들고자 하는 layer는 input은 그 전 layer의 output tensor이다. 이 경우 두개의 인자 $u$, $\\sigma$를 받는 layer를 만들어야 한다. 그러므로 두 input을 tuple로 감싼다.\n",
    "\n",
    "아래는 sampling을 위한 fucntion이다."
   ]
  },
  {
   "cell_type": "code",
   "execution_count": 4,
   "metadata": {},
   "outputs": [],
   "source": [
    "def sampling(args):\n",
    "    z_mean, z_log_var = args\n",
    "    epsilon = K.random_normal(shape=(K.shape(z_mean)[0], latent_dim), mean=0.,\n",
    "                              stddev=epsilon_std)\n",
    "    return z_mean + K.exp(z_log_var / 2) * epsilon"
   ]
  },
  {
   "cell_type": "markdown",
   "metadata": {},
   "source": [
    "이 함수에 대해 좀 자세히 알아보자.\n",
    "\n",
    "1. input tuple을 두개의 input tensor로 분리한다.\n",
    "2. 평균이 0, 표준편차가 1인 정규분포를 따르는 랜덤 노이즈를 포함하는 tensor를 만든다.\n",
    "3. 랜덤 노이즈에 표준편차를 곱하여 학습된 표준편차와 학습된 평균을 더한다. 학습을 로그 표준편차로 했기 때문에 exponent 함수를 학습된 tensor에 적용한다.\n",
    "\n",
    "이 operation은 keras backend function을 쓰기 때문에 미분 가능하다. 함수를 하나의 레이어로 바꾸고 한 line으로 2개의 레이어를 연결할 수 있다."
   ]
  },
  {
   "cell_type": "code",
   "execution_count": 5,
   "metadata": {},
   "outputs": [],
   "source": [
    "z = Lambda(sampling)([z_mean, z_log_var])"
   ]
  },
  {
   "cell_type": "markdown",
   "metadata": {},
   "source": [
    "이제 인코딩된 데이터를 가지고 있다. 그리고 이 데이터를 디코딩 할 필요도 있다. 두개의 Dense layers를 가지고 할 수 있다."
   ]
  },
  {
   "cell_type": "code",
   "execution_count": 6,
   "metadata": {},
   "outputs": [],
   "source": [
    "h_decoded = Dense(intermediate_dim, activation='relu')(z)\n",
    "\n",
    "x_decoded = Dense(original_dim, activation='sigmoid')(h_decoded)"
   ]
  },
  {
   "cell_type": "markdown",
   "metadata": {},
   "source": [
    "이제 네트워크가 완성되었다. 네트워크는 임의의 MNIST image를 평균 및 표준편차 텐서로 인코딩하며 이것은 이미지로 재구성할 수 있다. 이제 남은 건 네트워크가 이미지를 재구성하고 normal 가우시안 분포를 생성하도록 인센티브를 주는 사용자 지정 loss이다. \n",
    "\n",
    "### Kullback-Leibler divergence\n",
    "\n",
    "VAE를 위한 custom loss를 만들기 위해, costum loss function을 만들어야 한다. 이 손실 함수는 Kullback-Leibler divergence에 기초한다.\n",
    "\n",
    "KL divergence는 cross-entropy와 같은 metrics중 하나인데 정보이론에서 온 머신러닝 방법론이다. 자주 사용되지만 이걸 이해하려고 하면 쉽진 않다. \n",
    "\n",
    "financial model에 대해 작업하고 있고 증권 투자 수식에 대한 데이터를 수집했다고 가정해보자. 모든 financial modeling tools이 수익의 정규 분포를 가정합니다. 실제 수익에 대한 분포와 정규 분포 모델을 사용한 수익에 대한 모델을 비교해보자. 이 예제에서는 discrete 수익만 있다고 친다. \n",
    "\n",
    "물론 데이터의 수익률은 정확인 정규 분포를 따르지 않는다. 그렇다면 근사치를 잃어버리면 수익에 대한 정보가 얼마나 손실될까? 이것을 측정하는 것이 KL divergence가 하는 것이다.\n",
    "\n",
    "$$D_{KL} (p||q) = \\sum_{i=1}^{N} p(x_i)*(logp(x_i)-logq(x_i))$$\n",
    "\n",
    "여기서 p(x)와 q(x)는 x에 대한 확률인데, 수익률 5%와 같이 어떤 값 i를 가질 확률을 말한다. 이 공식은 분포 p와 분포 q의 확률의 로그에 대한 차이를 효과적으로 보여준다. \n",
    "\n",
    "$$D_{KL} = E[logp(x) - logq(x)]$$\n",
    "\n",
    "이 예상되는 로그 확률의 차이는 분포 p를 분포 q로 근사하면 손실된 평균 정보와 같다. 아래를 보면\n",
    "\n",
    "$$loga=logb = log {a / b}$$\n",
    "\n",
    "KL divergence는 일반적으로 다음과 같이 작성된다.\n",
    "\n",
    "$$ D_{KL} (p || q) = \\sum_{i=1}^{N} p(x_i) * log {p(x_i) / q(x_i)}$$\n",
    "\n",
    "$$ D_{KL} (p || q) = \\int_{-\\infty}^{\\infty} p(x_i) * log {p(x_i) / q(x_i)}$$\n",
    "\n",
    "VAE를 위해, 평균이 0이고 표준 편차가 1인 normal gaussian distribution이 되는 encoding distribution이 필요하다. \n",
    "\n",
    "p가 N(0, 1)인 normal gaussian distribution으로 대체되면, approximation q는 평균이 $u$ 표준편차가 $\\sigma$인 분포이다. KL divergence는 아래와 같이 간단하게 만들 수 있다.\n",
    "\n",
    "$$D_{KL} = -0.5 * (1+ log(\\sigma) - u^2 - \\sigma)$$\n",
    "\n",
    "평균과 표준편차 벡터에 대한 편미분은 아래와 같다.\n",
    "\n",
    "$$dD_{KL} / du = u $$\n",
    "\n",
    "$$dD_{KL} / d\\sigma = -.05*(\\sigma - 1) / \\sigma $$\n",
    "\n",
    "u가 0이면 u에 대한 미분이 0이고 $\\sigma$가 1이면 $\\sigma$에 대한 미분이 0인 것을 알 수 잇다. 이 loss term은 reconstruction loss에 더해진다."
   ]
  },
  {
   "cell_type": "markdown",
   "metadata": {},
   "source": [
    "### Creating a custom loss\n",
    "\n",
    "VAE loss는 모델이 input을 잘 재구성하도록 해주는 재구성 손실과 모델이 encoding을 사용하여 nornal 가우시안 분포에 근접하도록 도와주는 KL divergence loss, 두개의 loss의 조합이다. 합쳐진 loss를 만들기 위해, 합치기 전에 따로 손실 component를 각각 계산해야 한다.\n",
    "\n",
    "reconstruction loss(재구성 손실)은 바닐라 오토인코더와 같은 loss이다. binary cross-entropy는 MNIST reconstruction을 위한 적절한 loss이다.\n",
    "\n",
    "binary cross-entropy loss의 keras implementation은 이미 배치 전체에 평균을 취하기 때문에 나중에만 수행하려는 작업이므로 손실을 다시 확대해야 출력 차원으로 나눌 수 있다."
   ]
  },
  {
   "cell_type": "code",
   "execution_count": 7,
   "metadata": {},
   "outputs": [],
   "source": [
    "vae = Model(x, x_decoded)"
   ]
  },
  {
   "cell_type": "code",
   "execution_count": 8,
   "metadata": {},
   "outputs": [],
   "source": [
    "reconstruction_loss = original_dim * metrics.binary_crossentropy(x, x_decoded)"
   ]
  },
  {
   "cell_type": "code",
   "execution_count": 9,
   "metadata": {},
   "outputs": [],
   "source": [
    "kl_loss = - 0.5 * K.sum(1 + z_log_var - K.square(z_mean) - K.exp(z_log_var), axis=-1)"
   ]
  },
  {
   "cell_type": "markdown",
   "metadata": {},
   "source": [
    "마지막 손실은 재구성 손실과 KL divergence 손실의 합의 평균이다."
   ]
  },
  {
   "cell_type": "code",
   "execution_count": 10,
   "metadata": {},
   "outputs": [],
   "source": [
    "vae_loss = K.mean(reconstruction_loss + kl_loss)"
   ]
  },
  {
   "cell_type": "markdown",
   "metadata": {},
   "source": [
    "케라스 backend를 모든 계산에서 사용가기 때문에 loss 결과는 자동적으로 미분될 수 있는 tensor이다. 이제 모델을 만들 수 있다."
   ]
  },
  {
   "cell_type": "code",
   "execution_count": 11,
   "metadata": {},
   "outputs": [
    {
     "name": "stdout",
     "output_type": "stream",
     "text": [
      "Model: \"model\"\n",
      "__________________________________________________________________________________________________\n",
      "Layer (type)                    Output Shape         Param #     Connected to                     \n",
      "==================================================================================================\n",
      "input_1 (InputLayer)            [(None, 784)]        0                                            \n",
      "__________________________________________________________________________________________________\n",
      "dense (Dense)                   (None, 256)          200960      input_1[0][0]                    \n",
      "__________________________________________________________________________________________________\n",
      "dense_1 (Dense)                 (None, 32)           8224        dense[0][0]                      \n",
      "__________________________________________________________________________________________________\n",
      "dense_2 (Dense)                 (None, 32)           8224        dense[0][0]                      \n",
      "__________________________________________________________________________________________________\n",
      "lambda (Lambda)                 (None, 32)           0           dense_1[0][0]                    \n",
      "                                                                 dense_2[0][0]                    \n",
      "__________________________________________________________________________________________________\n",
      "dense_3 (Dense)                 (None, 256)          8448        lambda[0][0]                     \n",
      "__________________________________________________________________________________________________\n",
      "dense_4 (Dense)                 (None, 784)          201488      dense_3[0][0]                    \n",
      "__________________________________________________________________________________________________\n",
      "tf_op_layer_dense_4/MatMul (Ten [(None, 784)]        0           dense_3[0][0]                    \n",
      "__________________________________________________________________________________________________\n",
      "tf_op_layer_dense_4/BiasAdd (Te [(None, 784)]        0           tf_op_layer_dense_4/MatMul[0][0] \n",
      "__________________________________________________________________________________________________\n",
      "tf_op_layer_ZerosLike (TensorFl [(None, 784)]        0           tf_op_layer_dense_4/BiasAdd[0][0]\n",
      "__________________________________________________________________________________________________\n",
      "tf_op_layer_GreaterEqual (Tenso [(None, 784)]        0           tf_op_layer_dense_4/BiasAdd[0][0]\n",
      "                                                                 tf_op_layer_ZerosLike[0][0]      \n",
      "__________________________________________________________________________________________________\n",
      "tf_op_layer_Neg (TensorFlowOpLa [(None, 784)]        0           tf_op_layer_dense_4/BiasAdd[0][0]\n",
      "__________________________________________________________________________________________________\n",
      "tf_op_layer_Select_1 (TensorFlo [(None, 784)]        0           tf_op_layer_GreaterEqual[0][0]   \n",
      "                                                                 tf_op_layer_Neg[0][0]            \n",
      "                                                                 tf_op_layer_dense_4/BiasAdd[0][0]\n",
      "__________________________________________________________________________________________________\n",
      "tf_op_layer_Select (TensorFlowO [(None, 784)]        0           tf_op_layer_GreaterEqual[0][0]   \n",
      "                                                                 tf_op_layer_dense_4/BiasAdd[0][0]\n",
      "                                                                 tf_op_layer_ZerosLike[0][0]      \n",
      "__________________________________________________________________________________________________\n",
      "tf_op_layer_Mul (TensorFlowOpLa [(None, 784)]        0           tf_op_layer_dense_4/BiasAdd[0][0]\n",
      "                                                                 input_1[0][0]                    \n",
      "__________________________________________________________________________________________________\n",
      "tf_op_layer_Exp (TensorFlowOpLa [(None, 784)]        0           tf_op_layer_Select_1[0][0]       \n",
      "__________________________________________________________________________________________________\n",
      "tf_op_layer_AddV2 (TensorFlowOp [(None, 32)]         0           dense_2[0][0]                    \n",
      "__________________________________________________________________________________________________\n",
      "tf_op_layer_Square (TensorFlowO [(None, 32)]         0           dense_1[0][0]                    \n",
      "__________________________________________________________________________________________________\n",
      "tf_op_layer_Sub (TensorFlowOpLa [(None, 784)]        0           tf_op_layer_Select[0][0]         \n",
      "                                                                 tf_op_layer_Mul[0][0]            \n",
      "__________________________________________________________________________________________________\n",
      "tf_op_layer_Log1p (TensorFlowOp [(None, 784)]        0           tf_op_layer_Exp[0][0]            \n",
      "__________________________________________________________________________________________________\n",
      "tf_op_layer_Sub_1 (TensorFlowOp [(None, 32)]         0           tf_op_layer_AddV2[0][0]          \n",
      "                                                                 tf_op_layer_Square[0][0]         \n",
      "__________________________________________________________________________________________________\n",
      "tf_op_layer_Exp_1 (TensorFlowOp [(None, 32)]         0           dense_2[0][0]                    \n",
      "__________________________________________________________________________________________________\n",
      "tf_op_layer_Add (TensorFlowOpLa [(None, 784)]        0           tf_op_layer_Sub[0][0]            \n",
      "                                                                 tf_op_layer_Log1p[0][0]          \n",
      "__________________________________________________________________________________________________\n",
      "tf_op_layer_Sub_2 (TensorFlowOp [(None, 32)]         0           tf_op_layer_Sub_1[0][0]          \n",
      "                                                                 tf_op_layer_Exp_1[0][0]          \n",
      "__________________________________________________________________________________________________\n",
      "tf_op_layer_Mean (TensorFlowOpL [(None,)]            0           tf_op_layer_Add[0][0]            \n",
      "__________________________________________________________________________________________________\n",
      "tf_op_layer_Sum (TensorFlowOpLa [(None,)]            0           tf_op_layer_Sub_2[0][0]          \n",
      "__________________________________________________________________________________________________\n",
      "tf_op_layer_Mul_1 (TensorFlowOp [(None,)]            0           tf_op_layer_Mean[0][0]           \n",
      "__________________________________________________________________________________________________\n",
      "tf_op_layer_Mul_2 (TensorFlowOp [(None,)]            0           tf_op_layer_Sum[0][0]            \n",
      "__________________________________________________________________________________________________\n",
      "tf_op_layer_AddV2_1 (TensorFlow [(None,)]            0           tf_op_layer_Mul_1[0][0]          \n",
      "                                                                 tf_op_layer_Mul_2[0][0]          \n",
      "__________________________________________________________________________________________________\n",
      "tf_op_layer_Mean_1 (TensorFlowO [()]                 0           tf_op_layer_AddV2_1[0][0]        \n",
      "__________________________________________________________________________________________________\n",
      "add_loss (AddLoss)              ()                   0           tf_op_layer_Mean_1[0][0]         \n",
      "==================================================================================================\n",
      "Total params: 427,344\n",
      "Trainable params: 427,344\n",
      "Non-trainable params: 0\n",
      "__________________________________________________________________________________________________\n"
     ]
    }
   ],
   "source": [
    "vae.add_loss(vae_loss)\n",
    "vae.compile(optimizer='rmsprop')\n",
    "vae.summary()"
   ]
  },
  {
   "cell_type": "markdown",
   "metadata": {},
   "source": [
    "custom loss의 side effect는 vae의 출력을 vae의 입력과 비교한다는 것이다. 이는 입력을 재구성하기 위해서이다. 그렇기 때문에 y 값을 특정하면 안된다. 입력만 특정하는 것으로 충분하다."
   ]
  },
  {
   "cell_type": "code",
   "execution_count": 28,
   "metadata": {},
   "outputs": [
    {
     "name": "stdout",
     "output_type": "stream",
     "text": [
      "Epoch 1/50\n",
      "WARNING:tensorflow:Gradients do not exist for variables ['dense_4/kernel:0', 'dense_4/bias:0'] when minimizing the loss.\n",
      "WARNING:tensorflow:Gradients do not exist for variables ['dense_4/kernel:0', 'dense_4/bias:0'] when minimizing the loss.\n",
      "WARNING:tensorflow:Gradients do not exist for variables ['dense_4/kernel:0', 'dense_4/bias:0'] when minimizing the loss.\n",
      "WARNING:tensorflow:Gradients do not exist for variables ['dense_4/kernel:0', 'dense_4/bias:0'] when minimizing the loss.\n",
      "600/600 [==============================] - 1s 2ms/step - loss: 501.3017 - val_loss: 495.1985\n",
      "Epoch 2/50\n",
      "600/600 [==============================] - 1s 2ms/step - loss: 493.9133 - val_loss: 492.6489\n",
      "Epoch 3/50\n",
      "600/600 [==============================] - 1s 2ms/step - loss: 491.4768 - val_loss: 490.4548\n",
      "Epoch 4/50\n",
      "600/600 [==============================] - 1s 2ms/step - loss: 489.9355 - val_loss: 489.4099\n",
      "Epoch 5/50\n",
      "600/600 [==============================] - 1s 2ms/step - loss: 489.1445 - val_loss: 488.8737\n",
      "Epoch 6/50\n",
      "600/600 [==============================] - 1s 2ms/step - loss: 488.5970 - val_loss: 488.3323\n",
      "Epoch 7/50\n",
      "600/600 [==============================] - 1s 2ms/step - loss: 488.1111 - val_loss: 487.8942\n",
      "Epoch 8/50\n",
      "600/600 [==============================] - 1s 2ms/step - loss: 487.7230 - val_loss: 487.5885\n",
      "Epoch 9/50\n",
      "600/600 [==============================] - 1s 2ms/step - loss: 487.3863 - val_loss: 487.1934\n",
      "Epoch 10/50\n",
      "600/600 [==============================] - 1s 2ms/step - loss: 487.1696 - val_loss: 487.1072\n",
      "Epoch 11/50\n",
      "600/600 [==============================] - 1s 2ms/step - loss: 487.0908 - val_loss: 487.0645\n",
      "Epoch 12/50\n",
      "600/600 [==============================] - 1s 2ms/step - loss: 487.0766 - val_loss: 487.0733\n",
      "Epoch 13/50\n",
      "600/600 [==============================] - 1s 2ms/step - loss: 487.0781 - val_loss: 487.0700\n",
      "Epoch 14/50\n",
      "600/600 [==============================] - 1s 2ms/step - loss: 487.0506 - val_loss: 487.0138\n",
      "Epoch 15/50\n",
      "600/600 [==============================] - 1s 2ms/step - loss: 487.0369 - val_loss: 487.0385\n",
      "Epoch 16/50\n",
      "600/600 [==============================] - 1s 2ms/step - loss: 487.0529 - val_loss: 487.0400\n",
      "Epoch 17/50\n",
      "600/600 [==============================] - 1s 2ms/step - loss: 487.0272 - val_loss: 487.0181\n",
      "Epoch 18/50\n",
      "600/600 [==============================] - 1s 2ms/step - loss: 487.0190 - val_loss: 487.0120\n",
      "Epoch 19/50\n",
      "600/600 [==============================] - 1s 2ms/step - loss: 487.0020 - val_loss: 486.9867\n",
      "Epoch 20/50\n",
      "600/600 [==============================] - 1s 2ms/step - loss: 486.9979 - val_loss: 486.9968\n",
      "Epoch 21/50\n",
      "600/600 [==============================] - 1s 2ms/step - loss: 487.0106 - val_loss: 486.9529\n",
      "Epoch 22/50\n",
      "600/600 [==============================] - 1s 2ms/step - loss: 487.0106 - val_loss: 486.9682\n",
      "Epoch 23/50\n",
      "600/600 [==============================] - 1s 2ms/step - loss: 487.0013 - val_loss: 486.9517\n",
      "Epoch 24/50\n",
      "600/600 [==============================] - 1s 2ms/step - loss: 486.9865 - val_loss: 486.9802\n",
      "Epoch 25/50\n",
      "600/600 [==============================] - 1s 2ms/step - loss: 486.9752 - val_loss: 486.9617\n",
      "Epoch 26/50\n",
      "600/600 [==============================] - 1s 2ms/step - loss: 486.9833 - val_loss: 486.9297\n",
      "Epoch 27/50\n",
      "600/600 [==============================] - 1s 2ms/step - loss: 486.9778 - val_loss: 486.9655\n",
      "Epoch 28/50\n",
      "600/600 [==============================] - 1s 2ms/step - loss: 486.9674 - val_loss: 486.9500\n",
      "Epoch 29/50\n",
      "600/600 [==============================] - 1s 2ms/step - loss: 486.9658 - val_loss: 486.9375\n",
      "Epoch 30/50\n",
      "600/600 [==============================] - 1s 2ms/step - loss: 486.9717 - val_loss: 486.9287\n",
      "Epoch 31/50\n",
      "600/600 [==============================] - 1s 2ms/step - loss: 486.9719 - val_loss: 486.9429\n",
      "Epoch 32/50\n",
      "600/600 [==============================] - 1s 2ms/step - loss: 486.9623 - val_loss: 486.9255\n",
      "Epoch 33/50\n",
      "600/600 [==============================] - 1s 2ms/step - loss: 486.9631 - val_loss: 486.9323\n",
      "Epoch 34/50\n",
      "600/600 [==============================] - 1s 2ms/step - loss: 486.9587 - val_loss: 486.9108\n",
      "Epoch 35/50\n",
      "600/600 [==============================] - 1s 2ms/step - loss: 486.9475 - val_loss: 486.9219\n",
      "Epoch 36/50\n",
      "600/600 [==============================] - 1s 2ms/step - loss: 486.9598 - val_loss: 486.9427\n",
      "Epoch 37/50\n",
      "600/600 [==============================] - 1s 2ms/step - loss: 486.9567 - val_loss: 486.9477\n",
      "Epoch 38/50\n",
      "600/600 [==============================] - 1s 2ms/step - loss: 486.9512 - val_loss: 486.9061\n",
      "Epoch 39/50\n",
      "600/600 [==============================] - 1s 2ms/step - loss: 486.9670 - val_loss: 486.9407\n",
      "Epoch 40/50\n",
      "600/600 [==============================] - 1s 2ms/step - loss: 486.9557 - val_loss: 486.8878\n",
      "Epoch 41/50\n",
      "600/600 [==============================] - 1s 2ms/step - loss: 486.9485 - val_loss: 486.9464\n",
      "Epoch 42/50\n",
      "600/600 [==============================] - 1s 2ms/step - loss: 486.9577 - val_loss: 486.9095\n",
      "Epoch 43/50\n",
      "600/600 [==============================] - ETA: 0s - loss: 486.958 - 1s 2ms/step - loss: 486.9580 - val_loss: 486.8920\n",
      "Epoch 44/50\n",
      "600/600 [==============================] - 1s 2ms/step - loss: 486.9620 - val_loss: 486.9462\n",
      "Epoch 45/50\n",
      "600/600 [==============================] - 1s 2ms/step - loss: 486.9609 - val_loss: 486.9166\n",
      "Epoch 46/50\n",
      "600/600 [==============================] - 1s 2ms/step - loss: 486.9617 - val_loss: 486.9168\n",
      "Epoch 47/50\n",
      "600/600 [==============================] - 1s 2ms/step - loss: 486.9611 - val_loss: 486.8979\n",
      "Epoch 48/50\n",
      "600/600 [==============================] - 1s 2ms/step - loss: 486.9419 - val_loss: 486.9068\n",
      "Epoch 49/50\n",
      "600/600 [==============================] - 1s 2ms/step - loss: 486.9475 - val_loss: 486.9163\n",
      "Epoch 50/50\n",
      "600/600 [==============================] - 1s 2ms/step - loss: 486.9593 - val_loss: 486.9249\n"
     ]
    },
    {
     "data": {
      "text/plain": [
       "<tensorflow.python.keras.callbacks.History at 0x1f80069b668>"
      ]
     },
     "execution_count": 28,
     "metadata": {},
     "output_type": "execute_result"
    }
   ],
   "source": [
    "vae.fit(X_train_flat,\n",
    "        shuffle=True,\n",
    "        epochs=epochs,\n",
    "        batch_size=batch_size,\n",
    "        validation_data=(X_test_flat, None))"
   ]
  },
  {
   "cell_type": "markdown",
   "metadata": {},
   "source": [
    "### Using a VAE to generate data"
   ]
  },
  {
   "cell_type": "code",
   "execution_count": 29,
   "metadata": {},
   "outputs": [],
   "source": [
    "one_seven = X_test_flat[0]"
   ]
  },
  {
   "cell_type": "code",
   "execution_count": 31,
   "metadata": {},
   "outputs": [],
   "source": [
    "one_seven = np.expand_dims(one_seven,0)"
   ]
  },
  {
   "cell_type": "code",
   "execution_count": 32,
   "metadata": {},
   "outputs": [
    {
     "data": {
      "text/plain": [
       "(1, 784)"
      ]
     },
     "execution_count": 32,
     "metadata": {},
     "output_type": "execute_result"
    }
   ],
   "source": [
    "one_seven.shape"
   ]
  },
  {
   "cell_type": "code",
   "execution_count": 33,
   "metadata": {},
   "outputs": [],
   "source": [
    "one_seven = one_seven.repeat(4,axis=0)"
   ]
  },
  {
   "cell_type": "code",
   "execution_count": 34,
   "metadata": {},
   "outputs": [],
   "source": [
    "s = vae.predict(one_seven)"
   ]
  },
  {
   "cell_type": "code",
   "execution_count": 35,
   "metadata": {},
   "outputs": [
    {
     "data": {
      "text/plain": [
       "(4, 784)"
      ]
     },
     "execution_count": 35,
     "metadata": {},
     "output_type": "execute_result"
    }
   ],
   "source": [
    "s.shape"
   ]
  },
  {
   "cell_type": "code",
   "execution_count": 36,
   "metadata": {},
   "outputs": [],
   "source": [
    "s= s.reshape(4,28,28)"
   ]
  },
  {
   "cell_type": "code",
   "execution_count": 37,
   "metadata": {},
   "outputs": [
    {
     "data": {
      "image/png": "[encoded data removed]",
      "text/plain": [
       "<Figure size 576x576 with 4 Axes>"
      ]
     },
     "metadata": {
      "needs_background": "light"
     },
     "output_type": "display_data"
    }
   ],
   "source": [
    "fig=plt.figure(figsize=(8, 8))\n",
    "columns = 2\n",
    "rows = 2\n",
    "for i in range(1, columns*rows +1):\n",
    "    img = s[i-1]\n",
    "    fig.add_subplot(rows, columns, i)\n",
    "    plt.imshow(img)\n",
    "plt.show()"
   ]
  },
  {
   "cell_type": "code",
   "execution_count": 38,
   "metadata": {},
   "outputs": [],
   "source": [
    "encoder = Model(x, z_mean)"
   ]
  },
  {
   "cell_type": "code",
   "execution_count": 40,
   "metadata": {},
   "outputs": [
    {
     "data": {
      "image/png": "[encoded data removed]",
      "text/plain": [
       "<Figure size 432x432 with 2 Axes>"
      ]
     },
     "metadata": {
      "needs_background": "light"
     },
     "output_type": "display_data"
    }
   ],
   "source": [
    "x_test_encoded = encoder.predict(X_test_flat, batch_size=batch_size)\n",
    "plt.figure(figsize=(6, 6))\n",
    "plt.scatter(x_test_encoded[:, 0], x_test_encoded[:, 1], c=y_test)\n",
    "plt.colorbar()\n",
    "plt.show()"
   ]
  },
  {
   "cell_type": "markdown",
   "metadata": {},
   "source": [
    "### VAE for an end-to-end fraud detection system\n",
    "\n",
    "MNIST 문제를 fraud detection 문제로 바꾸기 위해서는 세개의 파라미터를 바꾸면 된다. input, intermediate, latent dimensionality이다. "
   ]
  },
  {
   "cell_type": "code",
   "execution_count": 54,
   "metadata": {},
   "outputs": [
    {
     "data": {
      "text/plain": [
       "0.5213456986251124"
      ]
     },
     "execution_count": 54,
     "metadata": {},
     "output_type": "execute_result"
    }
   ],
   "source": [
    "import pandas as pd # data processing, CSV file I/O (e.g. pd.read_csv)\n",
    "df = pd.read_csv('../input/creditcard.csv')\n",
    "df.isnull().sum()\n",
    "df = df.drop('Time',axis=1)\n",
    "X = df.drop('Class',axis=1).values \n",
    "y = df['Class'].values\n",
    "X.shape\n",
    "X -= X.min(axis=0)\n",
    "X /= X.max(axis=0)\n",
    "X.mean()"
   ]
  },
  {
   "cell_type": "code",
   "execution_count": 55,
   "metadata": {},
   "outputs": [
    {
     "data": {
      "text/plain": [
       "(284807, 29)"
      ]
     },
     "execution_count": 55,
     "metadata": {},
     "output_type": "execute_result"
    }
   ],
   "source": [
    "X.shape"
   ]
  },
  {
   "cell_type": "code",
   "execution_count": 56,
   "metadata": {},
   "outputs": [],
   "source": [
    "from sklearn.model_selection import train_test_split\n",
    "X_train, X_test, y_train,y_test = train_test_split(X,y,test_size=0.1)"
   ]
  },
  {
   "cell_type": "code",
   "execution_count": 57,
   "metadata": {},
   "outputs": [],
   "source": [
    "from keras.models import Model\n",
    "from keras.layers import Input, Dense\n",
    "\n",
    "data_in = Input(shape=(29,))\n",
    "encoded = Dense(12,activation='tanh')(data_in)\n",
    "decoded = Dense(29,activation='sigmoid')(encoded)\n",
    "autoencoder = Model(data_in,decoded)"
   ]
  },
  {
   "cell_type": "code",
   "execution_count": 58,
   "metadata": {},
   "outputs": [],
   "source": [
    "autoencoder.compile(optimizer='adam',loss='mean_squared_error')"
   ]
  },
  {
   "cell_type": "code",
   "execution_count": 59,
   "metadata": {},
   "outputs": [
    {
     "name": "stdout",
     "output_type": "stream",
     "text": [
      "Epoch 1/20\n",
      "2003/2003 [==============================] - 3s 2ms/step - loss: 0.0032 - val_loss: 0.0013\n",
      "Epoch 2/20\n",
      "2003/2003 [==============================] - 3s 2ms/step - loss: 0.0011 - val_loss: 8.7557e-04\n",
      "Epoch 3/20\n",
      "2003/2003 [==============================] - 3s 2ms/step - loss: 6.9035e-04 - val_loss: 5.4244e-04\n",
      "Epoch 4/20\n",
      "2003/2003 [==============================] - 3s 2ms/step - loss: 4.1096e-04 - val_loss: 3.4648e-04\n",
      "Epoch 5/20\n",
      "2003/2003 [==============================] - 3s 1ms/step - loss: 3.2647e-04 - val_loss: 3.1174e-04\n",
      "Epoch 6/20\n",
      "2003/2003 [==============================] - 3s 2ms/step - loss: 2.9415e-04 - val_loss: 2.8450e-04\n",
      "Epoch 7/20\n",
      "2003/2003 [==============================] - 3s 2ms/step - loss: 2.7238e-04 - val_loss: 2.6326e-04\n",
      "Epoch 8/20\n",
      "2003/2003 [==============================] - 3s 2ms/step - loss: 2.4706e-04 - val_loss: 2.3644e-04\n",
      "Epoch 9/20\n",
      "2003/2003 [==============================] - 3s 2ms/step - loss: 2.2901e-04 - val_loss: 2.2585e-04\n",
      "Epoch 10/20\n",
      "2003/2003 [==============================] - 3s 2ms/step - loss: 2.2156e-04 - val_loss: 2.1927e-04\n",
      "Epoch 11/20\n",
      "2003/2003 [==============================] - 3s 2ms/step - loss: 2.1626e-04 - val_loss: 2.1461e-04\n",
      "Epoch 12/20\n",
      "2003/2003 [==============================] - 3s 2ms/step - loss: 2.1150e-04 - val_loss: 2.0884e-04\n",
      "Epoch 13/20\n",
      "2003/2003 [==============================] - 3s 2ms/step - loss: 2.0620e-04 - val_loss: 2.0324e-04\n",
      "Epoch 14/20\n",
      "2003/2003 [==============================] - 3s 2ms/step - loss: 2.0032e-04 - val_loss: 1.9675e-04\n",
      "Epoch 15/20\n",
      "2003/2003 [==============================] - 3s 2ms/step - loss: 1.9585e-04 - val_loss: 1.9308e-04\n",
      "Epoch 16/20\n",
      "2003/2003 [==============================] - 3s 2ms/step - loss: 1.9280e-04 - val_loss: 1.9099e-04\n",
      "Epoch 17/20\n",
      "2003/2003 [==============================] - 3s 2ms/step - loss: 1.9071e-04 - val_loss: 1.8839e-04\n",
      "Epoch 18/20\n",
      "2003/2003 [==============================] - 3s 2ms/step - loss: 1.8908e-04 - val_loss: 1.8733e-04\n",
      "Epoch 19/20\n",
      "2003/2003 [==============================] - 3s 2ms/step - loss: 1.8793e-04 - val_loss: 1.8597e-04\n",
      "Epoch 20/20\n",
      "2003/2003 [==============================] - 3s 1ms/step - loss: 1.8690e-04 - val_loss: 1.8660e-04\n"
     ]
    },
    {
     "data": {
      "text/plain": [
       "<tensorflow.python.keras.callbacks.History at 0x1f82362cb70>"
      ]
     },
     "execution_count": 59,
     "metadata": {},
     "output_type": "execute_result"
    }
   ],
   "source": [
    "autoencoder.fit(X_train,\n",
    "                X_train,\n",
    "                epochs = 20, \n",
    "                batch_size=128, \n",
    "                validation_data=(X_test,X_test))"
   ]
  },
  {
   "cell_type": "code",
   "execution_count": 60,
   "metadata": {},
   "outputs": [
    {
     "data": {
      "text/plain": [
       "0.521391150408518"
      ]
     },
     "execution_count": 60,
     "metadata": {},
     "output_type": "execute_result"
    }
   ],
   "source": [
    "X_test.mean()"
   ]
  },
  {
   "cell_type": "code",
   "execution_count": 61,
   "metadata": {},
   "outputs": [],
   "source": [
    "pred = autoencoder.predict(X_test[0:10])"
   ]
  },
  {
   "cell_type": "code",
   "execution_count": 62,
   "metadata": {},
   "outputs": [
    {
     "data": {
      "image/png": "[encoded data removed]",
      "text/plain": [
       "<Figure size 720x504 with 1 Axes>"
      ]
     },
     "metadata": {
      "needs_background": "light"
     },
     "output_type": "display_data"
    }
   ],
   "source": [
    "import matplotlib.pyplot as plt\n",
    "import numpy as np\n",
    "\n",
    "width = 0.8\n",
    "\n",
    "prediction   = pred[9]\n",
    "true_value    = X_test[9]\n",
    "\n",
    "indices = np.arange(len(prediction))\n",
    "\n",
    "fig = plt.figure(figsize=(10,7))\n",
    "\n",
    "plt.bar(indices, prediction, width=width, \n",
    "        color='b', label='Predicted Value')\n",
    "\n",
    "plt.bar([i+0.25*width for i in indices], true_value, \n",
    "        width=0.5*width, color='r', alpha=0.5, label='True Value')\n",
    "\n",
    "plt.xticks(indices+width/2., \n",
    "           ['V{}'.format(i) for i in range(len(prediction))] )\n",
    "\n",
    "plt.legend()\n",
    "\n",
    "plt.show()"
   ]
  },
  {
   "cell_type": "code",
   "execution_count": 63,
   "metadata": {},
   "outputs": [],
   "source": [
    "encoder = Model(data_in,encoded)\n",
    "enc = encoder.predict(X_test)\n",
    "np.savez('enc.npz',enc,y_test)"
   ]
  },
  {
   "cell_type": "code",
   "execution_count": 64,
   "metadata": {},
   "outputs": [],
   "source": [
    "import numpy as np\n",
    "import matplotlib.pyplot as plt\n",
    "from scipy.stats import norm\n",
    "\n",
    "from keras.layers import Input, Dense, Lambda\n",
    "from keras.models import Model\n",
    "from keras import backend as K\n",
    "from keras import metrics"
   ]
  },
  {
   "cell_type": "code",
   "execution_count": 65,
   "metadata": {},
   "outputs": [],
   "source": [
    "batch_size = 100\n",
    "original_dim = 29\n",
    "latent_dim = 6\n",
    "intermediate_dim = 16\n",
    "epochs = 50\n",
    "epsilon_std = 1.0"
   ]
  },
  {
   "cell_type": "code",
   "execution_count": 66,
   "metadata": {},
   "outputs": [],
   "source": [
    "x = Input(shape=(original_dim,))\n",
    "h = Dense(intermediate_dim, activation='relu')(x)\n",
    "z_mean = Dense(latent_dim)(h)\n",
    "z_log_var = Dense(latent_dim)(h)"
   ]
  },
  {
   "cell_type": "code",
   "execution_count": 67,
   "metadata": {},
   "outputs": [],
   "source": [
    "def sampling(args):\n",
    "    z_mean, z_log_var = args\n",
    "    epsilon = K.random_normal(shape=(K.shape(z_mean)[0], latent_dim), mean=0.,\n",
    "                              stddev=epsilon_std)\n",
    "    return z_mean + K.exp(z_log_var / 2) * epsilon"
   ]
  },
  {
   "cell_type": "code",
   "execution_count": 68,
   "metadata": {},
   "outputs": [],
   "source": [
    "z = Lambda(sampling, output_shape=(latent_dim,))([z_mean, z_log_var])"
   ]
  },
  {
   "cell_type": "code",
   "execution_count": 69,
   "metadata": {},
   "outputs": [],
   "source": [
    "decoder_h = Dense(intermediate_dim, activation='relu')\n",
    "h_decoded = decoder_h(z)\n",
    "\n",
    "decoder_mean = Dense(original_dim)\n",
    "x_decoded_mean = decoder_mean(h_decoded)"
   ]
  },
  {
   "cell_type": "code",
   "execution_count": 70,
   "metadata": {},
   "outputs": [],
   "source": [
    "vae = Model(x, x_decoded_mean)"
   ]
  },
  {
   "cell_type": "code",
   "execution_count": 71,
   "metadata": {},
   "outputs": [],
   "source": [
    "xent_loss = original_dim * metrics.mean_squared_error(x, x_decoded_mean)\n",
    "kl_loss = - 0.5 * K.sum(1 + z_log_var - K.square(z_mean) - K.exp(z_log_var), axis=-1)\n",
    "vae_loss = K.mean(xent_loss + kl_loss)"
   ]
  },
  {
   "cell_type": "code",
   "execution_count": 72,
   "metadata": {},
   "outputs": [],
   "source": [
    "vae.add_loss(vae_loss)"
   ]
  },
  {
   "cell_type": "code",
   "execution_count": 73,
   "metadata": {},
   "outputs": [],
   "source": [
    "from keras.optimizers import RMSprop\n",
    "vae.compile(optimizer=RMSprop(lr=0.1))"
   ]
  },
  {
   "cell_type": "code",
   "execution_count": 74,
   "metadata": {},
   "outputs": [
    {
     "name": "stdout",
     "output_type": "stream",
     "text": [
      "Epoch 1/50\n",
      "1002/1002 [==============================] - 2s 2ms/step - loss: 10.6925 - val_loss: 0.1334\n",
      "Epoch 2/50\n",
      "1002/1002 [==============================] - 2s 2ms/step - loss: 0.1335 - val_loss: 0.1298\n",
      "Epoch 3/50\n",
      "1002/1002 [==============================] - 2s 2ms/step - loss: 0.1333 - val_loss: 0.1362\n",
      "Epoch 4/50\n",
      "1002/1002 [==============================] - 3s 3ms/step - loss: 0.1326 - val_loss: 0.1402\n",
      "Epoch 5/50\n",
      "1002/1002 [==============================] - 2s 2ms/step - loss: 0.1311 - val_loss: 0.1222\n",
      "Epoch 6/50\n",
      "1002/1002 [==============================] - 2s 2ms/step - loss: 0.1321 - val_loss: 0.1320\n",
      "Epoch 7/50\n",
      "1002/1002 [==============================] - 3s 3ms/step - loss: 0.1326 - val_loss: 0.1330\n",
      "Epoch 8/50\n",
      "1002/1002 [==============================] - 2s 2ms/step - loss: 0.1326 - val_loss: 0.1509\n",
      "Epoch 9/50\n",
      "1002/1002 [==============================] - 2s 2ms/step - loss: 0.1327 - val_loss: 0.1381\n",
      "Epoch 10/50\n",
      "1002/1002 [==============================] - 2s 2ms/step - loss: 0.1326 - val_loss: 0.1234\n",
      "Epoch 11/50\n",
      "1002/1002 [==============================] - 2s 2ms/step - loss: 0.1326 - val_loss: 0.1321\n",
      "Epoch 12/50\n",
      "1002/1002 [==============================] - 2s 2ms/step - loss: 0.1326 - val_loss: 0.1455\n",
      "Epoch 13/50\n",
      "1002/1002 [==============================] - 2s 2ms/step - loss: 0.1327 - val_loss: 0.1359\n",
      "Epoch 14/50\n",
      "1002/1002 [==============================] - 2s 2ms/step - loss: 0.1326 - val_loss: 0.1320\n",
      "Epoch 15/50\n",
      "1002/1002 [==============================] - 2s 2ms/step - loss: 0.1326 - val_loss: 0.1314\n",
      "Epoch 16/50\n",
      "1002/1002 [==============================] - 2s 2ms/step - loss: 0.1326 - val_loss: 0.1433\n",
      "Epoch 17/50\n",
      "1002/1002 [==============================] - 2s 2ms/step - loss: 0.1326 - val_loss: 0.1282\n",
      "Epoch 18/50\n",
      "1002/1002 [==============================] - 2s 2ms/step - loss: 0.1326 - val_loss: 0.1316\n",
      "Epoch 19/50\n",
      "1002/1002 [==============================] - 2s 2ms/step - loss: 0.1326 - val_loss: 0.1461\n",
      "Epoch 20/50\n",
      "1002/1002 [==============================] - 2s 2ms/step - loss: 0.1327 - val_loss: 0.1367\n",
      "Epoch 21/50\n",
      "1002/1002 [==============================] - 2s 2ms/step - loss: 0.1326 - val_loss: 0.1337\n",
      "Epoch 22/50\n",
      "1002/1002 [==============================] - 2s 2ms/step - loss: 0.1325 - val_loss: 0.1295\n",
      "Epoch 23/50\n",
      "1002/1002 [==============================] - 2s 2ms/step - loss: 0.1326 - val_loss: 0.1300\n",
      "Epoch 24/50\n",
      "1002/1002 [==============================] - 2s 2ms/step - loss: 0.1327 - val_loss: 0.1379\n",
      "Epoch 25/50\n",
      "1002/1002 [==============================] - 2s 2ms/step - loss: 0.1326 - val_loss: 0.1399\n",
      "Epoch 26/50\n",
      "1002/1002 [==============================] - 2s 2ms/step - loss: 0.1326 - val_loss: 0.1433\n",
      "Epoch 27/50\n",
      "1002/1002 [==============================] - 2s 2ms/step - loss: 0.1326 - val_loss: 0.1370\n",
      "Epoch 28/50\n",
      "1002/1002 [==============================] - 2s 2ms/step - loss: 0.1326 - val_loss: 0.1292\n",
      "Epoch 29/50\n",
      "1002/1002 [==============================] - 2s 2ms/step - loss: 0.1327 - val_loss: 0.1338\n",
      "Epoch 30/50\n",
      "1002/1002 [==============================] - 2s 2ms/step - loss: 0.1326 - val_loss: 0.1320\n",
      "Epoch 31/50\n",
      "1002/1002 [==============================] - 2s 2ms/step - loss: 0.1326 - val_loss: 0.1200\n",
      "Epoch 32/50\n",
      "1002/1002 [==============================] - 2s 2ms/step - loss: 0.1328 - val_loss: 0.1422\n",
      "Epoch 33/50\n",
      "1002/1002 [==============================] - 2s 2ms/step - loss: 0.1327 - val_loss: 0.1332\n",
      "Epoch 34/50\n",
      "1002/1002 [==============================] - 2s 2ms/step - loss: 0.1327 - val_loss: 0.1258\n",
      "Epoch 35/50\n",
      "1002/1002 [==============================] - 2s 2ms/step - loss: 0.1326 - val_loss: 0.1317\n",
      "Epoch 36/50\n",
      "1002/1002 [==============================] - 2s 2ms/step - loss: 0.1326 - val_loss: 0.1390\n",
      "Epoch 37/50\n",
      "1002/1002 [==============================] - 2s 2ms/step - loss: 0.1327 - val_loss: 0.1249\n",
      "Epoch 38/50\n",
      "1002/1002 [==============================] - 2s 2ms/step - loss: 0.1326 - val_loss: 0.1394\n",
      "Epoch 39/50\n",
      "1002/1002 [==============================] - 2s 2ms/step - loss: 0.1326 - val_loss: 0.1393\n",
      "Epoch 40/50\n",
      "1002/1002 [==============================] - 2s 2ms/step - loss: 0.1327 - val_loss: 0.1290\n",
      "Epoch 41/50\n",
      "1002/1002 [==============================] - 2s 2ms/step - loss: 0.1326 - val_loss: 0.1297\n",
      "Epoch 42/50\n",
      "1002/1002 [==============================] - 2s 2ms/step - loss: 0.1326 - val_loss: 0.1312\n",
      "Epoch 43/50\n",
      "1002/1002 [==============================] - 2s 2ms/step - loss: 0.1326 - val_loss: 0.1486\n",
      "Epoch 44/50\n",
      "1002/1002 [==============================] - 2s 2ms/step - loss: 0.1326 - val_loss: 0.1291\n",
      "Epoch 45/50\n",
      "1002/1002 [==============================] - 2s 2ms/step - loss: 0.1326 - val_loss: 0.1273\n",
      "Epoch 46/50\n",
      "1002/1002 [==============================] - 2s 2ms/step - loss: 0.1325 - val_loss: 0.1291\n",
      "Epoch 47/50\n",
      "1002/1002 [==============================] - 2s 2ms/step - loss: 0.1327 - val_loss: 0.1304\n",
      "Epoch 48/50\n",
      "1002/1002 [==============================] - 2s 2ms/step - loss: 0.1326 - val_loss: 0.1464\n",
      "Epoch 49/50\n",
      "1002/1002 [==============================] - 2s 2ms/step - loss: 0.1326 - val_loss: 0.1365\n",
      "Epoch 50/50\n",
      "1002/1002 [==============================] - 2s 2ms/step - loss: 0.1327 - val_loss: 0.1289\n"
     ]
    },
    {
     "data": {
      "text/plain": [
       "<tensorflow.python.keras.callbacks.History at 0x1f803746d68>"
      ]
     },
     "execution_count": 74,
     "metadata": {},
     "output_type": "execute_result"
    }
   ],
   "source": [
    "vae.fit(X_train,\n",
    "        shuffle=True,\n",
    "        epochs=epochs,\n",
    "        batch_size=256,\n",
    "        validation_data=(X_test, None))"
   ]
  },
  {
   "cell_type": "markdown",
   "metadata": {},
   "source": [
    "### GANs\n",
    "\n",
    "GAN은 random latent vecotr에서 데이터를 생성하는 generator와 traning set에서 진짜를 generator에서 가짜를 분류하는 discriminator 두개로 구성된 neural network이다.\n",
    "\n",
    "generative model은 이미지 데이터를 generate할 때 이해하기 쉽기 때문에, 이번에도 이미지 데이터를 통해서 GAN을 알아본다. \n",
    "\n",
    "GAN을 학습하는 방법은 아래의 순서대로 진행된다.\n",
    "\n",
    "1. random number를 포함하는 latent vecotr가 생성된다.\n",
    "2. latent vecotr는 이미지를 생성하는 generator에 전해진다.\n",
    "3. traning set의 real image의 집합과 generator에 의해 생성된 fake 집합이 섞는다. discriminator는 real image와 fake image를 분류하도록 학습된다.\n",
    "4. discriminator가 어느정도 훈련된 후에 다시 fake image를 주입한다. 이때 fake image의 라벨을 real로 한다. discriminaroe를 통해 backpropagate하고 discriminator의 입력에 대한 loss gradient를 얻는다. 이 information을 가지고 discriminator의 weight를 업데이트하지 않는다.\n",
    "5. 이제 discriminator가 real image로 분류하도록 fake image를 변경해야하는 법을 알려주는 gradient가 있다. 이 gradient를 backpropagate에 사용하고 generator를 훈련한다.\n",
    "6. generator의 성능을 향상시킨 후, 다시 fake image를 만들어 real iamge와 섞어 discriminator를 훈련한다. 이 gradient는 다시 generator를 훈련하는데 사용한다."
   ]
  },
  {
   "cell_type": "markdown",
   "metadata": {},
   "source": [
    "수학적으로 generator G와 discriminator D는 value function V(G, D)를 사용하여 mini-max 2인용 게임을 한다. \n",
    "\n",
    "$$min_{G} max_{D} V(G, D) = \\mathbb{E}_{x~p_{data}(x)} [logD(x)] + \\mathbb{E}_{z~p_{z}(z)} [log(1-D(G(z)))]$$\n",
    "\n",
    "x는 real data의 distribution에서 추출한 항목 $p_{data}$ 이고 $z$는 latent vector space $p_z$에서 추출한 latent latent vector이다.\n",
    "\n",
    "generator의 output distribution은 $p_q$로 표시된다. 이 게임의 global 최적값은 $p_g = p_{data}$임을 알 수 있는데, 즉, generated data의 distribution과 real data의 distribution이 같다는 말이다.\n",
    "\n",
    "### A MNIST GAN\n",
    "\n",
    "MNIST 문자열을 생성하기 위한 GAN을 실행해보자. 시작 전 몇개의 모듈을 import해야 한다. GANs은 large models이고 이번 섹션에서 모델을 쉽게 만들기 위해 sequential과 funtional API 모델을 조합하는 것을 볼 수 있다."
   ]
  },
  {
   "cell_type": "code",
   "execution_count": 1,
   "metadata": {},
   "outputs": [],
   "source": [
    "from keras.models import Model, Sequential"
   ]
  },
  {
   "cell_type": "markdown",
   "metadata": {},
   "source": [
    "이번 예제에서는 새로운 타입의 레이어를 사용할 것인데 아래에서 임포트한다."
   ]
  },
  {
   "cell_type": "code",
   "execution_count": 30,
   "metadata": {},
   "outputs": [],
   "source": [
    "from keras.layers import Input, Dense, Dropout, Flatten\n",
    "from keras.layers import LeakyReLU, Reshape\n",
    "from keras.layers import Conv2D, UpSampling2D, UpSampling3D"
   ]
  },
  {
   "cell_type": "markdown",
   "metadata": {},
   "source": [
    "중요한 요소들을 살펴보겠다.\n",
    "\n",
    "* LeakyReLU는 ReLU와 같은데, activation에서 아주 작은 negative value를 허용한다는 것이 특징이다. 이렇게 하면 gradient가 0이 되는 것을 방지한다. 이 activation은 GANs을 위해서 잘 작동한다. \n",
    "\n",
    "* Reshape은 np.reshape과 같다. tensor를 새로운 형태로 만든다.\n",
    "\n",
    "* UpSampling2D는 feature map의 모든 숫자를 반복하여 2D feature map을 2배로 확장한다.\n",
    "\n",
    "Adam optimizer를 사용한다."
   ]
  },
  {
   "cell_type": "code",
   "execution_count": 4,
   "metadata": {},
   "outputs": [],
   "source": [
    "from keras.optimizers import Adam"
   ]
  },
  {
   "cell_type": "markdown",
   "metadata": {},
   "source": [
    "Nerual Network layers는 random하게 초기화된다. 보동 random number는 학습을 잘 도와주는 분포에서 추출된다. GANs을 위해서는, 정규 분포가 좋다고 밝혀졌다."
   ]
  },
  {
   "cell_type": "code",
   "execution_count": 5,
   "metadata": {},
   "outputs": [],
   "source": [
    "from keras.initializers import RandomNormal"
   ]
  },
  {
   "cell_type": "markdown",
   "metadata": {},
   "source": [
    "이제 generator 모델을 만들어 보자."
   ]
  },
  {
   "cell_type": "code",
   "execution_count": 42,
   "metadata": {},
   "outputs": [],
   "source": [
    "latent_dim = 100\n",
    "\n",
    "generator = Sequential() #1\n",
    "generator.add(Dense(7*7*128, input_dim=latent_dim, kernel_initializer=RandomNormal(stddev=0.02))) #2\n",
    "generator.add(LeakyReLU(0.2)) #3\n",
    "generator.add(Reshape((7, 7, 256))) #4\n",
    "generator.add(UpSampling3D(size=(1, 2, 2))) #5\n",
    "generator.add(Conv2D(64, kernel_size=(5, 5), padding='same')) #6\n",
    "generator.add(LeakyReLU(0.2)) #7\n",
    "generator.add(UpSampling3D(size=(1, 2, 2))) #8\n",
    "generator.add(Conv2D(1, kernel_size=(5, 5), padding='same', activation='tanh')) #9\n",
    "adam = Adam(lr=0.0002, beta_1=0.5)\n",
    "generator.compile(loss='binary_crossentropy', optimizer=adam) #10"
   ]
  },
  {
   "cell_type": "code",
   "execution_count": 43,
   "metadata": {},
   "outputs": [
    {
     "name": "stdout",
     "output_type": "stream",
     "text": [
      "Model: \"sequential_18\"\n",
      "_________________________________________________________________\n",
      "Layer (type)                 Output Shape              Param #   \n",
      "=================================================================\n",
      "dense_17 (Dense)             (None, 6272)              633472    \n",
      "_________________________________________________________________\n",
      "leaky_re_lu_30 (LeakyReLU)   (None, 6272)              0         \n",
      "_________________________________________________________________\n",
      "reshape_17 (Reshape)         (None, 128, 7, 7)         0         \n",
      "_________________________________________________________________\n",
      "up_sampling3d_11 (UpSampling (None, 128, 14, 14)       0         \n",
      "_________________________________________________________________\n",
      "conv2d_26 (Conv2D)           (None, 128, 14, 64)       22464     \n",
      "_________________________________________________________________\n",
      "leaky_re_lu_31 (LeakyReLU)   (None, 128, 14, 64)       0         \n",
      "_________________________________________________________________\n",
      "up_sampling3d_12 (UpSampling (None, 128, 28, 128)      0         \n",
      "_________________________________________________________________\n",
      "conv2d_27 (Conv2D)           (None, 128, 28, 1)        3201      \n",
      "=================================================================\n",
      "Total params: 659,137\n",
      "Trainable params: 659,137\n",
      "Non-trainable params: 0\n",
      "_________________________________________________________________\n"
     ]
    }
   ],
   "source": [
    "generator.summary()"
   ]
  },
  {
   "cell_type": "markdown",
   "metadata": {},
   "source": [
    "10개의 key steop으로 된 generator 모델을 살펴보자.\n",
    "\n",
    "1. generator 모델을 sequential 모델로 구축한다.\n",
    "2. 첫번째 레이어는 random letent value와 128*7*7=6272 차원의 벡터를 매핑한다. 이미 생성된 데이터의 차원을 크게 확장한다. 이 fully connected layer의 경우 작은 표준 편자를 가진 정규 분포로부터 가중치를 초기화하는 것이 중요하다. uniform distribution과 다르게 Gaussian distribution 소량의 extreme value를 가지고 있는데, 학습을 쉽게 할 수 있도록 한다.\n",
    "3. 첫번째 레이어를 위한 activation 함수로 LeakyReLU를 쓴다. negative input에 대한 기울기가 얼마나 가파른지를 정해야 하는데 negative input은 0.2가 곱해진다. \n",
    "4. 이제 flat한 vector를 3D tensor로 reshape한다. 컴퓨터 비전에서 Flatten레이어를 사용하는 것과 반대의 개념이다. 이제 7*7픽셀 이미지 또는 피쳐 맵에 128개의 채널이 있는 텐서가 있다. \n",
    "5. Upsampling2D를 사용해서, 이 이미지를 14*14 pixel로 확장한다. size argument는 폭 및 높이에 대한 승수 계수를 지정한다.\n",
    "6. 이제 standart Conv2D 레리어를 적용할 수 있다. image 분류기의 경우와는 다르게, 5*5 픽셀의 비교적 큰 커널 크기를 사용한다.\n",
    "7. Conv2D 레이어 뒤에 오는 LeakReLU는 또 다른 activation 함수이다.\n",
    "8. MNIST 이미지 사이즈와 같은 28*28의 이미지를 만들기 위해 upsampling을 한 번더 한다.\n",
    "9. MNIST 이미지가 black and white로 이루어져 있기 때문에, generator의 마지막 convolutional layer의 오직 single channel image를 출력한다. 마지막 레이어의 activation은 tanh이다. Tanh는 -1과 1로 모든 밸류를 쥐어짜버린다. 일반적으로 이미지 데이터는 0 미안의 값이 없으므로 이는 이해하기 어려울 수 있다. 그러나 경험적으로 tanh가 sigmoid보다 GAN에서 훨씬 잘 작동한다는 것이 밝혀졌다. \n",
    "10. 마지막으로 평소보다 아주 작은 learning rate를 가지고 Adam optimizer와 함께 train을 위해 generator를 complie한다. \n",
    "\n",
    "discriminator는 standard image classifier 인데 진짜와 가짜를 구별한다. GAN 관련 수정 사항은 몇 가지뿐이다."
   ]
  },
  {
   "cell_type": "code",
   "execution_count": 44,
   "metadata": {},
   "outputs": [],
   "source": [
    "# Discriminator\n",
    "discriminator = Sequential()\n",
    "discriminator.add(Conv2D(64, kernel_size=(5, 5), \n",
    "                         strides=(2, 2), \n",
    "                         padding='same', \n",
    "                         input_shape=(1, 28, 28),\n",
    "                         kernel_initializer=RandomNormal(stddev=0.02))) #1\n",
    "\n",
    "discriminator.add(LeakyReLU(0.2))\n",
    "discriminator.add(Dropout(0.3))\n",
    "discriminator.add(Conv2D(128, kernel_size=(5, 5), \n",
    "                         strides=(2, 2), \n",
    "                         padding='same'))\n",
    "discriminator.add(LeakyReLU(0.2))\n",
    "discriminator.add(Dropout(0.3)) #2\n",
    "discriminator.add(Flatten())\n",
    "discriminator.add(Dense(1, activation='sigmoid'))\n",
    "discriminator.compile(loss='binary_crossentropy', optimizer=adam)"
   ]
  },
  {
   "cell_type": "code",
   "execution_count": 45,
   "metadata": {},
   "outputs": [
    {
     "name": "stdout",
     "output_type": "stream",
     "text": [
      "Model: \"sequential_19\"\n",
      "_________________________________________________________________\n",
      "Layer (type)                 Output Shape              Param #   \n",
      "=================================================================\n",
      "conv2d_28 (Conv2D)           (None, 1, 14, 64)         44864     \n",
      "_________________________________________________________________\n",
      "leaky_re_lu_32 (LeakyReLU)   (None, 1, 14, 64)         0         \n",
      "_________________________________________________________________\n",
      "dropout (Dropout)            (None, 1, 14, 64)         0         \n",
      "_________________________________________________________________\n",
      "conv2d_29 (Conv2D)           (None, 1, 7, 128)         204928    \n",
      "_________________________________________________________________\n",
      "leaky_re_lu_33 (LeakyReLU)   (None, 1, 7, 128)         0         \n",
      "_________________________________________________________________\n",
      "dropout_1 (Dropout)          (None, 1, 7, 128)         0         \n",
      "_________________________________________________________________\n",
      "flatten (Flatten)            (None, 896)               0         \n",
      "_________________________________________________________________\n",
      "dense_18 (Dense)             (None, 1)                 897       \n",
      "=================================================================\n",
      "Total params: 250,689\n",
      "Trainable params: 250,689\n",
      "Non-trainable params: 0\n",
      "_________________________________________________________________\n"
     ]
    }
   ],
   "source": [
    "discriminator.summary()"
   ]
  },
  {
   "cell_type": "markdown",
   "metadata": {},
   "source": [
    "두 가지 키 element가 있다. \n",
    "\n",
    "1. generator와 마찬가지로 discriminator의 첫번째 레이어는 가우시안 분포로부터 램던하게 초기화되어야 한다.\n",
    "2. Dropout은 image 분류에서 흔히 사용된다. GAN에서는 마지막 레이어 전에 사용된다.\n",
    "\n",
    "이제 제너레이터와 디스크리미네이터를 가지고 있다. 제너레이터 학습을 위해 디스크리미네이터로 부터 backpropagate된 gradient를 가져와서 제너레이터를 학습시킨다. 이 부분이 케라스의 모듈형 디자인의 진가를 볼 수 있는 부분이다."
   ]
  },
  {
   "cell_type": "markdown",
   "metadata": {},
   "source": [
    "* 책의 예제대로 했으나 결과가 다르게 나와 tensorflow 공식 예제를 통해 generator와 discriminator를 다시 구현한다."
   ]
  },
  {
   "cell_type": "code",
   "execution_count": 47,
   "metadata": {},
   "outputs": [
    {
     "ename": "NameError",
     "evalue": "name 'layers' is not defined",
     "output_type": "error",
     "traceback": [
      "\u001b[1;31m---------------------------------------------------------------------------\u001b[0m",
      "\u001b[1;31mNameError\u001b[0m                                 Traceback (most recent call last)",
      "\u001b[1;32m<ipython-input-47-7fc442e3f030>\u001b[0m in \u001b[0;36m<module>\u001b[1;34m\u001b[0m\n\u001b[0;32m      2\u001b[0m \u001b[1;33m\u001b[0m\u001b[0m\n\u001b[0;32m      3\u001b[0m \u001b[0mmodel\u001b[0m \u001b[1;33m=\u001b[0m \u001b[0mtf\u001b[0m\u001b[1;33m.\u001b[0m\u001b[0mkeras\u001b[0m\u001b[1;33m.\u001b[0m\u001b[0mSequential\u001b[0m\u001b[1;33m(\u001b[0m\u001b[1;33m)\u001b[0m\u001b[1;33m\u001b[0m\u001b[1;33m\u001b[0m\u001b[0m\n\u001b[1;32m----> 4\u001b[1;33m \u001b[0mmodel\u001b[0m\u001b[1;33m.\u001b[0m\u001b[0madd\u001b[0m\u001b[1;33m(\u001b[0m\u001b[0mlayers\u001b[0m\u001b[1;33m.\u001b[0m\u001b[0mDense\u001b[0m\u001b[1;33m(\u001b[0m\u001b[1;36m7\u001b[0m\u001b[1;33m*\u001b[0m\u001b[1;36m7\u001b[0m\u001b[1;33m*\u001b[0m\u001b[1;36m256\u001b[0m\u001b[1;33m,\u001b[0m \u001b[0muse_bias\u001b[0m\u001b[1;33m=\u001b[0m\u001b[1;32mFalse\u001b[0m\u001b[1;33m,\u001b[0m \u001b[0minput_shape\u001b[0m\u001b[1;33m=\u001b[0m\u001b[1;33m(\u001b[0m\u001b[1;36m100\u001b[0m\u001b[1;33m,\u001b[0m\u001b[1;33m)\u001b[0m\u001b[1;33m)\u001b[0m\u001b[1;33m)\u001b[0m\u001b[1;33m\u001b[0m\u001b[1;33m\u001b[0m\u001b[0m\n\u001b[0m\u001b[0;32m      5\u001b[0m \u001b[0mmodel\u001b[0m\u001b[1;33m.\u001b[0m\u001b[0madd\u001b[0m\u001b[1;33m(\u001b[0m\u001b[0mlayers\u001b[0m\u001b[1;33m.\u001b[0m\u001b[0mBatchNormalization\u001b[0m\u001b[1;33m(\u001b[0m\u001b[1;33m)\u001b[0m\u001b[1;33m)\u001b[0m\u001b[1;33m\u001b[0m\u001b[1;33m\u001b[0m\u001b[0m\n\u001b[0;32m      6\u001b[0m \u001b[0mmodel\u001b[0m\u001b[1;33m.\u001b[0m\u001b[0madd\u001b[0m\u001b[1;33m(\u001b[0m\u001b[0mlayers\u001b[0m\u001b[1;33m.\u001b[0m\u001b[0mLeakyReLU\u001b[0m\u001b[1;33m(\u001b[0m\u001b[1;33m)\u001b[0m\u001b[1;33m)\u001b[0m\u001b[1;33m\u001b[0m\u001b[1;33m\u001b[0m\u001b[0m\n",
      "\u001b[1;31mNameError\u001b[0m: name 'layers' is not defined"
     ]
    }
   ],
   "source": [
    "import tensorflow as tf\n",
    "\n",
    "model = tf.keras.Sequential()\n",
    "model.add(layers.Dense(7*7*256, use_bias=False, input_shape=(100,)))\n",
    "model.add(layers.BatchNormalization())\n",
    "model.add(layers.LeakyReLU())\n",
    "\n",
    "model.add(layers.Reshape((7, 7, 256)))\n",
    "assert model.output_shape == (None, 7, 7, 256) # 주목: 배치사이즈로 None이 주어집니다.\n",
    "\n",
    "model.add(layers.Conv2DTranspose(128, (5, 5), strides=(1, 1), padding='same', use_bias=False))\n",
    "assert model.output_shape == (None, 7, 7, 128)\n",
    "model.add(layers.BatchNormalization())\n",
    "model.add(layers.LeakyReLU())\n",
    "\n",
    "model.add(layers.Conv2DTranspose(64, (5, 5), strides=(2, 2), padding='same', use_bias=False))\n",
    "assert model.output_shape == (None, 14, 14, 64)\n",
    "model.add(layers.BatchNormalization())\n",
    "model.add(layers.LeakyReLU())\n",
    "\n",
    "model.add(layers.Conv2DTranspose(1, (5, 5), strides=(2, 2), padding='same', use_bias=False, activation='tanh'))\n",
    "assert model.output_shape == (None, 28, 28, 1)"
   ]
  },
  {
   "cell_type": "code",
   "execution_count": null,
   "metadata": {},
   "outputs": [],
   "source": []
  }
 ],
 "metadata": {
  "kernelspec": {
   "display_name": "Python 3",
   "language": "python",
   "name": "python3"
  },
  "language_info": {
   "codemirror_mode": {
    "name": "ipython",
    "version": 3
   },
   "file_extension": ".py",
   "mimetype": "text/x-python",
   "name": "python",
   "nbconvert_exporter": "python",
   "pygments_lexer": "ipython3",
   "version": "3.7.5"
  }
 },
 "nbformat": 4,
 "nbformat_minor": 2
}
