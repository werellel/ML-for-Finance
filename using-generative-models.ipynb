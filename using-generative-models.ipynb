{
 "cells": [
  {
   "cell_type": "markdown",
   "metadata": {},
   "source": [
    "Generative models은 새로운 데이터를 생성하는 것이다. 이전에 다루었던 모델과는 반대되는 모델이다. 이미지 분류 모델에서는 고차원의 입력을 받고, 이미지 내용과도 같은 저차원을 출력한다. \n",
    "\n",
    "2017년에 Deepfakes가 인터넷에 떠돌기 시작했다. GANs이 유명인들을 features하여 포르노 비디오를 생성하는데 사용되었다. 2016년에 연구자들은 정치인들이 연설하는 비디오를 입모양과 얼굴 표정까지 완벽하게 표현하는 비디오를 만들었다.\n",
    "\n",
    "이 기술은 부정적인 부분만 있는 것은 아니다. sparse한 데이터를 생성하는데 있어 긍정적으로 쓰일 수 있다. 이 경우에 Generative models은 다른 모델이 학습할 수 있는 리얼한 데이터를 생성할 수 있다. Generative models은 이미지를 translate할 수 있다. 위성 사진을 스트릿 사진으로 변환할 수 있다. 또 다른 예로 website screenshot에서 code를 생성할 수도 있다. Generative model은 ML 모델의 unfairness와 discrimination을 다루는데도 사용할 수 있다.\n",
    "\n",
    "금융 분야에서 data가 sparse한 경우가 있다. 데이터를 생성하여 유용한 features를 찾을 수 있다.\n",
    "\n",
    "알고리즘 트레이딩에서 시뮬레이터에 의해서 데이터가 생성된다. 만약 만든 알고리즘이 global selloff에서 어떻게 하는지 알고 싶을 수 있을 것이다. 그러나 global selloff는 많이 생기진 않는다. 그렇기 때문에 퀀트들은 보통 global selloff 시뮬레이터를 만드는데 많은 시간을 쓴다. 이 시뮬레이터는 엔지니어의 경험과 그들의 느낌적 느낌에 의해 global selloff가 편향될 수 있다. 하지만, 만약 모델이 global selloff의 펀더멘탈을 배울 수 있다면 어떨까? 그리고 무한한 global selloff를 만들 수 있다면 어떨까?\n",
    "\n",
    "이번에는 autoencoder와 GANs을 알아보겠다. autoencoder는 저차원으로 데이터를 압축하고 데이터를 충실하게 재구성한다. GANs은 discriminator가 가짜 이미지와 진짜 이미지를 구별할 수 없도록 generator를 훈련시킨다. \n",
    "\n",
    "### understanding autoencoders\n",
    "\n",
    "기술적으로 autoencoders는 새로운 종류의 데이터를 생성할 수 없기 때문에 generative models은 아니다. 그러나 autoencoder를 조금 변형하면 가능하다. \n",
    "\n",
    "금융 분야에 초점을 둔다면, autoencoders는 신용카드사기 detecting과 같은 애플리케이션을 위한 흥미로운 속성을 가지고 있다. \n",
    "\n",
    "입력 x가 주어질 때 autoencoder는 출력 x를 학습니다. autoencoder는 함수 f를 찾는데 아래의 식이 참이 되도록 하는 것을 찾는다.\n",
    "\n",
    "$$x = f(x)$$\n",
    "\n",
    "별거없어 보일지 모르지만, 여기서 트릭은 autoencoder는 bottleneck을 가지고 있다는 것이다. middle hidden layer의 사이즈는 입력 x의 사이즈보다 작다. 그렇기에 모델은 작은 vector에 x의 중요한 모든 요소를 캡처하기 위해 compressed representation을 학습해야 한다. \n",
    "\n",
    "아래의 그림이 autoencoder의 compressed representation schema(개요)를 잘 보여준다.\n",
    "![nn](https://miro.medium.com/max/528/1*Fm7RPNckepfCgLKtkKfskQ.png)\n",
    "![nn](https://miro.medium.com/max/528/1*FGbATgGye0fTU9SMaCo16A.png)\n",
    "\n",
    "이 compressed representation은 입력의 essence를 캡처하는 것이 목적이다. 예를 들어, genuine one한 것에서 부터 사기 거래를 구별하는 본질적인 것을 캡처하고 싶을 수 있다. Vanila autoencoders는 standard principal component analysis와 비슷한 느낌으로 수행한다. 데이터에서 차원을 줄이고 중요한 것에 집중한다. 그러나 PCA와는 다르게, autoencoder는 특정 type의 데이터를 더 생성하도록 확장할 수 있다. 예를 들어, autoencoder는 이미지나 비디오 데이터를 더 잘 다룰 수 있는데 convolutional layer를 사용하여 데이터의 spatiality를 이용할 수 있다. \n",
    "\n",
    "두개의 autoencoder 모델을 만들어 보겠다. 첫번째 모델은 MNIST 데이터를 사용한다. 두번째는 사기 탐지 작업을 위해 사용할 것이다. \n",
    "\n",
    "### Autoencoder for MNIST\n",
    "\n",
    "나중에 쓸 하이퍼파라미터인 인코딩 차원을 설정한다."
   ]
  },
  {
   "cell_type": "code",
   "execution_count": 1,
   "metadata": {},
   "outputs": [],
   "source": [
    "encoding_dim = 32  "
   ]
  },
  {
   "cell_type": "markdown",
   "metadata": {},
   "source": [
    "Keras의 functional API를 사용하여 autoencoder를 만든다. sequential API로도 만들 수 있지만, functional API와 친해져보자.\n",
    "\n",
    "먼저, functional API 모델을 만들 수 있는 Model 클래스를 임포트하고, Input과 Dense 레이어를 임포트하자. "
   ]
  },
  {
   "cell_type": "code",
   "execution_count": 2,
   "metadata": {},
   "outputs": [],
   "source": [
    "from keras.models import Model\n",
    "from keras.layers import Input, Dense"
   ]
  },
  {
   "cell_type": "code",
   "execution_count": 3,
   "metadata": {},
   "outputs": [],
   "source": [
    "input_img = Input(shape=(784,))\n",
    "encoded = Dense(encoding_dim, activation='relu')(input_img)\n",
    "decoded = Dense(784, activation='sigmoid')(encoded)"
   ]
  },
  {
   "cell_type": "code",
   "execution_count": 4,
   "metadata": {},
   "outputs": [],
   "source": [
    "autoencoder = Model(input_img, decoded)"
   ]
  },
  {
   "cell_type": "markdown",
   "metadata": {},
   "source": [
    "무엇이 만들었는지 보기 위해, autoencoder의 결과를 시각화할 수 있다."
   ]
  },
  {
   "cell_type": "code",
   "execution_count": 5,
   "metadata": {},
   "outputs": [
    {
     "name": "stdout",
     "output_type": "stream",
     "text": [
      "Failed to import pydot. You must install pydot and graphviz for `pydotprint` to work.\n"
     ]
    },
    {
     "data": {
      "text/plain": [
       "<Figure size 1000x1000 with 0 Axes>"
      ]
     },
     "execution_count": 5,
     "metadata": {},
     "output_type": "execute_result"
    }
   ],
   "source": [
    "import numpy as np\n",
    "import matplotlib.pyplot as plt\n",
    "\n",
    "from keras.utils import plot_model\n",
    "plot_model(autoencoder, to_file='model.png', show_shapes=True) \n",
    "plt.figure(figsize=(10, 10))"
   ]
  },
  {
   "cell_type": "code",
   "execution_count": 15,
   "metadata": {},
   "outputs": [],
   "source": [
    "encoder = Model(input_img, encoded)\n",
    "encoded_input = Input(shape=(encoding_dim,))\n",
    "\n",
    "decoder_layer = autoencoder.layers[-1]\n",
    "decoder = Model(encoded_input, decoder_layer(encoded_input))"
   ]
  },
  {
   "cell_type": "code",
   "execution_count": 5,
   "metadata": {},
   "outputs": [],
   "source": [
    "autoencoder.compile(optimizer='adadelta', loss='binary_crossentropy')"
   ]
  },
  {
   "cell_type": "code",
   "execution_count": 7,
   "metadata": {},
   "outputs": [],
   "source": [
    "import tensorflow as tf\n",
    "\n",
    "# data_train, data_test = tf.keras.datasets.mnist.load_data()\n",
    "# validation_size = 1000\n",
    "\n",
    "# (images_train, labels_train) = data_train\n",
    "# (images_test, labels_test) = data_test\n",
    "\n",
    "# # images\n",
    "# images_validation = images_train[-validation_size:]\n",
    "# images_train      = images_train[:validation_size]\n",
    "\n",
    "# # labels\n",
    "# labels_validation = labels_train[-validation_size:]\n",
    "# labels_train      = labels_train[:validation_size]\n",
    "\n",
    "# X_train = images_train.astype('float32') / 255.\n",
    "# X_test = images_validation.astype('float32') / 255."
   ]
  },
  {
   "cell_type": "code",
   "execution_count": 8,
   "metadata": {},
   "outputs": [],
   "source": [
    "import numpy as np\n",
    "import matplotlib.pyplot as plt\n",
    "\n",
    "from numpy.random import seed\n",
    "seed(1)\n",
    "tf.random.set_seed(2)\n",
    "\n",
    "\n",
    "def mnist_load_data(path='mnist.npz'):\n",
    "    with np.load(path) as f:\n",
    "        x_train, y_train = f['x_train'], f['y_train']\n",
    "        x_test, y_test = f['x_test'], f['y_test']\n",
    "    return (x_train, y_train), (x_test, y_test)\n",
    "        \n",
    "\n",
    "(X_train, y_train), (X_test, y_test) = mnist_load_data(path='../input/mnist.npz')"
   ]
  },
  {
   "cell_type": "code",
   "execution_count": 9,
   "metadata": {},
   "outputs": [],
   "source": [
    "X_train = X_train.astype('float32') / 255.\n",
    "X_test = X_test.astype('float32') / 255."
   ]
  },
  {
   "cell_type": "code",
   "execution_count": 10,
   "metadata": {},
   "outputs": [
    {
     "data": {
      "text/plain": [
       "<matplotlib.image.AxesImage at 0x1fd80145da0>"
      ]
     },
     "execution_count": 10,
     "metadata": {},
     "output_type": "execute_result"
    },
    {
     "data": {
      "image/png": "[encoded data removed]",
      "text/plain": [
       "<Figure size 432x288 with 1 Axes>"
      ]
     },
     "metadata": {
      "needs_background": "light"
     },
     "output_type": "display_data"
    }
   ],
   "source": [
    "plt.imshow(X_test[0])"
   ]
  },
  {
   "cell_type": "code",
   "execution_count": 11,
   "metadata": {},
   "outputs": [
    {
     "name": "stdout",
     "output_type": "stream",
     "text": [
      "(60000, 784)\n",
      "(10000, 784)\n"
     ]
    }
   ],
   "source": [
    "X_train_flat = X_train.reshape((len(X_train), np.prod(X_train.shape[1:])))\n",
    "X_test_flat = X_test.reshape((len(X_test), np.prod(X_test.shape[1:])))\n",
    "print(X_train_flat.shape)\n",
    "print(X_test_flat.shape)\n",
    "X_train = X_train.astype('float32') / 255.\n",
    "X_test = X_test.astype('float32') / 255."
   ]
  },
  {
   "cell_type": "code",
   "execution_count": 12,
   "metadata": {},
   "outputs": [],
   "source": [
    "from keras.layers import Input, Dense\n",
    "from keras.models import Model\n",
    "\n",
    "# this is the size of our encoded representations\n",
    "encoding_dim = 32  # 32 floats -> compression of factor 24.5, assuming the input is 784 floats\n",
    "\n",
    "# this is our input placeholder\n",
    "input_img = Input(shape=(784,))\n",
    "# \"encoded\" is the encoded representation of the input\n",
    "encoded = Dense(encoding_dim, activation='relu')(input_img)\n",
    "# \"decoded\" is the lossy reconstruction of the input\n",
    "decoded = Dense(784, activation='sigmoid')(encoded)\n",
    "\n",
    "# this model maps an input to its reconstruction\n",
    "autoencoder = Model(input_img, decoded)"
   ]
  },
  {
   "cell_type": "code",
   "execution_count": 13,
   "metadata": {},
   "outputs": [
    {
     "name": "stdout",
     "output_type": "stream",
     "text": [
      "(60000, 784)\n",
      "(10000, 784)\n",
      "Epoch 1/50\n",
      "235/235 [==============================] - 1s 3ms/step - loss: 0.6931 - val_loss: 0.6931\n",
      "Epoch 2/50\n",
      "235/235 [==============================] - 1s 3ms/step - loss: 0.6930 - val_loss: 0.6930\n",
      "Epoch 3/50\n",
      "235/235 [==============================] - 1s 3ms/step - loss: 0.6930 - val_loss: 0.6929\n",
      "Epoch 4/50\n",
      "235/235 [==============================] - 1s 3ms/step - loss: 0.6929 - val_loss: 0.6928\n",
      "Epoch 5/50\n",
      "235/235 [==============================] - 1s 3ms/step - loss: 0.6928 - val_loss: 0.6928\n",
      "Epoch 6/50\n",
      "235/235 [==============================] - 1s 3ms/step - loss: 0.6927 - val_loss: 0.6927\n",
      "Epoch 7/50\n",
      "235/235 [==============================] - 1s 3ms/step - loss: 0.6927 - val_loss: 0.6926\n",
      "Epoch 8/50\n",
      "235/235 [==============================] - 1s 4ms/step - loss: 0.6926 - val_loss: 0.6925\n",
      "Epoch 9/50\n",
      "235/235 [==============================] - 1s 4ms/step - loss: 0.6925 - val_loss: 0.6925\n",
      "Epoch 10/50\n",
      "235/235 [==============================] - 1s 3ms/step - loss: 0.6924 - val_loss: 0.6924\n",
      "Epoch 11/50\n",
      "235/235 [==============================] - 1s 3ms/step - loss: 0.6924 - val_loss: 0.6923\n",
      "Epoch 12/50\n",
      "235/235 [==============================] - 1s 3ms/step - loss: 0.6923 - val_loss: 0.6922\n",
      "Epoch 13/50\n",
      "235/235 [==============================] - 1s 3ms/step - loss: 0.6922 - val_loss: 0.6922\n",
      "Epoch 14/50\n",
      "235/235 [==============================] - 1s 3ms/step - loss: 0.6921 - val_loss: 0.6921\n",
      "Epoch 15/50\n",
      "235/235 [==============================] - 1s 3ms/step - loss: 0.6920 - val_loss: 0.6920\n",
      "Epoch 16/50\n",
      "235/235 [==============================] - 1s 4ms/step - loss: 0.6920 - val_loss: 0.6919\n",
      "Epoch 17/50\n",
      "235/235 [==============================] - 1s 4ms/step - loss: 0.6919 - val_loss: 0.6919\n",
      "Epoch 18/50\n",
      "235/235 [==============================] - 1s 4ms/step - loss: 0.6918 - val_loss: 0.6918\n",
      "Epoch 19/50\n",
      "235/235 [==============================] - 1s 4ms/step - loss: 0.6917 - val_loss: 0.6917\n",
      "Epoch 20/50\n",
      "235/235 [==============================] - 1s 4ms/step - loss: 0.6917 - val_loss: 0.6916\n",
      "Epoch 21/50\n",
      "235/235 [==============================] - 1s 4ms/step - loss: 0.6916 - val_loss: 0.6916\n",
      "Epoch 22/50\n",
      "235/235 [==============================] - 1s 4ms/step - loss: 0.6915 - val_loss: 0.6915\n",
      "Epoch 23/50\n",
      "235/235 [==============================] - 1s 4ms/step - loss: 0.6914 - val_loss: 0.6914\n",
      "Epoch 24/50\n",
      "235/235 [==============================] - 1s 4ms/step - loss: 0.6914 - val_loss: 0.6913\n",
      "Epoch 25/50\n",
      "235/235 [==============================] - 1s 4ms/step - loss: 0.6913 - val_loss: 0.6913\n",
      "Epoch 26/50\n",
      "235/235 [==============================] - 1s 4ms/step - loss: 0.6912 - val_loss: 0.6912\n",
      "Epoch 27/50\n",
      "235/235 [==============================] - 1s 3ms/step - loss: 0.6911 - val_loss: 0.6911\n",
      "Epoch 28/50\n",
      "235/235 [==============================] - 1s 3ms/step - loss: 0.6911 - val_loss: 0.6910\n",
      "Epoch 29/50\n",
      "235/235 [==============================] - 1s 3ms/step - loss: 0.6910 - val_loss: 0.6909\n",
      "Epoch 30/50\n",
      "235/235 [==============================] - 1s 3ms/step - loss: 0.6909 - val_loss: 0.6909\n",
      "Epoch 31/50\n",
      "235/235 [==============================] - 1s 3ms/step - loss: 0.6908 - val_loss: 0.6908\n",
      "Epoch 32/50\n",
      "235/235 [==============================] - 1s 4ms/step - loss: 0.6908 - val_loss: 0.6907\n",
      "Epoch 33/50\n",
      "235/235 [==============================] - 1s 3ms/step - loss: 0.6907 - val_loss: 0.6906\n",
      "Epoch 34/50\n",
      "235/235 [==============================] - 1s 3ms/step - loss: 0.6906 - val_loss: 0.6906\n",
      "Epoch 35/50\n",
      "235/235 [==============================] - 1s 3ms/step - loss: 0.6905 - val_loss: 0.6905\n",
      "Epoch 36/50\n",
      "235/235 [==============================] - 1s 3ms/step - loss: 0.6905 - val_loss: 0.6904\n",
      "Epoch 37/50\n",
      "235/235 [==============================] - 1s 3ms/step - loss: 0.6904 - val_loss: 0.6903\n",
      "Epoch 38/50\n",
      "235/235 [==============================] - 1s 3ms/step - loss: 0.6903 - val_loss: 0.6903\n",
      "Epoch 39/50\n",
      "235/235 [==============================] - 1s 3ms/step - loss: 0.6902 - val_loss: 0.6902\n",
      "Epoch 40/50\n",
      "235/235 [==============================] - 1s 3ms/step - loss: 0.6901 - val_loss: 0.6901\n",
      "Epoch 41/50\n",
      "235/235 [==============================] - 1s 3ms/step - loss: 0.6901 - val_loss: 0.6900\n",
      "Epoch 42/50\n",
      "235/235 [==============================] - 1s 3ms/step - loss: 0.6900 - val_loss: 0.6900\n",
      "Epoch 43/50\n",
      "235/235 [==============================] - 1s 3ms/step - loss: 0.6899 - val_loss: 0.6899\n",
      "Epoch 44/50\n",
      "235/235 [==============================] - 1s 3ms/step - loss: 0.6898 - val_loss: 0.6898\n",
      "Epoch 45/50\n",
      "235/235 [==============================] - 1s 3ms/step - loss: 0.6898 - val_loss: 0.6897\n",
      "Epoch 46/50\n",
      "235/235 [==============================] - 1s 3ms/step - loss: 0.6897 - val_loss: 0.6897\n",
      "Epoch 47/50\n",
      "235/235 [==============================] - 1s 3ms/step - loss: 0.6896 - val_loss: 0.6896\n",
      "Epoch 48/50\n",
      "235/235 [==============================] - 1s 3ms/step - loss: 0.6895 - val_loss: 0.6895\n",
      "Epoch 49/50\n",
      "235/235 [==============================] - 1s 3ms/step - loss: 0.6895 - val_loss: 0.6894\n",
      "Epoch 50/50\n",
      "235/235 [==============================] - 1s 3ms/step - loss: 0.6894 - val_loss: 0.6893\n"
     ]
    },
    {
     "data": {
      "text/plain": [
       "<tensorflow.python.keras.callbacks.History at 0x1fd80258390>"
      ]
     },
     "execution_count": 13,
     "metadata": {},
     "output_type": "execute_result"
    }
   ],
   "source": [
    "encoder = Model(input_img, encoded)\n",
    "# create a placeholder for an encoded (32-dimensional) input\n",
    "encoded_input = Input(shape=(encoding_dim,))\n",
    "# retrieve the last layer of the autoencoder model\n",
    "decoder_layer = autoencoder.layers[-1]\n",
    "# create the decoder model\n",
    "decoder = Model(encoded_input, decoder_layer(encoded_input))\n",
    "X_train_flat = X_train.reshape((len(X_train), np.prod(X_train.shape[1:])))\n",
    "X_test_flat = X_test.reshape((len(X_test), np.prod(X_test.shape[1:])))\n",
    "print(X_train_flat.shape)\n",
    "print(X_test_flat.shape)\n",
    "autoencoder.compile(optimizer='adadelta', loss='binary_crossentropy')\n",
    "autoencoder.fit(X_train_flat, X_train_flat,\n",
    "                epochs=50,\n",
    "                batch_size=256,\n",
    "                shuffle=True,\n",
    "                validation_data=(X_test_flat, X_test_flat))"
   ]
  },
  {
   "cell_type": "code",
   "execution_count": 12,
   "metadata": {},
   "outputs": [],
   "source": [
    "original = np.expand_dims(X_test_flat[0],0)\n",
    "one = autoencoder.predict(original)"
   ]
  },
  {
   "cell_type": "code",
   "execution_count": 13,
   "metadata": {},
   "outputs": [],
   "source": [
    "one = one.reshape(1,28,28)\n",
    "original = original.reshape(1,28,28)"
   ]
  },
  {
   "cell_type": "code",
   "execution_count": 14,
   "metadata": {},
   "outputs": [
    {
     "data": {
      "image/png": "[encoded data removed]",
      "text/plain": [
       "<Figure size 504x720 with 2 Axes>"
      ]
     },
     "metadata": {
      "needs_background": "light"
     },
     "output_type": "display_data"
    }
   ],
   "source": [
    "fig = plt.figure(figsize=(7, 10))\n",
    "a=fig.add_subplot(1,2,1)\n",
    "a.set_title('Original')\n",
    "imgplot = plt.imshow(original[0,:,:])\n",
    "\n",
    "b=fig.add_subplot(1,2,2)\n",
    "b.set_title('Autoencoder')\n",
    "imgplot = plt.imshow(one[0,:,:])"
   ]
  },
  {
   "cell_type": "code",
   "execution_count": 15,
   "metadata": {},
   "outputs": [],
   "source": [
    "import numpy as np\n",
    "import matplotlib.pyplot as plt\n",
    "#from scipy.stats import norm\n",
    "\n",
    "from keras.layers import Input, Dense, Lambda\n",
    "from keras.models import Model\n",
    "from keras import backend as K\n",
    "from keras import metrics\n"
   ]
  },
  {
   "cell_type": "code",
   "execution_count": 16,
   "metadata": {},
   "outputs": [],
   "source": [
    "batch_size = 100\n",
    "original_dim = 784\n",
    "latent_dim = 32\n",
    "intermediate_dim = 256\n",
    "epochs = 50\n",
    "epsilon_std = 1.0\n"
   ]
  },
  {
   "cell_type": "code",
   "execution_count": 17,
   "metadata": {},
   "outputs": [],
   "source": [
    "x = Input(shape=(original_dim,))\n",
    "h = Dense(intermediate_dim, activation='relu')(x)\n",
    "z_mean = Dense(latent_dim)(h)\n",
    "z_log_var = Dense(latent_dim)(h)\n"
   ]
  },
  {
   "cell_type": "code",
   "execution_count": 18,
   "metadata": {},
   "outputs": [],
   "source": [
    "def sampling(args):\n",
    "    z_mean, z_log_var = args\n",
    "    epsilon = K.random_normal(shape=(K.shape(z_mean)[0], latent_dim), mean=0.,\n",
    "                              stddev=epsilon_std)\n",
    "    return z_mean + K.exp(z_log_var / 2) * epsilon\n"
   ]
  },
  {
   "cell_type": "code",
   "execution_count": 19,
   "metadata": {},
   "outputs": [],
   "source": [
    "z = Lambda(sampling)([z_mean, z_log_var])\n"
   ]
  },
  {
   "cell_type": "code",
   "execution_count": 20,
   "metadata": {},
   "outputs": [],
   "source": [
    "h_decoded = Dense(intermediate_dim, activation='relu')(z)\n",
    "\n",
    "x_decoded = Dense(original_dim, activation='sigmoid')(h_decoded)\n"
   ]
  },
  {
   "cell_type": "code",
   "execution_count": 21,
   "metadata": {},
   "outputs": [],
   "source": [
    "vae = Model(x, x_decoded)\n"
   ]
  },
  {
   "cell_type": "code",
   "execution_count": 22,
   "metadata": {},
   "outputs": [],
   "source": [
    "reconstruction_loss = original_dim * metrics.binary_crossentropy(x, x_decoded)\n",
    "kl_loss = - 0.5 * K.sum(1 + z_log_var - K.square(z_mean) - K.exp(z_log_var), axis=-1)\n",
    "vae_loss = K.mean(reconstruction_loss + kl_loss)\n"
   ]
  },
  {
   "cell_type": "code",
   "execution_count": 23,
   "metadata": {},
   "outputs": [
    {
     "name": "stdout",
     "output_type": "stream",
     "text": [
      "Model: \"model_3\"\n",
      "__________________________________________________________________________________________________\n",
      "Layer (type)                    Output Shape         Param #     Connected to                     \n",
      "==================================================================================================\n",
      "input_3 (InputLayer)            [(None, 784)]        0                                            \n",
      "__________________________________________________________________________________________________\n",
      "dense_2 (Dense)                 (None, 256)          200960      input_3[0][0]                    \n",
      "__________________________________________________________________________________________________\n",
      "dense_3 (Dense)                 (None, 32)           8224        dense_2[0][0]                    \n",
      "__________________________________________________________________________________________________\n",
      "dense_4 (Dense)                 (None, 32)           8224        dense_2[0][0]                    \n",
      "__________________________________________________________________________________________________\n",
      "lambda (Lambda)                 (None, 32)           0           dense_3[0][0]                    \n",
      "                                                                 dense_4[0][0]                    \n",
      "__________________________________________________________________________________________________\n",
      "dense_5 (Dense)                 (None, 256)          8448        lambda[0][0]                     \n",
      "__________________________________________________________________________________________________\n",
      "dense_6 (Dense)                 (None, 784)          201488      dense_5[0][0]                    \n",
      "__________________________________________________________________________________________________\n",
      "tf_op_layer_dense_6/MatMul (Ten [(None, 784)]        0           dense_5[0][0]                    \n",
      "__________________________________________________________________________________________________\n",
      "tf_op_layer_dense_6/BiasAdd (Te [(None, 784)]        0           tf_op_layer_dense_6/MatMul[0][0] \n",
      "__________________________________________________________________________________________________\n",
      "tf_op_layer_ZerosLike (TensorFl [(None, 784)]        0           tf_op_layer_dense_6/BiasAdd[0][0]\n",
      "__________________________________________________________________________________________________\n",
      "tf_op_layer_GreaterEqual (Tenso [(None, 784)]        0           tf_op_layer_dense_6/BiasAdd[0][0]\n",
      "                                                                 tf_op_layer_ZerosLike[0][0]      \n",
      "__________________________________________________________________________________________________\n",
      "tf_op_layer_Neg (TensorFlowOpLa [(None, 784)]        0           tf_op_layer_dense_6/BiasAdd[0][0]\n",
      "__________________________________________________________________________________________________\n",
      "tf_op_layer_Select_1 (TensorFlo [(None, 784)]        0           tf_op_layer_GreaterEqual[0][0]   \n",
      "                                                                 tf_op_layer_Neg[0][0]            \n",
      "                                                                 tf_op_layer_dense_6/BiasAdd[0][0]\n",
      "__________________________________________________________________________________________________\n",
      "tf_op_layer_Select (TensorFlowO [(None, 784)]        0           tf_op_layer_GreaterEqual[0][0]   \n",
      "                                                                 tf_op_layer_dense_6/BiasAdd[0][0]\n",
      "                                                                 tf_op_layer_ZerosLike[0][0]      \n",
      "__________________________________________________________________________________________________\n",
      "tf_op_layer_Mul (TensorFlowOpLa [(None, 784)]        0           tf_op_layer_dense_6/BiasAdd[0][0]\n",
      "                                                                 input_3[0][0]                    \n",
      "__________________________________________________________________________________________________\n",
      "tf_op_layer_Exp (TensorFlowOpLa [(None, 784)]        0           tf_op_layer_Select_1[0][0]       \n",
      "__________________________________________________________________________________________________\n",
      "tf_op_layer_AddV2 (TensorFlowOp [(None, 32)]         0           dense_4[0][0]                    \n",
      "__________________________________________________________________________________________________\n",
      "tf_op_layer_Square (TensorFlowO [(None, 32)]         0           dense_3[0][0]                    \n",
      "__________________________________________________________________________________________________\n",
      "tf_op_layer_Sub (TensorFlowOpLa [(None, 784)]        0           tf_op_layer_Select[0][0]         \n",
      "                                                                 tf_op_layer_Mul[0][0]            \n",
      "__________________________________________________________________________________________________\n",
      "tf_op_layer_Log1p (TensorFlowOp [(None, 784)]        0           tf_op_layer_Exp[0][0]            \n",
      "__________________________________________________________________________________________________\n",
      "tf_op_layer_Sub_1 (TensorFlowOp [(None, 32)]         0           tf_op_layer_AddV2[0][0]          \n",
      "                                                                 tf_op_layer_Square[0][0]         \n",
      "__________________________________________________________________________________________________\n",
      "tf_op_layer_Exp_1 (TensorFlowOp [(None, 32)]         0           dense_4[0][0]                    \n",
      "__________________________________________________________________________________________________\n",
      "tf_op_layer_Add (TensorFlowOpLa [(None, 784)]        0           tf_op_layer_Sub[0][0]            \n",
      "                                                                 tf_op_layer_Log1p[0][0]          \n",
      "__________________________________________________________________________________________________\n",
      "tf_op_layer_Sub_2 (TensorFlowOp [(None, 32)]         0           tf_op_layer_Sub_1[0][0]          \n",
      "                                                                 tf_op_layer_Exp_1[0][0]          \n",
      "__________________________________________________________________________________________________\n",
      "tf_op_layer_Mean (TensorFlowOpL [(None,)]            0           tf_op_layer_Add[0][0]            \n",
      "__________________________________________________________________________________________________\n",
      "tf_op_layer_Sum (TensorFlowOpLa [(None,)]            0           tf_op_layer_Sub_2[0][0]          \n",
      "__________________________________________________________________________________________________\n",
      "tf_op_layer_Mul_1 (TensorFlowOp [(None,)]            0           tf_op_layer_Mean[0][0]           \n",
      "__________________________________________________________________________________________________\n",
      "tf_op_layer_Mul_2 (TensorFlowOp [(None,)]            0           tf_op_layer_Sum[0][0]            \n",
      "__________________________________________________________________________________________________\n",
      "tf_op_layer_AddV2_1 (TensorFlow [(None,)]            0           tf_op_layer_Mul_1[0][0]          \n",
      "                                                                 tf_op_layer_Mul_2[0][0]          \n",
      "__________________________________________________________________________________________________\n",
      "tf_op_layer_Mean_1 (TensorFlowO [()]                 0           tf_op_layer_AddV2_1[0][0]        \n",
      "__________________________________________________________________________________________________\n",
      "add_loss (AddLoss)              ()                   0           tf_op_layer_Mean_1[0][0]         \n",
      "==================================================================================================\n",
      "Total params: 427,344\n",
      "Trainable params: 427,344\n",
      "Non-trainable params: 0\n",
      "__________________________________________________________________________________________________\n"
     ]
    }
   ],
   "source": [
    "vae.add_loss(vae_loss)\n",
    "vae.compile(optimizer='rmsprop')\n",
    "vae.summary()\n"
   ]
  },
  {
   "cell_type": "code",
   "execution_count": 24,
   "metadata": {},
   "outputs": [
    {
     "name": "stdout",
     "output_type": "stream",
     "text": [
      "Epoch 1/50\n",
      "WARNING:tensorflow:Gradients do not exist for variables ['dense_6/kernel:0', 'dense_6/bias:0'] when minimizing the loss.\n",
      "WARNING:tensorflow:Gradients do not exist for variables ['dense_6/kernel:0', 'dense_6/bias:0'] when minimizing the loss.\n",
      "WARNING:tensorflow:Gradients do not exist for variables ['dense_6/kernel:0', 'dense_6/bias:0'] when minimizing the loss.\n",
      "WARNING:tensorflow:Gradients do not exist for variables ['dense_6/kernel:0', 'dense_6/bias:0'] when minimizing the loss.\n",
      "600/600 [==============================] - 1s 2ms/step - loss: 479.3681 - val_loss: 470.8866\n",
      "Epoch 2/50\n",
      "600/600 [==============================] - 1s 2ms/step - loss: 469.6577 - val_loss: 468.6114\n",
      "Epoch 3/50\n",
      "600/600 [==============================] - 1s 2ms/step - loss: 467.4945 - val_loss: 466.5309\n",
      "Epoch 4/50\n",
      "600/600 [==============================] - 1s 2ms/step - loss: 465.9686 - val_loss: 465.5833\n",
      "Epoch 5/50\n",
      "600/600 [==============================] - 1s 2ms/step - loss: 465.3257 - val_loss: 465.1154\n",
      "Epoch 6/50\n",
      "600/600 [==============================] - 1s 2ms/step - loss: 464.9022 - val_loss: 464.6926\n",
      "Epoch 7/50\n",
      "600/600 [==============================] - 1s 2ms/step - loss: 464.4455 - val_loss: 464.2128\n",
      "Epoch 8/50\n",
      "600/600 [==============================] - 2s 3ms/step - loss: 464.0053 - val_loss: 463.8129\n",
      "Epoch 9/50\n",
      "600/600 [==============================] - 1s 2ms/step - loss: 463.6414 - val_loss: 463.4715\n",
      "Epoch 10/50\n",
      "600/600 [==============================] - 1s 2ms/step - loss: 463.2713 - val_loss: 463.0879\n",
      "Epoch 11/50\n",
      "600/600 [==============================] - 1s 2ms/step - loss: 462.9407 - val_loss: 462.8257\n",
      "Epoch 12/50\n",
      "600/600 [==============================] - 1s 2ms/step - loss: 462.7429 - val_loss: 462.6836\n",
      "Epoch 13/50\n",
      "600/600 [==============================] - 1s 2ms/step - loss: 462.6623 - val_loss: 462.6584\n",
      "Epoch 14/50\n",
      "600/600 [==============================] - 1s 2ms/step - loss: 462.6563 - val_loss: 462.6584\n",
      "Epoch 15/50\n",
      "600/600 [==============================] - 1s 2ms/step - loss: 462.6565 - val_loss: 462.6585\n",
      "Epoch 16/50\n",
      "600/600 [==============================] - 1s 2ms/step - loss: 462.6563 - val_loss: 462.6584\n",
      "Epoch 17/50\n",
      "600/600 [==============================] - 1s 2ms/step - loss: 462.6564 - val_loss: 462.6587\n",
      "Epoch 18/50\n",
      "600/600 [==============================] - 1s 2ms/step - loss: 462.6562 - val_loss: 462.6585\n",
      "Epoch 19/50\n",
      "600/600 [==============================] - 1s 2ms/step - loss: 462.6564 - val_loss: 462.6585\n",
      "Epoch 20/50\n",
      "600/600 [==============================] - 1s 2ms/step - loss: 462.6562 - val_loss: 462.6586\n",
      "Epoch 21/50\n",
      "600/600 [==============================] - 1s 2ms/step - loss: 462.6562 - val_loss: 462.6584\n",
      "Epoch 22/50\n",
      "600/600 [==============================] - 1s 2ms/step - loss: 462.6561 - val_loss: 462.6584\n",
      "Epoch 23/50\n",
      "600/600 [==============================] - 1s 2ms/step - loss: 462.6562 - val_loss: 462.6584\n",
      "Epoch 24/50\n",
      "600/600 [==============================] - 1s 2ms/step - loss: 462.6563 - val_loss: 462.6584\n",
      "Epoch 25/50\n",
      "600/600 [==============================] - 1s 2ms/step - loss: 462.6559 - val_loss: 462.6584\n",
      "Epoch 26/50\n",
      "600/600 [==============================] - 1s 2ms/step - loss: 462.6557 - val_loss: 462.6580\n",
      "Epoch 27/50\n",
      "600/600 [==============================] - 1s 2ms/step - loss: 462.6560 - val_loss: 462.6580\n",
      "Epoch 28/50\n",
      "600/600 [==============================] - 1s 2ms/step - loss: 462.6558 - val_loss: 462.6581\n",
      "Epoch 29/50\n",
      "600/600 [==============================] - 1s 2ms/step - loss: 462.6561 - val_loss: 462.6578\n",
      "Epoch 30/50\n",
      "600/600 [==============================] - 1s 2ms/step - loss: 462.6557 - val_loss: 462.6580\n",
      "Epoch 31/50\n",
      "600/600 [==============================] - 1s 2ms/step - loss: 462.6559 - val_loss: 462.6581\n",
      "Epoch 32/50\n",
      "600/600 [==============================] - 1s 2ms/step - loss: 462.6560 - val_loss: 462.6580\n",
      "Epoch 33/50\n",
      "600/600 [==============================] - 1s 2ms/step - loss: 462.6559 - val_loss: 462.6580\n",
      "Epoch 34/50\n",
      "600/600 [==============================] - 1s 2ms/step - loss: 462.6561 - val_loss: 462.6580\n",
      "Epoch 35/50\n",
      "600/600 [==============================] - 1s 2ms/step - loss: 462.6557 - val_loss: 462.6580\n",
      "Epoch 36/50\n",
      "600/600 [==============================] - 1s 2ms/step - loss: 462.6560 - val_loss: 462.6581\n",
      "Epoch 37/50\n",
      "600/600 [==============================] - 1s 2ms/step - loss: 462.6561 - val_loss: 462.6580\n",
      "Epoch 38/50\n",
      "600/600 [==============================] - 1s 2ms/step - loss: 462.6556 - val_loss: 462.6578\n",
      "Epoch 39/50\n",
      "600/600 [==============================] - 1s 2ms/step - loss: 462.6559 - val_loss: 462.6581\n",
      "Epoch 40/50\n",
      "600/600 [==============================] - 1s 2ms/step - loss: 462.6557 - val_loss: 462.6580\n",
      "Epoch 41/50\n",
      "600/600 [==============================] - 1s 2ms/step - loss: 462.6555 - val_loss: 462.6580\n",
      "Epoch 42/50\n",
      "600/600 [==============================] - 1s 2ms/step - loss: 462.6559 - val_loss: 462.6581\n",
      "Epoch 43/50\n",
      "600/600 [==============================] - 1s 2ms/step - loss: 462.6560 - val_loss: 462.6579\n",
      "Epoch 44/50\n",
      "600/600 [==============================] - 1s 2ms/step - loss: 462.6562 - val_loss: 462.6581\n",
      "Epoch 45/50\n",
      "600/600 [==============================] - 1s 2ms/step - loss: 462.6558 - val_loss: 462.6581\n",
      "Epoch 46/50\n",
      "600/600 [==============================] - 1s 2ms/step - loss: 462.6560 - val_loss: 462.6579\n",
      "Epoch 47/50\n",
      "600/600 [==============================] - 2s 3ms/step - loss: 462.6562 - val_loss: 462.6580\n",
      "Epoch 48/50\n",
      "600/600 [==============================] - 1s 2ms/step - loss: 462.6559 - val_loss: 462.6580\n",
      "Epoch 49/50\n",
      "600/600 [==============================] - 1s 2ms/step - loss: 462.6560 - val_loss: 462.6581\n",
      "Epoch 50/50\n",
      "600/600 [==============================] - 1s 2ms/step - loss: 462.6559 - val_loss: 462.6581\n"
     ]
    },
    {
     "data": {
      "text/plain": [
       "<tensorflow.python.keras.callbacks.History at 0x18963964780>"
      ]
     },
     "execution_count": 24,
     "metadata": {},
     "output_type": "execute_result"
    }
   ],
   "source": [
    "vae.fit(X_train_flat,\n",
    "        shuffle=True,\n",
    "        epochs=epochs,\n",
    "        batch_size=batch_size,\n",
    "        validation_data=(X_test_flat, None))\n"
   ]
  },
  {
   "cell_type": "code",
   "execution_count": 25,
   "metadata": {},
   "outputs": [],
   "source": [
    "one_seven = X_test_flat[0]\n"
   ]
  },
  {
   "cell_type": "code",
   "execution_count": 26,
   "metadata": {},
   "outputs": [],
   "source": [
    "one_seven = np.expand_dims(one_seven,0)\n"
   ]
  },
  {
   "cell_type": "code",
   "execution_count": 27,
   "metadata": {},
   "outputs": [
    {
     "data": {
      "text/plain": [
       "(1, 784)"
      ]
     },
     "execution_count": 27,
     "metadata": {},
     "output_type": "execute_result"
    }
   ],
   "source": [
    "one_seven.shape\n"
   ]
  },
  {
   "cell_type": "code",
   "execution_count": 28,
   "metadata": {},
   "outputs": [],
   "source": [
    "one_seven = one_seven.repeat(4,axis=0)\n"
   ]
  },
  {
   "cell_type": "code",
   "execution_count": 29,
   "metadata": {},
   "outputs": [],
   "source": [
    "s = vae.predict(one_seven)\n"
   ]
  },
  {
   "cell_type": "code",
   "execution_count": 30,
   "metadata": {},
   "outputs": [
    {
     "data": {
      "text/plain": [
       "(4, 784)"
      ]
     },
     "execution_count": 30,
     "metadata": {},
     "output_type": "execute_result"
    }
   ],
   "source": [
    "s.shape\n"
   ]
  },
  {
   "cell_type": "code",
   "execution_count": 31,
   "metadata": {},
   "outputs": [],
   "source": [
    "s= s.reshape(4,28,28)\n"
   ]
  },
  {
   "cell_type": "code",
   "execution_count": 32,
   "metadata": {},
   "outputs": [
    {
     "data": {
      "image/png": "[encoded data removed]",
      "text/plain": [
       "<Figure size 576x576 with 4 Axes>"
      ]
     },
     "metadata": {
      "needs_background": "light"
     },
     "output_type": "display_data"
    }
   ],
   "source": [
    "fig=plt.figure(figsize=(8, 8))\n",
    "columns = 2\n",
    "rows = 2\n",
    "for i in range(1, columns*rows +1):\n",
    "    img = s[i-1]\n",
    "    fig.add_subplot(rows, columns, i)\n",
    "    plt.imshow(img)\n",
    "plt.show()\n"
   ]
  },
  {
   "cell_type": "code",
   "execution_count": 33,
   "metadata": {},
   "outputs": [],
   "source": [
    "encoder = Model(x, z_mean)\n"
   ]
  },
  {
   "cell_type": "code",
   "execution_count": 34,
   "metadata": {},
   "outputs": [
    {
     "data": {
      "image/png": "[encoded data removed]",
      "text/plain": [
       "<Figure size 432x432 with 2 Axes>"
      ]
     },
     "metadata": {
      "needs_background": "light"
     },
     "output_type": "display_data"
    }
   ],
   "source": [
    "x_test_encoded = encoder.predict(X_test_flat, batch_size=batch_size)\n",
    "plt.figure(figsize=(6, 6))\n",
    "plt.scatter(x_test_encoded[:, 0], x_test_encoded[:, 1], c=y_test)\n",
    "plt.colorbar()\n",
    "plt.show()\n"
   ]
  },
  {
   "cell_type": "markdown",
   "metadata": {},
   "source": [
    "### Autoencoder for credit cards\n",
    "\n",
    "이번 섹션을 통해서 신용카드 사기 문제를 한 번 더 다뤄보자. 다루를 데이터셋에서 익명화된 신용카드 거래 기록이 있는데, feature engineering을 하기엔 적합하지 않아 end-to-end learning method로 fraud detoection을 해보자."
   ]
  },
  {
   "cell_type": "code",
   "execution_count": 4,
   "metadata": {},
   "outputs": [],
   "source": [
    "import numpy as np\n",
    "import pandas as pd\n",
    "\n",
    "df = pd.read_csv('../input/creditcard.csv')"
   ]
  },
  {
   "cell_type": "code",
   "execution_count": 5,
   "metadata": {},
   "outputs": [
    {
     "data": {
      "text/html": [
       "<div>\n",
       "<style scoped>\n",
       "    .dataframe tbody tr th:only-of-type {\n",
       "        vertical-align: middle;\n",
       "    }\n",
       "\n",
       "    .dataframe tbody tr th {\n",
       "        vertical-align: top;\n",
       "    }\n",
       "\n",
       "    .dataframe thead th {\n",
       "        text-align: right;\n",
       "    }\n",
       "</style>\n",
       "<table border=\"1\" class=\"dataframe\">\n",
       "  <thead>\n",
       "    <tr style=\"text-align: right;\">\n",
       "      <th></th>\n",
       "      <th>Time</th>\n",
       "      <th>V1</th>\n",
       "      <th>V2</th>\n",
       "      <th>V3</th>\n",
       "      <th>V4</th>\n",
       "      <th>V5</th>\n",
       "      <th>V6</th>\n",
       "      <th>V7</th>\n",
       "      <th>V8</th>\n",
       "      <th>V9</th>\n",
       "      <th>...</th>\n",
       "      <th>V21</th>\n",
       "      <th>V22</th>\n",
       "      <th>V23</th>\n",
       "      <th>V24</th>\n",
       "      <th>V25</th>\n",
       "      <th>V26</th>\n",
       "      <th>V27</th>\n",
       "      <th>V28</th>\n",
       "      <th>Amount</th>\n",
       "      <th>Class</th>\n",
       "    </tr>\n",
       "  </thead>\n",
       "  <tbody>\n",
       "    <tr>\n",
       "      <th>0</th>\n",
       "      <td>0.0</td>\n",
       "      <td>-1.359807</td>\n",
       "      <td>-0.072781</td>\n",
       "      <td>2.536347</td>\n",
       "      <td>1.378155</td>\n",
       "      <td>-0.338321</td>\n",
       "      <td>0.462388</td>\n",
       "      <td>0.239599</td>\n",
       "      <td>0.098698</td>\n",
       "      <td>0.363787</td>\n",
       "      <td>...</td>\n",
       "      <td>-0.018307</td>\n",
       "      <td>0.277838</td>\n",
       "      <td>-0.110474</td>\n",
       "      <td>0.066928</td>\n",
       "      <td>0.128539</td>\n",
       "      <td>-0.189115</td>\n",
       "      <td>0.133558</td>\n",
       "      <td>-0.021053</td>\n",
       "      <td>149.62</td>\n",
       "      <td>0</td>\n",
       "    </tr>\n",
       "    <tr>\n",
       "      <th>1</th>\n",
       "      <td>0.0</td>\n",
       "      <td>1.191857</td>\n",
       "      <td>0.266151</td>\n",
       "      <td>0.166480</td>\n",
       "      <td>0.448154</td>\n",
       "      <td>0.060018</td>\n",
       "      <td>-0.082361</td>\n",
       "      <td>-0.078803</td>\n",
       "      <td>0.085102</td>\n",
       "      <td>-0.255425</td>\n",
       "      <td>...</td>\n",
       "      <td>-0.225775</td>\n",
       "      <td>-0.638672</td>\n",
       "      <td>0.101288</td>\n",
       "      <td>-0.339846</td>\n",
       "      <td>0.167170</td>\n",
       "      <td>0.125895</td>\n",
       "      <td>-0.008983</td>\n",
       "      <td>0.014724</td>\n",
       "      <td>2.69</td>\n",
       "      <td>0</td>\n",
       "    </tr>\n",
       "    <tr>\n",
       "      <th>2</th>\n",
       "      <td>1.0</td>\n",
       "      <td>-1.358354</td>\n",
       "      <td>-1.340163</td>\n",
       "      <td>1.773209</td>\n",
       "      <td>0.379780</td>\n",
       "      <td>-0.503198</td>\n",
       "      <td>1.800499</td>\n",
       "      <td>0.791461</td>\n",
       "      <td>0.247676</td>\n",
       "      <td>-1.514654</td>\n",
       "      <td>...</td>\n",
       "      <td>0.247998</td>\n",
       "      <td>0.771679</td>\n",
       "      <td>0.909412</td>\n",
       "      <td>-0.689281</td>\n",
       "      <td>-0.327642</td>\n",
       "      <td>-0.139097</td>\n",
       "      <td>-0.055353</td>\n",
       "      <td>-0.059752</td>\n",
       "      <td>378.66</td>\n",
       "      <td>0</td>\n",
       "    </tr>\n",
       "    <tr>\n",
       "      <th>3</th>\n",
       "      <td>1.0</td>\n",
       "      <td>-0.966272</td>\n",
       "      <td>-0.185226</td>\n",
       "      <td>1.792993</td>\n",
       "      <td>-0.863291</td>\n",
       "      <td>-0.010309</td>\n",
       "      <td>1.247203</td>\n",
       "      <td>0.237609</td>\n",
       "      <td>0.377436</td>\n",
       "      <td>-1.387024</td>\n",
       "      <td>...</td>\n",
       "      <td>-0.108300</td>\n",
       "      <td>0.005274</td>\n",
       "      <td>-0.190321</td>\n",
       "      <td>-1.175575</td>\n",
       "      <td>0.647376</td>\n",
       "      <td>-0.221929</td>\n",
       "      <td>0.062723</td>\n",
       "      <td>0.061458</td>\n",
       "      <td>123.50</td>\n",
       "      <td>0</td>\n",
       "    </tr>\n",
       "    <tr>\n",
       "      <th>4</th>\n",
       "      <td>2.0</td>\n",
       "      <td>-1.158233</td>\n",
       "      <td>0.877737</td>\n",
       "      <td>1.548718</td>\n",
       "      <td>0.403034</td>\n",
       "      <td>-0.407193</td>\n",
       "      <td>0.095921</td>\n",
       "      <td>0.592941</td>\n",
       "      <td>-0.270533</td>\n",
       "      <td>0.817739</td>\n",
       "      <td>...</td>\n",
       "      <td>-0.009431</td>\n",
       "      <td>0.798278</td>\n",
       "      <td>-0.137458</td>\n",
       "      <td>0.141267</td>\n",
       "      <td>-0.206010</td>\n",
       "      <td>0.502292</td>\n",
       "      <td>0.219422</td>\n",
       "      <td>0.215153</td>\n",
       "      <td>69.99</td>\n",
       "      <td>0</td>\n",
       "    </tr>\n",
       "  </tbody>\n",
       "</table>\n",
       "<p>5 rows × 31 columns</p>\n",
       "</div>"
      ],
      "text/plain": [
       "   Time        V1        V2        V3        V4        V5        V6        V7  \\\n",
       "0   0.0 -1.359807 -0.072781  2.536347  1.378155 -0.338321  0.462388  0.239599   \n",
       "1   0.0  1.191857  0.266151  0.166480  0.448154  0.060018 -0.082361 -0.078803   \n",
       "2   1.0 -1.358354 -1.340163  1.773209  0.379780 -0.503198  1.800499  0.791461   \n",
       "3   1.0 -0.966272 -0.185226  1.792993 -0.863291 -0.010309  1.247203  0.237609   \n",
       "4   2.0 -1.158233  0.877737  1.548718  0.403034 -0.407193  0.095921  0.592941   \n",
       "\n",
       "         V8        V9  ...       V21       V22       V23       V24       V25  \\\n",
       "0  0.098698  0.363787  ... -0.018307  0.277838 -0.110474  0.066928  0.128539   \n",
       "1  0.085102 -0.255425  ... -0.225775 -0.638672  0.101288 -0.339846  0.167170   \n",
       "2  0.247676 -1.514654  ...  0.247998  0.771679  0.909412 -0.689281 -0.327642   \n",
       "3  0.377436 -1.387024  ... -0.108300  0.005274 -0.190321 -1.175575  0.647376   \n",
       "4 -0.270533  0.817739  ... -0.009431  0.798278 -0.137458  0.141267 -0.206010   \n",
       "\n",
       "        V26       V27       V28  Amount  Class  \n",
       "0 -0.189115  0.133558 -0.021053  149.62      0  \n",
       "1  0.125895 -0.008983  0.014724    2.69      0  \n",
       "2 -0.139097 -0.055353 -0.059752  378.66      0  \n",
       "3 -0.221929  0.062723  0.061458  123.50      0  \n",
       "4  0.502292  0.219422  0.215153   69.99      0  \n",
       "\n",
       "[5 rows x 31 columns]"
      ]
     },
     "execution_count": 5,
     "metadata": {},
     "output_type": "execute_result"
    }
   ],
   "source": [
    "df.head()"
   ]
  },
  {
   "cell_type": "code",
   "execution_count": 6,
   "metadata": {},
   "outputs": [
    {
     "data": {
      "text/html": [
       "<div>\n",
       "<style scoped>\n",
       "    .dataframe tbody tr th:only-of-type {\n",
       "        vertical-align: middle;\n",
       "    }\n",
       "\n",
       "    .dataframe tbody tr th {\n",
       "        vertical-align: top;\n",
       "    }\n",
       "\n",
       "    .dataframe thead th {\n",
       "        text-align: right;\n",
       "    }\n",
       "</style>\n",
       "<table border=\"1\" class=\"dataframe\">\n",
       "  <thead>\n",
       "    <tr style=\"text-align: right;\">\n",
       "      <th></th>\n",
       "      <th>Time</th>\n",
       "      <th>V1</th>\n",
       "      <th>V2</th>\n",
       "      <th>V3</th>\n",
       "      <th>V4</th>\n",
       "      <th>V5</th>\n",
       "      <th>V6</th>\n",
       "      <th>V7</th>\n",
       "      <th>V8</th>\n",
       "      <th>V9</th>\n",
       "      <th>...</th>\n",
       "      <th>V21</th>\n",
       "      <th>V22</th>\n",
       "      <th>V23</th>\n",
       "      <th>V24</th>\n",
       "      <th>V25</th>\n",
       "      <th>V26</th>\n",
       "      <th>V27</th>\n",
       "      <th>V28</th>\n",
       "      <th>Amount</th>\n",
       "      <th>Class</th>\n",
       "    </tr>\n",
       "  </thead>\n",
       "  <tbody>\n",
       "    <tr>\n",
       "      <th>count</th>\n",
       "      <td>284807.000000</td>\n",
       "      <td>2.848070e+05</td>\n",
       "      <td>2.848070e+05</td>\n",
       "      <td>2.848070e+05</td>\n",
       "      <td>2.848070e+05</td>\n",
       "      <td>2.848070e+05</td>\n",
       "      <td>2.848070e+05</td>\n",
       "      <td>2.848070e+05</td>\n",
       "      <td>2.848070e+05</td>\n",
       "      <td>2.848070e+05</td>\n",
       "      <td>...</td>\n",
       "      <td>2.848070e+05</td>\n",
       "      <td>2.848070e+05</td>\n",
       "      <td>2.848070e+05</td>\n",
       "      <td>2.848070e+05</td>\n",
       "      <td>2.848070e+05</td>\n",
       "      <td>2.848070e+05</td>\n",
       "      <td>2.848070e+05</td>\n",
       "      <td>2.848070e+05</td>\n",
       "      <td>284807.000000</td>\n",
       "      <td>284807.000000</td>\n",
       "    </tr>\n",
       "    <tr>\n",
       "      <th>mean</th>\n",
       "      <td>94813.859575</td>\n",
       "      <td>1.165980e-15</td>\n",
       "      <td>3.416908e-16</td>\n",
       "      <td>-1.373150e-15</td>\n",
       "      <td>2.086869e-15</td>\n",
       "      <td>9.604066e-16</td>\n",
       "      <td>1.490107e-15</td>\n",
       "      <td>-5.556467e-16</td>\n",
       "      <td>1.177556e-16</td>\n",
       "      <td>-2.406455e-15</td>\n",
       "      <td>...</td>\n",
       "      <td>1.656562e-16</td>\n",
       "      <td>-3.444850e-16</td>\n",
       "      <td>2.578648e-16</td>\n",
       "      <td>4.471968e-15</td>\n",
       "      <td>5.340915e-16</td>\n",
       "      <td>1.687098e-15</td>\n",
       "      <td>-3.666453e-16</td>\n",
       "      <td>-1.220404e-16</td>\n",
       "      <td>88.349619</td>\n",
       "      <td>0.001727</td>\n",
       "    </tr>\n",
       "    <tr>\n",
       "      <th>std</th>\n",
       "      <td>47488.145955</td>\n",
       "      <td>1.958696e+00</td>\n",
       "      <td>1.651309e+00</td>\n",
       "      <td>1.516255e+00</td>\n",
       "      <td>1.415869e+00</td>\n",
       "      <td>1.380247e+00</td>\n",
       "      <td>1.332271e+00</td>\n",
       "      <td>1.237094e+00</td>\n",
       "      <td>1.194353e+00</td>\n",
       "      <td>1.098632e+00</td>\n",
       "      <td>...</td>\n",
       "      <td>7.345240e-01</td>\n",
       "      <td>7.257016e-01</td>\n",
       "      <td>6.244603e-01</td>\n",
       "      <td>6.056471e-01</td>\n",
       "      <td>5.212781e-01</td>\n",
       "      <td>4.822270e-01</td>\n",
       "      <td>4.036325e-01</td>\n",
       "      <td>3.300833e-01</td>\n",
       "      <td>250.120109</td>\n",
       "      <td>0.041527</td>\n",
       "    </tr>\n",
       "    <tr>\n",
       "      <th>min</th>\n",
       "      <td>0.000000</td>\n",
       "      <td>-5.640751e+01</td>\n",
       "      <td>-7.271573e+01</td>\n",
       "      <td>-4.832559e+01</td>\n",
       "      <td>-5.683171e+00</td>\n",
       "      <td>-1.137433e+02</td>\n",
       "      <td>-2.616051e+01</td>\n",
       "      <td>-4.355724e+01</td>\n",
       "      <td>-7.321672e+01</td>\n",
       "      <td>-1.343407e+01</td>\n",
       "      <td>...</td>\n",
       "      <td>-3.483038e+01</td>\n",
       "      <td>-1.093314e+01</td>\n",
       "      <td>-4.480774e+01</td>\n",
       "      <td>-2.836627e+00</td>\n",
       "      <td>-1.029540e+01</td>\n",
       "      <td>-2.604551e+00</td>\n",
       "      <td>-2.256568e+01</td>\n",
       "      <td>-1.543008e+01</td>\n",
       "      <td>0.000000</td>\n",
       "      <td>0.000000</td>\n",
       "    </tr>\n",
       "    <tr>\n",
       "      <th>25%</th>\n",
       "      <td>54201.500000</td>\n",
       "      <td>-9.203734e-01</td>\n",
       "      <td>-5.985499e-01</td>\n",
       "      <td>-8.903648e-01</td>\n",
       "      <td>-8.486401e-01</td>\n",
       "      <td>-6.915971e-01</td>\n",
       "      <td>-7.682956e-01</td>\n",
       "      <td>-5.540759e-01</td>\n",
       "      <td>-2.086297e-01</td>\n",
       "      <td>-6.430976e-01</td>\n",
       "      <td>...</td>\n",
       "      <td>-2.283949e-01</td>\n",
       "      <td>-5.423504e-01</td>\n",
       "      <td>-1.618463e-01</td>\n",
       "      <td>-3.545861e-01</td>\n",
       "      <td>-3.171451e-01</td>\n",
       "      <td>-3.269839e-01</td>\n",
       "      <td>-7.083953e-02</td>\n",
       "      <td>-5.295979e-02</td>\n",
       "      <td>5.600000</td>\n",
       "      <td>0.000000</td>\n",
       "    </tr>\n",
       "    <tr>\n",
       "      <th>50%</th>\n",
       "      <td>84692.000000</td>\n",
       "      <td>1.810880e-02</td>\n",
       "      <td>6.548556e-02</td>\n",
       "      <td>1.798463e-01</td>\n",
       "      <td>-1.984653e-02</td>\n",
       "      <td>-5.433583e-02</td>\n",
       "      <td>-2.741871e-01</td>\n",
       "      <td>4.010308e-02</td>\n",
       "      <td>2.235804e-02</td>\n",
       "      <td>-5.142873e-02</td>\n",
       "      <td>...</td>\n",
       "      <td>-2.945017e-02</td>\n",
       "      <td>6.781943e-03</td>\n",
       "      <td>-1.119293e-02</td>\n",
       "      <td>4.097606e-02</td>\n",
       "      <td>1.659350e-02</td>\n",
       "      <td>-5.213911e-02</td>\n",
       "      <td>1.342146e-03</td>\n",
       "      <td>1.124383e-02</td>\n",
       "      <td>22.000000</td>\n",
       "      <td>0.000000</td>\n",
       "    </tr>\n",
       "    <tr>\n",
       "      <th>75%</th>\n",
       "      <td>139320.500000</td>\n",
       "      <td>1.315642e+00</td>\n",
       "      <td>8.037239e-01</td>\n",
       "      <td>1.027196e+00</td>\n",
       "      <td>7.433413e-01</td>\n",
       "      <td>6.119264e-01</td>\n",
       "      <td>3.985649e-01</td>\n",
       "      <td>5.704361e-01</td>\n",
       "      <td>3.273459e-01</td>\n",
       "      <td>5.971390e-01</td>\n",
       "      <td>...</td>\n",
       "      <td>1.863772e-01</td>\n",
       "      <td>5.285536e-01</td>\n",
       "      <td>1.476421e-01</td>\n",
       "      <td>4.395266e-01</td>\n",
       "      <td>3.507156e-01</td>\n",
       "      <td>2.409522e-01</td>\n",
       "      <td>9.104512e-02</td>\n",
       "      <td>7.827995e-02</td>\n",
       "      <td>77.165000</td>\n",
       "      <td>0.000000</td>\n",
       "    </tr>\n",
       "    <tr>\n",
       "      <th>max</th>\n",
       "      <td>172792.000000</td>\n",
       "      <td>2.454930e+00</td>\n",
       "      <td>2.205773e+01</td>\n",
       "      <td>9.382558e+00</td>\n",
       "      <td>1.687534e+01</td>\n",
       "      <td>3.480167e+01</td>\n",
       "      <td>7.330163e+01</td>\n",
       "      <td>1.205895e+02</td>\n",
       "      <td>2.000721e+01</td>\n",
       "      <td>1.559499e+01</td>\n",
       "      <td>...</td>\n",
       "      <td>2.720284e+01</td>\n",
       "      <td>1.050309e+01</td>\n",
       "      <td>2.252841e+01</td>\n",
       "      <td>4.584549e+00</td>\n",
       "      <td>7.519589e+00</td>\n",
       "      <td>3.517346e+00</td>\n",
       "      <td>3.161220e+01</td>\n",
       "      <td>3.384781e+01</td>\n",
       "      <td>25691.160000</td>\n",
       "      <td>1.000000</td>\n",
       "    </tr>\n",
       "  </tbody>\n",
       "</table>\n",
       "<p>8 rows × 31 columns</p>\n",
       "</div>"
      ],
      "text/plain": [
       "                Time            V1            V2            V3            V4  \\\n",
       "count  284807.000000  2.848070e+05  2.848070e+05  2.848070e+05  2.848070e+05   \n",
       "mean    94813.859575  1.165980e-15  3.416908e-16 -1.373150e-15  2.086869e-15   \n",
       "std     47488.145955  1.958696e+00  1.651309e+00  1.516255e+00  1.415869e+00   \n",
       "min         0.000000 -5.640751e+01 -7.271573e+01 -4.832559e+01 -5.683171e+00   \n",
       "25%     54201.500000 -9.203734e-01 -5.985499e-01 -8.903648e-01 -8.486401e-01   \n",
       "50%     84692.000000  1.810880e-02  6.548556e-02  1.798463e-01 -1.984653e-02   \n",
       "75%    139320.500000  1.315642e+00  8.037239e-01  1.027196e+00  7.433413e-01   \n",
       "max    172792.000000  2.454930e+00  2.205773e+01  9.382558e+00  1.687534e+01   \n",
       "\n",
       "                 V5            V6            V7            V8            V9  \\\n",
       "count  2.848070e+05  2.848070e+05  2.848070e+05  2.848070e+05  2.848070e+05   \n",
       "mean   9.604066e-16  1.490107e-15 -5.556467e-16  1.177556e-16 -2.406455e-15   \n",
       "std    1.380247e+00  1.332271e+00  1.237094e+00  1.194353e+00  1.098632e+00   \n",
       "min   -1.137433e+02 -2.616051e+01 -4.355724e+01 -7.321672e+01 -1.343407e+01   \n",
       "25%   -6.915971e-01 -7.682956e-01 -5.540759e-01 -2.086297e-01 -6.430976e-01   \n",
       "50%   -5.433583e-02 -2.741871e-01  4.010308e-02  2.235804e-02 -5.142873e-02   \n",
       "75%    6.119264e-01  3.985649e-01  5.704361e-01  3.273459e-01  5.971390e-01   \n",
       "max    3.480167e+01  7.330163e+01  1.205895e+02  2.000721e+01  1.559499e+01   \n",
       "\n",
       "       ...           V21           V22           V23           V24  \\\n",
       "count  ...  2.848070e+05  2.848070e+05  2.848070e+05  2.848070e+05   \n",
       "mean   ...  1.656562e-16 -3.444850e-16  2.578648e-16  4.471968e-15   \n",
       "std    ...  7.345240e-01  7.257016e-01  6.244603e-01  6.056471e-01   \n",
       "min    ... -3.483038e+01 -1.093314e+01 -4.480774e+01 -2.836627e+00   \n",
       "25%    ... -2.283949e-01 -5.423504e-01 -1.618463e-01 -3.545861e-01   \n",
       "50%    ... -2.945017e-02  6.781943e-03 -1.119293e-02  4.097606e-02   \n",
       "75%    ...  1.863772e-01  5.285536e-01  1.476421e-01  4.395266e-01   \n",
       "max    ...  2.720284e+01  1.050309e+01  2.252841e+01  4.584549e+00   \n",
       "\n",
       "                V25           V26           V27           V28         Amount  \\\n",
       "count  2.848070e+05  2.848070e+05  2.848070e+05  2.848070e+05  284807.000000   \n",
       "mean   5.340915e-16  1.687098e-15 -3.666453e-16 -1.220404e-16      88.349619   \n",
       "std    5.212781e-01  4.822270e-01  4.036325e-01  3.300833e-01     250.120109   \n",
       "min   -1.029540e+01 -2.604551e+00 -2.256568e+01 -1.543008e+01       0.000000   \n",
       "25%   -3.171451e-01 -3.269839e-01 -7.083953e-02 -5.295979e-02       5.600000   \n",
       "50%    1.659350e-02 -5.213911e-02  1.342146e-03  1.124383e-02      22.000000   \n",
       "75%    3.507156e-01  2.409522e-01  9.104512e-02  7.827995e-02      77.165000   \n",
       "max    7.519589e+00  3.517346e+00  3.161220e+01  3.384781e+01   25691.160000   \n",
       "\n",
       "               Class  \n",
       "count  284807.000000  \n",
       "mean        0.001727  \n",
       "std         0.041527  \n",
       "min         0.000000  \n",
       "25%         0.000000  \n",
       "50%         0.000000  \n",
       "75%         0.000000  \n",
       "max         1.000000  \n",
       "\n",
       "[8 rows x 31 columns]"
      ]
     },
     "execution_count": 6,
     "metadata": {},
     "output_type": "execute_result"
    }
   ],
   "source": [
    "df.describe()"
   ]
  },
  {
   "cell_type": "markdown",
   "metadata": {},
   "source": [
    "Time 컬럼은 transaction에 대한 절대 시간인데, 여기서는 데이터를 다루기 힘들게 한다. 그래서 그냥 이 컬럼을 없앤다."
   ]
  },
  {
   "cell_type": "code",
   "execution_count": 7,
   "metadata": {},
   "outputs": [
    {
     "data": {
      "text/plain": [
       "Time      0\n",
       "V1        0\n",
       "V2        0\n",
       "V3        0\n",
       "V4        0\n",
       "V5        0\n",
       "V6        0\n",
       "V7        0\n",
       "V8        0\n",
       "V9        0\n",
       "V10       0\n",
       "V11       0\n",
       "V12       0\n",
       "V13       0\n",
       "V14       0\n",
       "V15       0\n",
       "V16       0\n",
       "V17       0\n",
       "V18       0\n",
       "V19       0\n",
       "V20       0\n",
       "V21       0\n",
       "V22       0\n",
       "V23       0\n",
       "V24       0\n",
       "V25       0\n",
       "V26       0\n",
       "V27       0\n",
       "V28       0\n",
       "Amount    0\n",
       "Class     0\n",
       "dtype: int64"
      ]
     },
     "execution_count": 7,
     "metadata": {},
     "output_type": "execute_result"
    }
   ],
   "source": [
    "df.isnull().sum()"
   ]
  },
  {
   "cell_type": "code",
   "execution_count": 8,
   "metadata": {},
   "outputs": [],
   "source": [
    "df = df.drop('Time',axis=1)"
   ]
  },
  {
   "cell_type": "markdown",
   "metadata": {},
   "source": [
    "Class 컬럼을 제외하고 데이터의 값을 X에 넣고, Y에는 Class 컬럼에 해당하는 값을 넣는다."
   ]
  },
  {
   "cell_type": "code",
   "execution_count": 9,
   "metadata": {},
   "outputs": [
    {
     "name": "stdout",
     "output_type": "stream",
     "text": [
      "(284807, 29)\n"
     ]
    }
   ],
   "source": [
    "X = df.drop('Class',axis=1).values \n",
    "y = df['Class'].values\n",
    "print(X.shape)"
   ]
  },
  {
   "cell_type": "code",
   "execution_count": 10,
   "metadata": {},
   "outputs": [
    {
     "data": {
      "text/plain": [
       "array([-1.35980713e+00, -7.27811733e-02,  2.53634674e+00,  1.37815522e+00,\n",
       "       -3.38320770e-01,  4.62387778e-01,  2.39598554e-01,  9.86979013e-02,\n",
       "        3.63786970e-01,  9.07941720e-02, -5.51599533e-01, -6.17800856e-01,\n",
       "       -9.91389847e-01, -3.11169354e-01,  1.46817697e+00, -4.70400525e-01,\n",
       "        2.07971242e-01,  2.57905802e-02,  4.03992960e-01,  2.51412098e-01,\n",
       "       -1.83067779e-02,  2.77837576e-01, -1.10473910e-01,  6.69280749e-02,\n",
       "        1.28539358e-01, -1.89114844e-01,  1.33558377e-01, -2.10530535e-02,\n",
       "        1.49620000e+02])"
      ]
     },
     "execution_count": 10,
     "metadata": {},
     "output_type": "execute_result"
    }
   ],
   "source": [
    "X[0]"
   ]
  },
  {
   "cell_type": "markdown",
   "metadata": {},
   "source": [
    "이제 feature scale이 필요로 한다. 피처 스케일링은 모델이 좋은 데이터의 표현을 쉽게 학습할 수 있다. feature의 스케일을 0에서 1사이로 맞추겠다. 그러나 이 방법은 이상치에 민감하다는 것을 알아야 한다. 각 컬럼에 대해 최소값을 빼서 최소값이 0이 되도록 한다. 그 다음 최댓값으로 나눈다. 최댓값이 1이 되로록 최댓값으로 나눈다. "
   ]
  },
  {
   "cell_type": "code",
   "execution_count": 11,
   "metadata": {},
   "outputs": [],
   "source": [
    "X -= X.min(axis = 0)\n",
    "X /= X.max(axis = 0)"
   ]
  },
  {
   "cell_type": "code",
   "execution_count": 12,
   "metadata": {},
   "outputs": [
    {
     "data": {
      "text/plain": [
       "0.5213456986251124"
      ]
     },
     "execution_count": 12,
     "metadata": {},
     "output_type": "execute_result"
    }
   ],
   "source": [
    "X.mean()"
   ]
  },
  {
   "cell_type": "markdown",
   "metadata": {},
   "source": [
    "그런 다음 데이터를 나누자."
   ]
  },
  {
   "cell_type": "code",
   "execution_count": 13,
   "metadata": {},
   "outputs": [],
   "source": [
    "from sklearn.model_selection import train_test_split\n",
    "X_train, X_test, y_train, y_test = train_test_split(X, y, test_size=0.1)"
   ]
  },
  {
   "cell_type": "markdown",
   "metadata": {},
   "source": [
    "이전에 만들었던 autoencoder와 같은 걸 만드는데 차원을 다르게 해보겠다. 입력은 29차원이고 12차원으로 압축하고 다시 29차원으로 복구한다. 여기서 12차원은 임의로 정한 것이다. "
   ]
  },
  {
   "cell_type": "code",
   "execution_count": 14,
   "metadata": {},
   "outputs": [],
   "source": [
    "from keras.models import Model\n",
    "from keras.layers import Input, Dense"
   ]
  },
  {
   "cell_type": "markdown",
   "metadata": {},
   "source": [
    "디코드 데이터를 위해 활성화 함수로 시그모이드 함수를 사용하겠다. 데이터의 스케일을 0과 1사이로 만들어야 하기 때문에 시그모이드만 가능하다. tanh 함수를 인코딩 레이어에 사용한다. 인코딩된 값이 -1과 1사이에 있어야 하고 실험적으로 잘 작동해서 쓴다. 개인의 필요에 따라 다른 활성화 함수를 사용할 수 있다.\n",
    "\n",
    "만약 이미지 또는 깊은 신경망으로 작업한다면 ReLU activation이 좋은 선택이다. 그러나 shallower network를 지금과 같은 작업에 사용한다면 tanh는 잘 작동한다."
   ]
  },
  {
   "cell_type": "code",
   "execution_count": 15,
   "metadata": {},
   "outputs": [],
   "source": [
    "data_in = Input(shape=(29,))\n",
    "encoded = Dense(12,activation='tanh')(data_in)\n",
    "decoded = Dense(29,activation='sigmoid')(encoded)\n",
    "autoencoder = Model(data_in,decoded)"
   ]
  },
  {
   "cell_type": "markdown",
   "metadata": {},
   "source": [
    "이 예제에서 우리는 mean squared error loss를 사용한다. 시그모이드 활성화 함수를 MSE와 같이 사용하는게 일반적이지 않아서 이상하게 보일 수 있다. 보통 시그모이드 함수는 cross-entropy loss와 같이 사용한다. 그러나  크로스 엔트로피는 0 또는 1 과 같은 값에 쓰이는데 분류 문제에 적합하다.\n",
    "\n",
    "우리의 credit card 예제에서, 대부분의 값은 0.5이다. MSE는 타겟이 binary가 아니라 범위의 값을 잘 다룬다. "
   ]
  },
  {
   "cell_type": "code",
   "execution_count": 16,
   "metadata": {},
   "outputs": [],
   "source": [
    "autoencoder.compile(optimizer='adam', loss='mean_squared_error')"
   ]
  },
  {
   "cell_type": "code",
   "execution_count": 17,
   "metadata": {},
   "outputs": [
    {
     "data": {
      "text/plain": [
       "(256326, 29)"
      ]
     },
     "execution_count": 17,
     "metadata": {},
     "output_type": "execute_result"
    }
   ],
   "source": [
    "X_train.shape"
   ]
  },
  {
   "cell_type": "code",
   "execution_count": 18,
   "metadata": {},
   "outputs": [
    {
     "name": "stdout",
     "output_type": "stream",
     "text": [
      "Epoch 1/20\n",
      "2003/2003 [==============================] - 3s 2ms/step - loss: 0.0033 - val_loss: 0.0015\n",
      "Epoch 2/20\n",
      "2003/2003 [==============================] - 3s 1ms/step - loss: 0.0012 - val_loss: 8.7726e-04\n",
      "Epoch 3/20\n",
      "2003/2003 [==============================] - 3s 1ms/step - loss: 6.7273e-04 - val_loss: 5.2751e-04\n",
      "Epoch 4/20\n",
      "2003/2003 [==============================] - 3s 1ms/step - loss: 5.0542e-04 - val_loss: 4.6592e-04\n",
      "Epoch 5/20\n",
      "2003/2003 [==============================] - 3s 2ms/step - loss: 3.9705e-04 - val_loss: 3.4914e-04\n",
      "Epoch 6/20\n",
      "2003/2003 [==============================] - 3s 2ms/step - loss: 3.2165e-04 - val_loss: 2.9611e-04\n",
      "Epoch 7/20\n",
      "2003/2003 [==============================] - 3s 2ms/step - loss: 2.7830e-04 - val_loss: 2.6164e-04\n",
      "Epoch 8/20\n",
      "2003/2003 [==============================] - 3s 2ms/step - loss: 2.5266e-04 - val_loss: 2.4373e-04\n",
      "Epoch 9/20\n",
      "2003/2003 [==============================] - 3s 2ms/step - loss: 2.3972e-04 - val_loss: 2.3471e-04\n",
      "Epoch 10/20\n",
      "2003/2003 [==============================] - 3s 2ms/step - loss: 2.3132e-04 - val_loss: 2.2707e-04\n",
      "Epoch 11/20\n",
      "2003/2003 [==============================] - 3s 2ms/step - loss: 2.2498e-04 - val_loss: 2.2287e-04\n",
      "Epoch 12/20\n",
      "2003/2003 [==============================] - 3s 2ms/step - loss: 2.2030e-04 - val_loss: 2.1845e-04\n",
      "Epoch 13/20\n",
      "2003/2003 [==============================] - 3s 2ms/step - loss: 2.1705e-04 - val_loss: 2.1601e-04\n",
      "Epoch 14/20\n",
      "2003/2003 [==============================] - 3s 2ms/step - loss: 2.1481e-04 - val_loss: 2.1456e-04\n",
      "Epoch 15/20\n",
      "2003/2003 [==============================] - 3s 2ms/step - loss: 2.1308e-04 - val_loss: 2.1238e-04\n",
      "Epoch 16/20\n",
      "2003/2003 [==============================] - 3s 2ms/step - loss: 2.1159e-04 - val_loss: 2.1121e-04\n",
      "Epoch 17/20\n",
      "2003/2003 [==============================] - 3s 2ms/step - loss: 2.1026e-04 - val_loss: 2.0978e-04\n",
      "Epoch 18/20\n",
      "2003/2003 [==============================] - 3s 2ms/step - loss: 2.0909e-04 - val_loss: 2.0836e-04\n",
      "Epoch 19/20\n",
      "2003/2003 [==============================] - 3s 2ms/step - loss: 2.0811e-04 - val_loss: 2.0786e-04\n",
      "Epoch 20/20\n",
      "2003/2003 [==============================] - 3s 2ms/step - loss: 2.0711e-04 - val_loss: 2.0633e-04\n"
     ]
    },
    {
     "data": {
      "text/plain": [
       "<tensorflow.python.keras.callbacks.History at 0x2091aa787f0>"
      ]
     },
     "execution_count": 18,
     "metadata": {},
     "output_type": "execute_result"
    }
   ],
   "source": [
    "autoencoder.fit(X_train,\n",
    "                X_train,\n",
    "                epochs = 20, \n",
    "                batch_size=128, \n",
    "                validation_data=(X_test,X_test))"
   ]
  },
  {
   "cell_type": "code",
   "execution_count": 19,
   "metadata": {},
   "outputs": [
    {
     "data": {
      "text/plain": [
       "0.5213739550364707"
      ]
     },
     "execution_count": 19,
     "metadata": {},
     "output_type": "execute_result"
    }
   ],
   "source": [
    "X_test.mean()"
   ]
  },
  {
   "cell_type": "markdown",
   "metadata": {},
   "source": [
    "loss 값이 작은데, autoencoder가 잘 작동했는지 어떻게 알 수 있을까? 육안으로 조사하면 될 것이다. 사람은 시각저인 것을 잘 판단하지만 추상적인 숫자를 잘 판단하진 않는다. \n",
    "\n",
    "육안으로 알기 위해, 테스트 데이터의 서브셋을 autoencoder를 통해 실행하여 예측을 해보자."
   ]
  },
  {
   "cell_type": "code",
   "execution_count": 20,
   "metadata": {},
   "outputs": [],
   "source": [
    "pred = autoencoder.predict(X_test[0:10])"
   ]
  },
  {
   "cell_type": "code",
   "execution_count": 21,
   "metadata": {},
   "outputs": [
    {
     "data": {
      "text/plain": [
       "<Figure size 1000x700 with 1 Axes>"
      ]
     },
     "metadata": {},
     "output_type": "display_data"
    }
   ],
   "source": [
    "import matplotlib.pyplot as plt\n",
    "import numpy as np\n",
    "\n",
    "width = 0.8\n",
    "\n",
    "prediction = pred[9]\n",
    "true_value = X_test[9]\n",
    "\n",
    "indices = np.arange(len(prediction))\n",
    "\n",
    "fig = plt.figure(figsize=(10,7))\n",
    "\n",
    "plt.bar(indices, prediction, width=width, \n",
    "        color='b', label='Predicted Value')\n",
    "\n",
    "plt.bar([i+0.25*width for i in indices], true_value, \n",
    "        width=0.5*width, color='r', alpha=0.5, label='True Value')\n",
    "\n",
    "plt.xticks(indices+width/2., \n",
    "           ['V{}'.format(i) for i in range(len(prediction))] )\n",
    "\n",
    "plt.legend()\n",
    "\n",
    "plt.show()"
   ]
  },
  {
   "cell_type": "markdown",
   "metadata": {},
   "source": [
    "위에서 보듯이 오리지널 값을 잘 만들어냈다. "
   ]
  },
  {
   "cell_type": "markdown",
   "metadata": {},
   "source": [
    "### Visualizing latent spaces with t_SNE\n",
    "\n",
    "autoencoder의 주요한 이점은 transaction을 저차원으로 표현하여 transaction의 주요한 요소를 캡처할 수 있다는 것이다."
   ]
  },
  {
   "cell_type": "code",
   "execution_count": 22,
   "metadata": {},
   "outputs": [],
   "source": [
    "encoder = Model(data_in, encoded)"
   ]
  },
  {
   "cell_type": "code",
   "execution_count": 23,
   "metadata": {},
   "outputs": [],
   "source": [
    "enc = encoder.predict(X_test)"
   ]
  },
  {
   "cell_type": "markdown",
   "metadata": {},
   "source": [
    "그러나 이 인코딩이 어떻게 fraud에 대한 의미있는 정보를 포함하고 있는지 알 수 있을까? 시각적으로 표현하는 것이 중요한데 인코딩 차원이 인풋 데이터보다 적긴 하지만 그래도 12차원이고 12차원 공간을 사람이 이해하기란 어렵다. 그래서 저차원으로 인코딩 모델의 특징을 보존하면서 표현할 필요가 있다.\n",
    "\n",
    "이 경우 주요하게 생각해봐야 하는 개념은 proximity(이웃, 근접)이다. 12차원의 이웃을 2차원으로 표현해야 하는데 이웃을 잘 다뤄야 한다. 고차원에서의 이웃이 저차원에서도 이웃이 되어야 한다는 말이다.\n",
    "\n",
    "이웃을 보존하는 것은 fraud의 군집을 찾기를 원하기 때문에 중요하다. 고차원을 저차원으로 바꿀때 이웃을 보존하면서 바꾸는 방법으로 t-distributed stochastic neighbor embedding(t-SNE)가 있다.\n",
    "\n",
    "t-SNE는 무작위 표본의 모든 점에서 두 점이 이웃일 확률을 나타낸다. 고차원 데이터와 동일한 가까운 이웃일 확률을 갖는 데이터의 저차원을 찾는다."
   ]
  },
  {
   "cell_type": "code",
   "execution_count": 25,
   "metadata": {},
   "outputs": [
    {
     "name": "stdout",
     "output_type": "stream",
     "text": [
      "[t-SNE] Computing 91 nearest neighbors...\n",
      "[t-SNE] Indexed 28481 samples in 0.084s...\n",
      "[t-SNE] Computed neighbors for 28481 samples in 10.099s...\n",
      "[t-SNE] Computed conditional probabilities for sample 1000 / 28481\n",
      "[t-SNE] Computed conditional probabilities for sample 2000 / 28481\n",
      "[t-SNE] Computed conditional probabilities for sample 3000 / 28481\n",
      "[t-SNE] Computed conditional probabilities for sample 4000 / 28481\n",
      "[t-SNE] Computed conditional probabilities for sample 5000 / 28481\n",
      "[t-SNE] Computed conditional probabilities for sample 6000 / 28481\n",
      "[t-SNE] Computed conditional probabilities for sample 7000 / 28481\n",
      "[t-SNE] Computed conditional probabilities for sample 8000 / 28481\n",
      "[t-SNE] Computed conditional probabilities for sample 9000 / 28481\n",
      "[t-SNE] Computed conditional probabilities for sample 10000 / 28481\n",
      "[t-SNE] Computed conditional probabilities for sample 11000 / 28481\n",
      "[t-SNE] Computed conditional probabilities for sample 12000 / 28481\n",
      "[t-SNE] Computed conditional probabilities for sample 13000 / 28481\n",
      "[t-SNE] Computed conditional probabilities for sample 14000 / 28481\n",
      "[t-SNE] Computed conditional probabilities for sample 15000 / 28481\n",
      "[t-SNE] Computed conditional probabilities for sample 16000 / 28481\n",
      "[t-SNE] Computed conditional probabilities for sample 17000 / 28481\n",
      "[t-SNE] Computed conditional probabilities for sample 18000 / 28481\n",
      "[t-SNE] Computed conditional probabilities for sample 19000 / 28481\n",
      "[t-SNE] Computed conditional probabilities for sample 20000 / 28481\n",
      "[t-SNE] Computed conditional probabilities for sample 21000 / 28481\n",
      "[t-SNE] Computed conditional probabilities for sample 22000 / 28481\n",
      "[t-SNE] Computed conditional probabilities for sample 23000 / 28481\n",
      "[t-SNE] Computed conditional probabilities for sample 24000 / 28481\n",
      "[t-SNE] Computed conditional probabilities for sample 25000 / 28481\n",
      "[t-SNE] Computed conditional probabilities for sample 26000 / 28481\n",
      "[t-SNE] Computed conditional probabilities for sample 27000 / 28481\n",
      "[t-SNE] Computed conditional probabilities for sample 28000 / 28481\n",
      "[t-SNE] Computed conditional probabilities for sample 28481 / 28481\n",
      "[t-SNE] Mean sigma: 0.079856\n",
      "[t-SNE] KL divergence after 250 iterations with early exaggeration: 93.841606\n",
      "[t-SNE] KL divergence after 5000 iterations: 1.631967\n"
     ]
    }
   ],
   "source": [
    "from sklearn.manifold import TSNE\n",
    "tsne = TSNE(verbose=1, n_iter=5000)\n",
    "res = tsne.fit_transform(enc)"
   ]
  },
  {
   "cell_type": "code",
   "execution_count": 26,
   "metadata": {},
   "outputs": [
    {
     "data": {
      "image/png": "[encoded data removed]",
      "text/plain": [
       "<Figure size 720x504 with 1 Axes>"
      ]
     },
     "metadata": {
      "needs_background": "light"
     },
     "output_type": "display_data"
    }
   ],
   "source": [
    "fig = plt.figure(figsize=(10,7))\n",
    "scatter = plt.scatter(res[:,0], res[:,1], c=y_test, cmap='coolwarm', s=0.6)\n",
    "scatter.axes.get_xaxis().set_visible(False)\n",
    "scatter.axes.get_yaxis().set_visible(False)"
   ]
  },
  {
   "cell_type": "markdown",
   "metadata": {},
   "source": [
    "### Variational autoencoders(VAE)\n",
    "\n",
    "오토인코터는 PCA와 기본적으로 비슷하다. 그러나 generative 모델로 확장할 수 있다는 특징이 있다. fraud case에서 인코더는 transaction의 가장 중요한 특징을 나타낼 수 있는 가능한 인코딩을 만들어 낼 수 있고 디코더는 모든 인코딩을 오리지널 transaction으로 바꿀 수 있다.\n",
    "\n",
    "transaction에 대한 데이터를 생성할 수 있도록 해주기 때문에 유용하다. fraud detection의 문제는 fraudulent transaction이 많지 않다는 것이다. VAE를 사용하면 트랜잭션 인코딩을 마음 껏 샘플링할 수 있고 더 많은 사기 거래 데이터를 학습 시킬 수 있다. \n",
    "\n",
    "그래서 VAE는 어떻게 작동할까? 하나의 compressed representation vector를 갖는 대신, 두 개를 갖는다. $u$는 mean encoding을 위한 것이고 하나는 이 인코딩의 standard deviation을 위한 $\\sigma$이다. \n",
    "\n",
    "![VAE](https://datascienceschool.net/upfiles/f38b90fa89cb46eba22178edbae07a26.png)"
   ]
  },
  {
   "cell_type": "code",
   "execution_count": null,
   "metadata": {},
   "outputs": [],
   "source": []
  }
 ],
 "metadata": {
  "kernelspec": {
   "display_name": "Python 3",
   "language": "python",
   "name": "python3"
  },
  "language_info": {
   "codemirror_mode": {
    "name": "ipython",
    "version": 3
   },
   "file_extension": ".py",
   "mimetype": "text/x-python",
   "name": "python",
   "nbconvert_exporter": "python",
   "pygments_lexer": "ipython3",
   "version": "3.6.9"
  }
 },
 "nbformat": 4,
 "nbformat_minor": 2
}
