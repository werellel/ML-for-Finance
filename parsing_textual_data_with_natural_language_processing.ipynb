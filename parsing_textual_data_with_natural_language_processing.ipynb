{
 "cells": [
  {
   "cell_type": "markdown",
   "metadata": {},
   "source": [
    "르네상스 테크놀로지의 Peter Brown은 이전에 IBM에서 일하다가 NLP를 적용하여 가장 성공한 계량적으로 헤지 펀드를 운용한 사람이다. 요즘 가장 중요한 정보는 쓰여지거나 말해지는 언어이다. 금융 전문가들에게 대부분의 시간을 어디에 쓰는지 물어보면, 대부분의 시간을 읽는데 쓴다는 것을 알 수 있다. 다양한 애널리스트들의 리포트를 포함하여 헤드라인 등 많은 데이터들이 포함된다. 이러한 정보를 자동으로 처리하면 트레이딩 속도를 높일 수 있고 트레이딩을 위해 다양한 정보를 쓸 수 있으면 전반적으로 비용을 줄일 수 있다.\n",
    "\n",
    "NLP는 금융 분야에 들어왓다. 예를 들면, 보험 회사들은 고객 claim을 자동으로 처리한다. 텍스트에 대한 이해로 금융 분야에 머신러닝을 적용 것이 기본이 되고 있다. \n",
    "\n",
    "역사적으로 NLP는 전통적으로 언어학자들에 의해 손수 만들어진 규칙에 의존했다. 언어학자는 신경망에 의해 대체되고 있다.\n",
    "\n",
    "이번 챕터에서는 케라스에서 어떻게 파워풀한 NLP모델을 만드는지 알아볼 것이며 spaCy NLP 라이브러리에 대해서도 알아볼 것 이다."
   ]
  },
  {
   "cell_type": "markdown",
   "metadata": {},
   "source": [
    "이번 챕터에서는 아래와 같은 항목을 다룬다.\n",
    "Fine-tuning spaCy's models for your own custom application\n"
   ]
  }
 ],
 "metadata": {
  "kernelspec": {
   "display_name": "Python 3",
   "language": "python",
   "name": "python3"
  },
  "language_info": {
   "codemirror_mode": {
    "name": "ipython",
    "version": 3
   },
   "file_extension": ".py",
   "mimetype": "text/x-python",
   "name": "python",
   "nbconvert_exporter": "python",
   "pygments_lexer": "ipython3",
   "version": "3.7.3"
  }
 },
 "nbformat": 4,
 "nbformat_minor": 2
}
